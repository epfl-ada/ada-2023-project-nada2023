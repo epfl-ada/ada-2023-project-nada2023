{
 "cells": [
  {
   "cell_type": "code",
   "execution_count": 3,
   "metadata": {},
   "outputs": [],
   "source": [
    "import pandas as pd\n",
    "import numpy as np\n",
    "import matplotlib.pyplot as plt\n",
    "import seaborn as sns\n",
    "import ast"
   ]
  },
  {
   "cell_type": "code",
   "execution_count": 4,
   "metadata": {},
   "outputs": [],
   "source": [
    "## read the tsv files in MovieSummaries\n",
    "load_movies = pd.read_csv('MovieSummaries/movie.metadata.tsv', sep = '\\t', header = None)\n",
    "load_character = pd.read_csv('MovieSummaries/character.metadata.tsv', sep = '\\t', header = None)\n",
    "\n"
   ]
  },
  {
   "cell_type": "code",
   "execution_count": 5,
   "metadata": {},
   "outputs": [],
   "source": [
    "movies = load_movies.copy()\n",
    "character = load_character.copy()\n"
   ]
  },
  {
   "cell_type": "code",
   "execution_count": 6,
   "metadata": {},
   "outputs": [],
   "source": [
    "# Make the name of the colum of movie: wikip_ID, freebase_ID, name, release date, box office, runtime, languages, countries, genres\t\n",
    "movies.columns = ['Wiki_ID', 'Freebase_ID', 'name', 'release_date', 'box_office', 'runtime', 'languages', 'countries', 'genres']\n",
    "# Make the name of the columns of character wiki_ID, freebase_ID, character_name, actor_DOB, actor_gender, actor_height, actor_ethnicity, actor_name, actor_age, freebase_character_map\n",
    "character.columns = ['Wiki_ID', 'Freebase_ID','release_date', 'character_name', 'actor_DOB', 'actor_gender', 'actor_height', 'actor_ethnicity', 'actor_name', 'actor_age', '10', '11', '12']\n",
    "character = character.drop(['10', '11', '12'], axis = 1)"
   ]
  },
  {
   "cell_type": "code",
   "execution_count": 7,
   "metadata": {},
   "outputs": [
    {
     "data": {
      "text/html": [
       "<div>\n",
       "<style scoped>\n",
       "    .dataframe tbody tr th:only-of-type {\n",
       "        vertical-align: middle;\n",
       "    }\n",
       "\n",
       "    .dataframe tbody tr th {\n",
       "        vertical-align: top;\n",
       "    }\n",
       "\n",
       "    .dataframe thead th {\n",
       "        text-align: right;\n",
       "    }\n",
       "</style>\n",
       "<table border=\"1\" class=\"dataframe\">\n",
       "  <thead>\n",
       "    <tr style=\"text-align: right;\">\n",
       "      <th></th>\n",
       "      <th>tconst</th>\n",
       "      <th>Wiki_ID</th>\n",
       "      <th>Freebase_ID</th>\n",
       "      <th>country</th>\n",
       "      <th>movie</th>\n",
       "      <th>gross</th>\n",
       "    </tr>\n",
       "  </thead>\n",
       "  <tbody>\n",
       "    <tr>\n",
       "      <th>0</th>\n",
       "      <td>tt0228333</td>\n",
       "      <td>975900</td>\n",
       "      <td>/m/03vyhn</td>\n",
       "      <td>Domestic</td>\n",
       "      <td>ghosts of mars</td>\n",
       "      <td>8709640.0</td>\n",
       "    </tr>\n",
       "    <tr>\n",
       "      <th>1</th>\n",
       "      <td>tt0228333</td>\n",
       "      <td>975900</td>\n",
       "      <td>/m/03vyhn</td>\n",
       "      <td>France</td>\n",
       "      <td>ghosts of mars</td>\n",
       "      <td>1937390.0</td>\n",
       "    </tr>\n",
       "    <tr>\n",
       "      <th>2</th>\n",
       "      <td>tt0228333</td>\n",
       "      <td>975900</td>\n",
       "      <td>/m/03vyhn</td>\n",
       "      <td>Spain</td>\n",
       "      <td>ghosts of mars</td>\n",
       "      <td>509536.0</td>\n",
       "    </tr>\n",
       "    <tr>\n",
       "      <th>3</th>\n",
       "      <td>tt0228333</td>\n",
       "      <td>975900</td>\n",
       "      <td>/m/03vyhn</td>\n",
       "      <td>Germany</td>\n",
       "      <td>ghosts of mars</td>\n",
       "      <td>496679.0</td>\n",
       "    </tr>\n",
       "    <tr>\n",
       "      <th>4</th>\n",
       "      <td>tt0228333</td>\n",
       "      <td>975900</td>\n",
       "      <td>/m/03vyhn</td>\n",
       "      <td>United Kingdom</td>\n",
       "      <td>ghosts of mars</td>\n",
       "      <td>148898.0</td>\n",
       "    </tr>\n",
       "    <tr>\n",
       "      <th>...</th>\n",
       "      <td>...</td>\n",
       "      <td>...</td>\n",
       "      <td>...</td>\n",
       "      <td>...</td>\n",
       "      <td>...</td>\n",
       "      <td>...</td>\n",
       "    </tr>\n",
       "    <tr>\n",
       "      <th>90661</th>\n",
       "      <td>tt0120202</td>\n",
       "      <td>1918494</td>\n",
       "      <td>/m/0660qx</td>\n",
       "      <td>Denmark</td>\n",
       "      <td>state and main</td>\n",
       "      <td>13732.0</td>\n",
       "    </tr>\n",
       "    <tr>\n",
       "      <th>90662</th>\n",
       "      <td>tt0120202</td>\n",
       "      <td>1918494</td>\n",
       "      <td>/m/0660qx</td>\n",
       "      <td>Australia</td>\n",
       "      <td>state and main</td>\n",
       "      <td>385631.0</td>\n",
       "    </tr>\n",
       "    <tr>\n",
       "      <th>90663</th>\n",
       "      <td>tt0107057</td>\n",
       "      <td>664006</td>\n",
       "      <td>/m/030xw6</td>\n",
       "      <td>Domestic</td>\n",
       "      <td>guilty as sin</td>\n",
       "      <td>22866222.0</td>\n",
       "    </tr>\n",
       "    <tr>\n",
       "      <th>90664</th>\n",
       "      <td>tt1606259</td>\n",
       "      <td>34980460</td>\n",
       "      <td>/m/0g4pl34</td>\n",
       "      <td>Domestic</td>\n",
       "      <td>knuckle</td>\n",
       "      <td>2647.0</td>\n",
       "    </tr>\n",
       "    <tr>\n",
       "      <th>90665</th>\n",
       "      <td>tt1606259</td>\n",
       "      <td>34980460</td>\n",
       "      <td>/m/0g4pl34</td>\n",
       "      <td>United Kingdom</td>\n",
       "      <td>knuckle</td>\n",
       "      <td>22008.0</td>\n",
       "    </tr>\n",
       "  </tbody>\n",
       "</table>\n",
       "<p>90666 rows × 6 columns</p>\n",
       "</div>"
      ],
      "text/plain": [
       "          tconst   Wiki_ID Freebase_ID         country           movie  \\\n",
       "0      tt0228333    975900   /m/03vyhn        Domestic  ghosts of mars   \n",
       "1      tt0228333    975900   /m/03vyhn          France  ghosts of mars   \n",
       "2      tt0228333    975900   /m/03vyhn           Spain  ghosts of mars   \n",
       "3      tt0228333    975900   /m/03vyhn         Germany  ghosts of mars   \n",
       "4      tt0228333    975900   /m/03vyhn  United Kingdom  ghosts of mars   \n",
       "...          ...       ...         ...             ...             ...   \n",
       "90661  tt0120202   1918494   /m/0660qx         Denmark  state and main   \n",
       "90662  tt0120202   1918494   /m/0660qx       Australia  state and main   \n",
       "90663  tt0107057    664006   /m/030xw6        Domestic   guilty as sin   \n",
       "90664  tt1606259  34980460  /m/0g4pl34        Domestic         knuckle   \n",
       "90665  tt1606259  34980460  /m/0g4pl34  United Kingdom         knuckle   \n",
       "\n",
       "            gross  \n",
       "0       8709640.0  \n",
       "1       1937390.0  \n",
       "2        509536.0  \n",
       "3        496679.0  \n",
       "4        148898.0  \n",
       "...           ...  \n",
       "90661     13732.0  \n",
       "90662    385631.0  \n",
       "90663  22866222.0  \n",
       "90664      2647.0  \n",
       "90665     22008.0  \n",
       "\n",
       "[90666 rows x 6 columns]"
      ]
     },
     "execution_count": 7,
     "metadata": {},
     "output_type": "execute_result"
    }
   ],
   "source": [
    "## read grossed merged clean csv\n",
    "gross = pd.read_csv('gross_merged_clean.csv')\n",
    "gross"
   ]
  },
  {
   "cell_type": "markdown",
   "metadata": {},
   "source": [
    "## Question 1\n",
    "\n",
    "For The first question we will need the gross of the movies in the different region of the world, as well as their release year and their genre.\n"
   ]
  },
  {
   "cell_type": "code",
   "execution_count": 8,
   "metadata": {},
   "outputs": [
    {
     "name": "stdout",
     "output_type": "stream",
     "text": [
      "Percentage of missing 'box_office' values before imputation: 89.72%\n",
      "Average coherence deviation: 0.34\n"
     ]
    }
   ],
   "source": [
    "movies_clean_gross = movies.copy()\n",
    "gross_clean = gross.copy()\n",
    "\n",
    "# Sum up the gross for each movie in the `gross` dataframe\n",
    "gross_sum = gross_clean.groupby('Wiki_ID')['gross'].sum().reset_index()\n",
    "\n",
    "# Merge this sum with the `movies` dataframe\n",
    "movies_with_gross = movies_clean_gross.merge(gross_sum, on='Wiki_ID', how='left')\n",
    "\n",
    "# Filter out rows where 'box_office' is not missing\n",
    "non_missing_box_office = movies_with_gross.dropna(subset=['box_office'])\n",
    "\n",
    "\n",
    "missing_percentage_before = movies_with_gross['box_office'].isna().sum() / len(movies_with_gross) * 100\n",
    "print(f\"Percentage of missing 'box_office' values before imputation: {missing_percentage_before:.2f}%\")\n",
    "\n",
    "# Check coherence for non-missing 'box_office' values\n",
    "coherence_check = ((non_missing_box_office['box_office'] - non_missing_box_office['gross']).abs() / non_missing_box_office['box_office']).mean()\n",
    "print(f\"Average coherence deviation: {coherence_check:.2f}\")\n"
   ]
  },
  {
   "cell_type": "markdown",
   "metadata": {},
   "source": [
    "There are a lot of box_office missing values, and for the ones we have, the summed gross differ from it by 34%, so replacing the Nans by the summed gross will not be accurate.\n",
    "\n",
    "Instead, we should use the summed gross as the global box office for all the movies, and we can drop the box_office feature."
   ]
  },
  {
   "cell_type": "code",
   "execution_count": 9,
   "metadata": {},
   "outputs": [],
   "source": [
    "movies_with_gross = movies_with_gross.drop(columns=['box_office'])"
   ]
  },
  {
   "cell_type": "code",
   "execution_count": 10,
   "metadata": {},
   "outputs": [],
   "source": [
    "# The release date of the movie is in the format of YYYY-MM-DD, we only need the year \n",
    "# so we split the date and only keep the year\n",
    "movies_clean_release = movies_with_gross.copy()\n",
    "movies_clean_release['release_date'] = movies_clean_release['release_date'].str[:4]\n",
    "movies_clean_release['release_date'] = pd.to_numeric(movies_clean_release['release_date'], errors='coerce')\n",
    "# Here the errors ignore is to keep the nan in the release date column\n",
    "movies_clean_release['release_date'] = movies_clean_release['release_date'].astype(np.int64, errors='ignore')"
   ]
  },
  {
   "cell_type": "code",
   "execution_count": 11,
   "metadata": {},
   "outputs": [],
   "source": [
    "movies_clean_genre = movies_clean_release.copy()\n",
    "movies_clean_genre['genres'] = movies_clean_genre['genres'].apply(lambda x: list(ast.literal_eval(x).values()))\n",
    "# This line is to make the empty list to be nan so the nan are uniform\n",
    "movies_clean_genre['genres'] = movies_clean_genre['genres'].apply(lambda x: x if len(x) != 0 else np.nan)\n"
   ]
  },
  {
   "cell_type": "code",
   "execution_count": 12,
   "metadata": {},
   "outputs": [],
   "source": [
    "gross_genre_release = gross_clean.copy()\n",
    "#merge gross and movies_clean_genre on wiki_ID\n",
    "gross_genre_release = gross_genre_release.merge(movies_clean_genre[['Wiki_ID', 'release_date', 'genres']], on = 'Wiki_ID', how = 'left')\n"
   ]
  },
  {
   "cell_type": "code",
   "execution_count": 13,
   "metadata": {},
   "outputs": [
    {
     "name": "stdout",
     "output_type": "stream",
     "text": [
      "The percentage of missing values in the genre column is 0.14%\n"
     ]
    }
   ],
   "source": [
    "# count the numers of nan in genre\n",
    "missing_genre_value = gross_genre_release.drop_duplicates(subset='Wiki_ID')['genres'].isna().sum()/gross_genre_release.drop_duplicates(subset='Wiki_ID')['genres'].shape[0]*100\n",
    "print('The percentage of missing values in the genre column is {:.2f}%'.format(missing_genre_value))"
   ]
  },
  {
   "cell_type": "code",
   "execution_count": 14,
   "metadata": {},
   "outputs": [
    {
     "data": {
      "image/png": "[encoded data removed]",
      "text/plain": [
       "<Figure size 1000x600 with 1 Axes>"
      ]
     },
     "metadata": {},
     "output_type": "display_data"
    }
   ],
   "source": [
    "number_of_genres = gross_genre_release.drop_duplicates(subset='Wiki_ID')['genres'].dropna().apply(lambda x: len(x))\n",
    "# histogram of the number of genres\n",
    "plt.figure(figsize=(10, 6))\n",
    "plt.hist(number_of_genres,bins = np.arange(1, 20, 1)-0.5, edgecolor = 'black', linewidth = 1.2)\n",
    "plt.xlabel('Number of Genres')\n",
    "plt.xticks(np.arange(1, 20, 1))\n",
    "plt.ylabel('Frequency')\n",
    "plt.title('Histogram of the Number of Genres')\n",
    "plt.show()"
   ]
  },
  {
   "cell_type": "markdown",
   "metadata": {},
   "source": [
    "We have a very low percentage of genre missing we can therefore have a good analysis about this metric. We don't have any missing values for the release date because it was used as a key when merging the IMdB dataset with the CMU datset"
   ]
  },
  {
   "cell_type": "markdown",
   "metadata": {},
   "source": [
    "## Question 3 "
   ]
  },
  {
   "cell_type": "code",
   "execution_count": 15,
   "metadata": {},
   "outputs": [],
   "source": [
    "movies_clean_country = movies_clean_genre.copy()\n",
    "movies_clean_country['countries'] = movies_clean_country['countries'].apply(lambda x: list(ast.literal_eval(x).values()))\n",
    "# This line is to make the empty list to be nan so the nan are uniform\n",
    "movies_clean_country['countries'] = movies_clean_country['countries'].apply(lambda x: x if len(x) != 0 else np.nan)"
   ]
  },
  {
   "cell_type": "code",
   "execution_count": 16,
   "metadata": {},
   "outputs": [],
   "source": [
    "gross_country = gross_genre_release.copy()\n",
    "#merge gross and movies_clean_genre on wiki_ID\n",
    "gross_country = gross_country.merge(movies_clean_country[['Wiki_ID', 'countries']], on = 'Wiki_ID', how = 'left')"
   ]
  },
  {
   "cell_type": "code",
   "execution_count": 17,
   "metadata": {},
   "outputs": [
    {
     "name": "stdout",
     "output_type": "stream",
     "text": [
      "The percentage of missing values in the countries column is 1.70%\n"
     ]
    }
   ],
   "source": [
    "# count the numers of nan in countries\n",
    "missing_country_value = gross_country.drop_duplicates(subset='Wiki_ID')['countries'].isna().sum()/gross_country.drop_duplicates(subset='Wiki_ID')['countries'].shape[0]*100\n",
    "print('The percentage of missing values in the countries column is {:.2f}%'.format(missing_country_value))"
   ]
  },
  {
   "cell_type": "code",
   "execution_count": 18,
   "metadata": {},
   "outputs": [
    {
     "name": "stdout",
     "output_type": "stream",
     "text": [
      "The number of movies that are co-produced by more than one country is 24.98%\n"
     ]
    },
    {
     "name": "stderr",
     "output_type": "stream",
     "text": [
      "/var/folders/l5/6hdc9vld0fg61cf6tjrw3f100000gn/T/ipykernel_54580/30425266.py:2: UserWarning: Boolean Series key will be reindexed to match DataFrame index.\n",
      "  coprood_count = coprood_count.drop_duplicates(subset='Wiki_ID')[coprood_count['countries'].apply(lambda x: len(x)) > 1].shape[0]/gross_country.drop_duplicates(subset='Wiki_ID')['countries'].shape[0]*100\n"
     ]
    }
   ],
   "source": [
    "coprood_count = gross_country.dropna(subset='countries')\n",
    "coprood_count = coprood_count.drop_duplicates(subset='Wiki_ID')[coprood_count['countries'].apply(lambda x: len(x)) > 1].shape[0]/gross_country.drop_duplicates(subset='Wiki_ID')['countries'].shape[0]*100\n",
    "\n",
    "print('The number of movies that are co-produced by more than one country is {:.2f}%'.format(coprood_count))"
   ]
  },
  {
   "cell_type": "code",
   "execution_count": 19,
   "metadata": {},
   "outputs": [
    {
     "data": {
      "image/png": "[encoded data removed]",
      "text/plain": [
       "<Figure size 1000x600 with 1 Axes>"
      ]
     },
     "metadata": {},
     "output_type": "display_data"
    }
   ],
   "source": [
    "number_of_countries = gross_country.drop_duplicates(subset='Wiki_ID')['countries'].dropna().apply(lambda x: len(x))\n",
    "# histogram of the number of production countries\n",
    "plt.figure(figsize=(10, 6))\n",
    "plt.hist(number_of_countries,bins = np.arange(1, 15, 1)-0.5, edgecolor = 'black', linewidth = 1.2)\n",
    "plt.xlabel('Number of Countries')\n",
    "plt.xticks(np.arange(1, 15, 1))\n",
    "plt.yscale('log')\n",
    "plt.ylabel('Frequency (log)')\n",
    "plt.title('Histogram of the Number of Countries')\n",
    "plt.show()"
   ]
  },
  {
   "cell_type": "markdown",
   "metadata": {},
   "source": [
    "We have a very low percentage of countries missing we can therefore have a good analysis about this metric. And the level of co-production is relatively high so it will still make sense to do our analysis."
   ]
  },
  {
   "cell_type": "markdown",
   "metadata": {},
   "source": [
    "## Question 4"
   ]
  },
  {
   "cell_type": "markdown",
   "metadata": {},
   "source": [
    "For the gender representation in the movie. We decided to only use the values that were given for each of the movies, making the assumption that if the gender of an actor is not given the character was probably a small part. "
   ]
  },
  {
   "cell_type": "code",
   "execution_count": 20,
   "metadata": {},
   "outputs": [],
   "source": [
    "# go in the character dataset and find the percentage of gender F in each movie\n",
    "character_gender = character.copy()\n",
    "\n",
    "#count the number of \"F\" for each wiki_ID in character_gender\n",
    "# groupby wiki_ID and count the number of \"F\" in each group\n",
    "character_groupby = character_gender.groupby('Wiki_ID')\n",
    "character_groupby_tot = character_groupby[\"actor_gender\"].count()\n",
    "character_groupby_F = character_groupby.apply(lambda x: (x['actor_gender'] == 'F').sum())\n",
    "ratio_female_to_total = character_groupby_F / character_groupby_tot\n",
    "\n"
   ]
  },
  {
   "cell_type": "code",
   "execution_count": 21,
   "metadata": {},
   "outputs": [],
   "source": [
    "data = {\n",
    "    'Wiki_ID': ratio_female_to_total.index,\n",
    "    'Ratio_Female_to_Total': ratio_female_to_total.values\n",
    "}\n",
    "\n",
    "# Create DataFrame\n",
    "df_ratio = pd.DataFrame(data)\n",
    "\n",
    "# Reset the index to make it 1-dimensional\n",
    "df_ratio.reset_index(drop=True, inplace=True)"
   ]
  },
  {
   "cell_type": "code",
   "execution_count": 22,
   "metadata": {},
   "outputs": [],
   "source": [
    "movies_clean_gender = movies_clean_country.copy()\n",
    "movies_clean_gender = movies_clean_gender.merge(df_ratio, on = 'Wiki_ID', how = 'left')"
   ]
  },
  {
   "cell_type": "code",
   "execution_count": 23,
   "metadata": {},
   "outputs": [
    {
     "name": "stdout",
     "output_type": "stream",
     "text": [
      "Total entries in character dataframe: 450669\n",
      "Number of missing values in 'actor_ethnicity': 344611\n",
      "Percentage of missing values in 'actor_ethnicity': 76.47%\n"
     ]
    }
   ],
   "source": [
    "# Analyzing Ethnicity Data\n",
    "print(f\"Total entries in character dataframe: {len(character)}\")\n",
    "\n",
    "# Check for missing values in 'actor_ethnicity'\n",
    "missing_ethnicity = character['actor_ethnicity'].isna().sum()\n",
    "print(f\"Number of missing values in 'actor_ethnicity': {missing_ethnicity}\")\n",
    "print(f\"Percentage of missing values in 'actor_ethnicity': {missing_ethnicity / len(character) * 100:.2f}%\")"
   ]
  },
  {
   "cell_type": "code",
   "execution_count": 24,
   "metadata": {},
   "outputs": [
    {
     "name": "stdout",
     "output_type": "stream",
     "text": [
      "actor_ethnicity\n",
      "/m/0dryh9k    15.417036\n",
      "/m/0x67        9.578721\n",
      "/m/041rx       9.542892\n",
      "/m/02w7gg      5.812857\n",
      "/m/033tf_      3.636689\n",
      "                ...    \n",
      "/m/043_z22     0.000943\n",
      "/m/03x_fq7     0.000943\n",
      "/m/01hphz      0.000943\n",
      "/m/033fjj      0.000943\n",
      "/m/013y54      0.000943\n",
      "Name: proportion, Length: 479, dtype: float64\n"
     ]
    }
   ],
   "source": [
    "#Filling Nan with 'Unknown' ethnicity\n",
    "character_ethnicity = character_gender.copy()\n",
    "character_ethnicity['actor_ethnicity'] = character_ethnicity['actor_ethnicity']\n",
    "\n",
    "# Analyzing ethnicity distribution\n",
    "ethnicity_distribution = character['actor_ethnicity'].value_counts(normalize=True) * 100\n",
    "print(ethnicity_distribution)"
   ]
  },
  {
   "cell_type": "markdown",
   "metadata": {},
   "source": [
    "We have the distribution of the ethnicities, but they are encoded as ids. Lets decode them :"
   ]
  },
  {
   "cell_type": "code",
   "execution_count": 25,
   "metadata": {},
   "outputs": [
    {
     "name": "stdout",
     "output_type": "stream",
     "text": [
      "actor_ethnicity\n",
      "Indian person             15.417036\n",
      "African Americans          9.578721\n",
      "Jewish people              9.542892\n",
      "English people             5.812857\n",
      "Irish Americans            3.636689\n",
      "                            ...    \n",
      "/m/043_z22                 0.000943\n",
      "Aboriginal Australians     0.000943\n",
      "Indian diaspora            0.000943\n",
      "Ho-Chunk                   0.000943\n",
      "Han Chinese people         0.000943\n",
      "Name: proportion, Length: 479, dtype: float64\n"
     ]
    }
   ],
   "source": [
    "# Load the CSV file into a DataFrame\n",
    "ethnicity_labels_df = pd.read_csv('./dictionnaries/ethnicity_labels.csv')\n",
    "\n",
    "# Convert the DataFrame to a dictionary\n",
    "ethnicity_labels = dict(zip(ethnicity_labels_df['Freebase ID'], ethnicity_labels_df['Ethnicity Label']))\n",
    "\n",
    "# Replace the codes in 'ethnicity_distribution' with their labels\n",
    "ethnicity_distribution_labeled = ethnicity_distribution.rename(index=ethnicity_labels)\n",
    "\n",
    "# Print the updated distribution\n",
    "print(ethnicity_distribution_labeled)"
   ]
  },
  {
   "cell_type": "markdown",
   "metadata": {},
   "source": [
    "We can see that some ethnicities aren't translated. Lets analyse them."
   ]
  },
  {
   "cell_type": "code",
   "execution_count": 26,
   "metadata": {},
   "outputs": [
    {
     "name": "stdout",
     "output_type": "stream",
     "text": [
      "Most common untranslated ethnicity: /m/044038p (1885 occurrences)\n",
      "Five most common untranslated ethnicities:\n",
      "actor_ethnicity\n",
      "/m/044038p    1885\n",
      "/m/02p1pl6     200\n",
      "/m/04tvpv      197\n",
      "/m/02p656s     121\n",
      "/m/0283js_      81\n",
      "Name: count, dtype: int64\n"
     ]
    }
   ],
   "source": [
    "# Identifying untranslated ethnicity codes\n",
    "untranslated_codes = set(character_ethnicity['actor_ethnicity']) - set(ethnicity_labels.keys())\n",
    "untranslated_codes = {code for code in untranslated_codes if isinstance(code, str)}  # Ensure that NaNs are not included\n",
    "\n",
    "# Counting the number of untranslated ethnicities\n",
    "untranslated_counts = character_ethnicity['actor_ethnicity'].apply(lambda x: x if x in untranslated_codes else np.nan).value_counts()\n",
    "\n",
    "character_ethnicity_df = character_ethnicity.copy()\n",
    "\n",
    "# Find the most common untranslated ethnicity\n",
    "if not untranslated_counts.empty:\n",
    "    most_common_untranslated = untranslated_counts.idxmax()\n",
    "    most_common_untranslated_count = untranslated_counts.max()\n",
    "    print(f\"Most common untranslated ethnicity: {most_common_untranslated} ({most_common_untranslated_count} occurrences)\")\n",
    "\n",
    "    print(\"Five most common untranslated ethnicities:\")\n",
    "    print(untranslated_counts.head(5))\n",
    "\n",
    "else:\n",
    "    print(\"No untranslated ethnicity codes found.\")"
   ]
  },
  {
   "cell_type": "markdown",
   "metadata": {},
   "source": [
    "There are 1885 actors with ethnicity '/m/044038p'. Lets see who they are."
   ]
  },
  {
   "cell_type": "code",
   "execution_count": 27,
   "metadata": {},
   "outputs": [
    {
     "name": "stdout",
     "output_type": "stream",
     "text": [
      "                 actor_name actor_ethnicity\n",
      "176766            Stu Stone      /m/044038p\n",
      "268826         Sarah Carter      /m/044038p\n",
      "421162          Eugene Levy      /m/044038p\n",
      "360605     Jackie Burroughs      /m/044038p\n",
      "53301      Michael Sarrazin      /m/044038p\n",
      "72152   Christopher Plummer      /m/044038p\n",
      "393914       Joanna Gleason      /m/044038p\n",
      "186613         Howard Shore      /m/044038p\n",
      "280532          Kyle Schmid      /m/044038p\n",
      "240492        Devon Bostick      /m/044038p\n"
     ]
    }
   ],
   "source": [
    "# Filter for actors with the specified ethnicity code\n",
    "actors_with_specific_ethnicity = character_ethnicity[character_ethnicity['actor_ethnicity'] == '/m/044038p']\n",
    "\n",
    "# Select 10 actors from this group\n",
    "sample_actors = actors_with_specific_ethnicity.sample(10)\n",
    "\n",
    "# Print the selected actors\n",
    "print(sample_actors[['actor_name', 'actor_ethnicity']])"
   ]
  },
  {
   "cell_type": "markdown",
   "metadata": {},
   "source": [
    "Those 10 actors are all canadians. We will call this ethnicity 'Canadians'."
   ]
  },
  {
   "cell_type": "code",
   "execution_count": 28,
   "metadata": {},
   "outputs": [
    {
     "name": "stdout",
     "output_type": "stream",
     "text": [
      "   Wiki_ID Freebase_ID release_date              character_name   actor_DOB  \\\n",
      "0   975900   /m/03vyhn   2001-08-24                    Akooshay  1958-08-26   \n",
      "1   975900   /m/03vyhn   2001-08-24  Lieutenant Melanie Ballard  1974-08-15   \n",
      "2   975900   /m/03vyhn   2001-08-24         Desolation Williams  1969-06-15   \n",
      "3   975900   /m/03vyhn   2001-08-24          Sgt Jericho Butler  1967-09-12   \n",
      "4   975900   /m/03vyhn   2001-08-24             Bashira Kincaid  1977-09-25   \n",
      "\n",
      "  actor_gender  actor_height actor_ethnicity          actor_name  actor_age  \n",
      "0            F         1.620         Unknown      Wanda De Jesus       42.0  \n",
      "1            F         1.780       Canadians  Natasha Henstridge       27.0  \n",
      "2            M         1.727         /m/0x67            Ice Cube       32.0  \n",
      "3            M         1.750         Unknown       Jason Statham       33.0  \n",
      "4            F         1.650         Unknown         Clea DuVall       23.0  \n"
     ]
    }
   ],
   "source": [
    "# Define a function to replace unknown ethnicities\n",
    "def replace_unknown_ethnicities(ethnicity):\n",
    "    if ethnicity == '/m/044038p':\n",
    "        return 'Canadians'\n",
    "    elif not ethnicity in ethnicity_labels.keys():\n",
    "        return 'Unknown'\n",
    "    else:\n",
    "        return ethnicity\n",
    "\n",
    "# Apply the function to the actor_ethnicity column\n",
    "character_ethnicity['actor_ethnicity'] = character_ethnicity['actor_ethnicity'].apply(replace_unknown_ethnicities)\n",
    "\n",
    "print(character_ethnicity.head())"
   ]
  },
  {
   "cell_type": "code",
   "execution_count": 29,
   "metadata": {},
   "outputs": [
    {
     "name": "stdout",
     "output_type": "stream",
     "text": [
      "   Wiki_ID Freebase_ID release_date              character_name   actor_DOB  \\\n",
      "0   975900   /m/03vyhn   2001-08-24                    Akooshay  1958-08-26   \n",
      "1   975900   /m/03vyhn   2001-08-24  Lieutenant Melanie Ballard  1974-08-15   \n",
      "2   975900   /m/03vyhn   2001-08-24         Desolation Williams  1969-06-15   \n",
      "3   975900   /m/03vyhn   2001-08-24          Sgt Jericho Butler  1967-09-12   \n",
      "4   975900   /m/03vyhn   2001-08-24             Bashira Kincaid  1977-09-25   \n",
      "\n",
      "  actor_gender  actor_height actor_ethnicity          actor_name  actor_age  \n",
      "0            F         1.620             NaN      Wanda De Jesus       42.0  \n",
      "1            F         1.780       Canadians  Natasha Henstridge       27.0  \n",
      "2            M         1.727         /m/0x67            Ice Cube       32.0  \n",
      "3            M         1.750             NaN       Jason Statham       33.0  \n",
      "4            F         1.650             NaN         Clea DuVall       23.0  \n"
     ]
    }
   ],
   "source": [
    "# Replace 'Unknown' with np.nan in the actor_ethnicity column\n",
    "character_ethnicity['actor_ethnicity'] = character_ethnicity['actor_ethnicity'].replace('Unknown', np.nan)\n",
    "\n",
    "# Optionally, print a few rows to verify the changes\n",
    "print(character_ethnicity.head())"
   ]
  },
  {
   "cell_type": "code",
   "execution_count": 30,
   "metadata": {},
   "outputs": [
    {
     "name": "stdout",
     "output_type": "stream",
     "text": [
      "English                                 40891\n",
      "Hindi                                    3744\n",
      "Spanish                                  3673\n",
      "French                                   3422\n",
      "Silent film                              3183\n",
      "                                        ...  \n",
      "Southwestern Mandarin                       1\n",
      "Australian Aboriginal Pidgin English        1\n",
      "Krio                                        1\n",
      "Pawnee                                      1\n",
      "Kuna language                               1\n",
      "Name: count, Length: 205, dtype: int64\n"
     ]
    }
   ],
   "source": [
    "def extract_languages(lang_str):\n",
    "    if pd.isna(lang_str):\n",
    "        return ['Unknown']\n",
    "    try:\n",
    "        # Parse the string as a dictionary\n",
    "        lang_dict = ast.literal_eval(lang_str)\n",
    "        # Extract the language names and remove 'Language' from the end\n",
    "        languages = [lang.split(' Language')[0] for lang in lang_dict.values()]\n",
    "\n",
    "        return languages\n",
    "    except ValueError:\n",
    "        # Handle cases where lang_str cannot be parsed\n",
    "        return ['Unknown']\n",
    "\n",
    "movies_clean_languages = movies_clean_country.copy()\n",
    "movies_clean_languages['languages'] = movies_clean_languages['languages'].apply(extract_languages)\n",
    "\n",
    "# Counting languages\n",
    "language_counts = pd.Series([lang for sublist in movies_clean_languages['languages'] for lang in sublist]).value_counts()\n",
    "print(language_counts)"
   ]
  },
  {
   "cell_type": "code",
   "execution_count": 31,
   "metadata": {},
   "outputs": [
    {
     "name": "stdout",
     "output_type": "stream",
     "text": [
      "Number of multilingual movies: 9807 over 81741 movies.\n",
      "5     [Silent film, English]\n",
      "48    [Silent film, English]\n",
      "49      [Afrikaans, English]\n",
      "51    [Silent film, English]\n",
      "52    [Silent film, English]\n",
      "Name: languages, dtype: object\n"
     ]
    }
   ],
   "source": [
    "# Count the number of movies with more than one language\n",
    "multilingual_movies = movies_clean_languages['languages'].apply(lambda x: len(x) > 1)\n",
    "\n",
    "print(f\"Number of multilingual movies: {multilingual_movies.sum()} over {len(multilingual_movies)} movies.\")\n",
    "print(movies_clean_languages['languages'][multilingual_movies].head())"
   ]
  },
  {
   "cell_type": "code",
   "execution_count": 32,
   "metadata": {},
   "outputs": [
    {
     "name": "stdout",
     "output_type": "stream",
     "text": [
      "Most common multilingual language combinations:\n",
      "multilingual_combination\n",
      "English-Silent film    2297\n",
      "English-French          522\n",
      "English-Spanish         506\n",
      "English-Italian         278\n",
      "English-German          264\n",
      "Name: count, dtype: int64\n"
     ]
    }
   ],
   "source": [
    "# Creating a new dataframe for multilingual movies for language combination analysis\n",
    "multilingual_combinations_df = movies_clean_languages.copy()\n",
    "multilingual_combinations_df = multilingual_combinations_df[multilingual_combinations_df['languages'].apply(lambda x: len(x) > 1 and 'Unknown' not in x)]\n",
    "\n",
    "# Create a distinct identifier for each multilingual language combination\n",
    "multilingual_combinations_df['multilingual_combination'] = multilingual_combinations_df['languages'].apply(lambda x: '-'.join(sorted(x)))\n",
    "\n",
    "# Count the occurrences of each multilingual language combination\n",
    "multilingual_combination_counts = multilingual_combinations_df['multilingual_combination'].value_counts()\n",
    "print(\"Most common multilingual language combinations:\")\n",
    "print(multilingual_combination_counts.head())  # Adjust the number of combinations to display as needed\n"
   ]
  },
  {
   "cell_type": "code",
   "execution_count": 33,
   "metadata": {},
   "outputs": [
    {
     "data": {
      "image/png": "[encoded data removed]",
      "text/plain": [
       "<Figure size 1000x600 with 1 Axes>"
      ]
     },
     "metadata": {},
     "output_type": "display_data"
    }
   ],
   "source": [
    "number_of_languages = movies_clean_languages.drop_duplicates(subset='Wiki_ID')['languages'].dropna().apply(lambda x: len(x))\n",
    "# histogram of the number of genres\n",
    "plt.figure(figsize=(10, 6))\n",
    "plt.hist(number_of_languages,bins = np.arange(1, 15, 1)-0.5, edgecolor = 'black', linewidth = 1.2)\n",
    "plt.xlabel('Number of Languages')\n",
    "plt.xticks(np.arange(1, 15, 1))\n",
    "plt.ylabel('Frequency (log)')\n",
    "plt.yscale('log')\n",
    "plt.title('Histogram of the Number of Languages')\n",
    "plt.show()"
   ]
  },
  {
   "cell_type": "markdown",
   "metadata": {},
   "source": [
    "#Analysis"
   ]
  },
  {
   "cell_type": "code",
   "execution_count": 37,
   "metadata": {},
   "outputs": [],
   "source": [
    "df_analysis = gross_country.copy()\n",
    "\n",
    "# Load the CSV mapping into a pandas DataFrame\n",
    "country_mapping_df = pd.read_csv('dictionnaries/country_mapping.csv')\n",
    "\n",
    "# Ensure the 'Country_mapped' column is a list (it should be already based on your CSV content)\n",
    "country_mapping_df['Country_mapped'] = country_mapping_df['Country_mapped'].apply(eval)\n",
    "\n",
    "# Create a dictionary from the DataFrame for mapping\n",
    "country_mapping_dict = pd.Series(country_mapping_df['Country_mapped'].values, index=country_mapping_df['Country']).to_dict()\n",
    "\n",
    "# Define a function to map countries\n",
    "def map_country(country):\n",
    "    # Get the mapped value(s) from the dictionary\n",
    "    mapped_values = country_mapping_dict.get(country, [country])\n",
    "    return mapped_values\n",
    "\n",
    "# Apply the function to the 'country' column\n",
    "# This will create a series of lists, which we then explode into separate rows\n",
    "df_analysis['country'] = df_analysis['country'].apply(map_country)\n"
   ]
  },
  {
   "cell_type": "code",
   "execution_count": 38,
   "metadata": {},
   "outputs": [
    {
     "data": {
      "text/html": [
       "<div>\n",
       "<style scoped>\n",
       "    .dataframe tbody tr th:only-of-type {\n",
       "        vertical-align: middle;\n",
       "    }\n",
       "\n",
       "    .dataframe tbody tr th {\n",
       "        vertical-align: top;\n",
       "    }\n",
       "\n",
       "    .dataframe thead th {\n",
       "        text-align: right;\n",
       "    }\n",
       "</style>\n",
       "<table border=\"1\" class=\"dataframe\">\n",
       "  <thead>\n",
       "    <tr style=\"text-align: right;\">\n",
       "      <th></th>\n",
       "      <th>tconst</th>\n",
       "      <th>Wiki_ID</th>\n",
       "      <th>Freebase_ID</th>\n",
       "      <th>country</th>\n",
       "      <th>movie</th>\n",
       "      <th>gross</th>\n",
       "      <th>release_date</th>\n",
       "      <th>genres</th>\n",
       "      <th>countries</th>\n",
       "    </tr>\n",
       "  </thead>\n",
       "  <tbody>\n",
       "    <tr>\n",
       "      <th>0</th>\n",
       "      <td>tt0228333</td>\n",
       "      <td>975900</td>\n",
       "      <td>/m/03vyhn</td>\n",
       "      <td>[United States of America, Canada]</td>\n",
       "      <td>ghosts of mars</td>\n",
       "      <td>8709640.0</td>\n",
       "      <td>2001.0</td>\n",
       "      <td>[Thriller, Science Fiction, Horror, Adventure,...</td>\n",
       "      <td>[United States of America]</td>\n",
       "    </tr>\n",
       "    <tr>\n",
       "      <th>1</th>\n",
       "      <td>tt0228333</td>\n",
       "      <td>975900</td>\n",
       "      <td>/m/03vyhn</td>\n",
       "      <td>[France]</td>\n",
       "      <td>ghosts of mars</td>\n",
       "      <td>1937390.0</td>\n",
       "      <td>2001.0</td>\n",
       "      <td>[Thriller, Science Fiction, Horror, Adventure,...</td>\n",
       "      <td>[United States of America]</td>\n",
       "    </tr>\n",
       "    <tr>\n",
       "      <th>2</th>\n",
       "      <td>tt0228333</td>\n",
       "      <td>975900</td>\n",
       "      <td>/m/03vyhn</td>\n",
       "      <td>[Spain]</td>\n",
       "      <td>ghosts of mars</td>\n",
       "      <td>509536.0</td>\n",
       "      <td>2001.0</td>\n",
       "      <td>[Thriller, Science Fiction, Horror, Adventure,...</td>\n",
       "      <td>[United States of America]</td>\n",
       "    </tr>\n",
       "    <tr>\n",
       "      <th>3</th>\n",
       "      <td>tt0228333</td>\n",
       "      <td>975900</td>\n",
       "      <td>/m/03vyhn</td>\n",
       "      <td>[Germany]</td>\n",
       "      <td>ghosts of mars</td>\n",
       "      <td>496679.0</td>\n",
       "      <td>2001.0</td>\n",
       "      <td>[Thriller, Science Fiction, Horror, Adventure,...</td>\n",
       "      <td>[United States of America]</td>\n",
       "    </tr>\n",
       "    <tr>\n",
       "      <th>4</th>\n",
       "      <td>tt0228333</td>\n",
       "      <td>975900</td>\n",
       "      <td>/m/03vyhn</td>\n",
       "      <td>[United Kingdom]</td>\n",
       "      <td>ghosts of mars</td>\n",
       "      <td>148898.0</td>\n",
       "      <td>2001.0</td>\n",
       "      <td>[Thriller, Science Fiction, Horror, Adventure,...</td>\n",
       "      <td>[United States of America]</td>\n",
       "    </tr>\n",
       "  </tbody>\n",
       "</table>\n",
       "</div>"
      ],
      "text/plain": [
       "      tconst  Wiki_ID Freebase_ID                             country  \\\n",
       "0  tt0228333   975900   /m/03vyhn  [United States of America, Canada]   \n",
       "1  tt0228333   975900   /m/03vyhn                            [France]   \n",
       "2  tt0228333   975900   /m/03vyhn                             [Spain]   \n",
       "3  tt0228333   975900   /m/03vyhn                           [Germany]   \n",
       "4  tt0228333   975900   /m/03vyhn                    [United Kingdom]   \n",
       "\n",
       "            movie      gross  release_date  \\\n",
       "0  ghosts of mars  8709640.0        2001.0   \n",
       "1  ghosts of mars  1937390.0        2001.0   \n",
       "2  ghosts of mars   509536.0        2001.0   \n",
       "3  ghosts of mars   496679.0        2001.0   \n",
       "4  ghosts of mars   148898.0        2001.0   \n",
       "\n",
       "                                              genres  \\\n",
       "0  [Thriller, Science Fiction, Horror, Adventure,...   \n",
       "1  [Thriller, Science Fiction, Horror, Adventure,...   \n",
       "2  [Thriller, Science Fiction, Horror, Adventure,...   \n",
       "3  [Thriller, Science Fiction, Horror, Adventure,...   \n",
       "4  [Thriller, Science Fiction, Horror, Adventure,...   \n",
       "\n",
       "                    countries  \n",
       "0  [United States of America]  \n",
       "1  [United States of America]  \n",
       "2  [United States of America]  \n",
       "3  [United States of America]  \n",
       "4  [United States of America]  "
      ]
     },
     "execution_count": 38,
     "metadata": {},
     "output_type": "execute_result"
    }
   ],
   "source": [
    "df_analysis.head()"
   ]
  },
  {
   "cell_type": "code",
   "execution_count": 72,
   "metadata": {},
   "outputs": [
    {
     "name": "stdout",
     "output_type": "stream",
     "text": [
      "tconst                                     tt0380349\n",
      "Wiki_ID                                     35923481\n",
      "Freebase_ID                               /m/0jwwwz2\n",
      "country                                     [France]\n",
      "movie                                l'enquete corse\n",
      "gross                                     17755607.0\n",
      "release_date                                  2004.0\n",
      "genres          [Crime Fiction, Comedy film, Action]\n",
      "countries                                        NaN\n",
      "Name: 213, dtype: object\n"
     ]
    },
    {
     "data": {
      "text/html": [
       "<div>\n",
       "<style scoped>\n",
       "    .dataframe tbody tr th:only-of-type {\n",
       "        vertical-align: middle;\n",
       "    }\n",
       "\n",
       "    .dataframe tbody tr th {\n",
       "        vertical-align: top;\n",
       "    }\n",
       "\n",
       "    .dataframe thead th {\n",
       "        text-align: right;\n",
       "    }\n",
       "</style>\n",
       "<table border=\"1\" class=\"dataframe\">\n",
       "  <thead>\n",
       "    <tr style=\"text-align: right;\">\n",
       "      <th></th>\n",
       "      <th>tconst</th>\n",
       "      <th>Wiki_ID</th>\n",
       "      <th>Freebase_ID</th>\n",
       "      <th>country</th>\n",
       "      <th>movie</th>\n",
       "      <th>gross</th>\n",
       "      <th>release_date</th>\n",
       "      <th>genres</th>\n",
       "      <th>countries</th>\n",
       "      <th>ratio_of_home_country</th>\n",
       "    </tr>\n",
       "  </thead>\n",
       "  <tbody>\n",
       "    <tr>\n",
       "      <th>0</th>\n",
       "      <td>tt0228333</td>\n",
       "      <td>975900</td>\n",
       "      <td>/m/03vyhn</td>\n",
       "      <td>[United States of America, Canada]</td>\n",
       "      <td>ghosts of mars</td>\n",
       "      <td>8709640.0</td>\n",
       "      <td>2001.0</td>\n",
       "      <td>[Thriller, Science Fiction, Horror, Adventure,...</td>\n",
       "      <td>[United States of America]</td>\n",
       "      <td>0.756970</td>\n",
       "    </tr>\n",
       "    <tr>\n",
       "      <th>8</th>\n",
       "      <td>tt0058331</td>\n",
       "      <td>77856</td>\n",
       "      <td>/m/0kcn7</td>\n",
       "      <td>[United States of America, Canada]</td>\n",
       "      <td>mary poppins</td>\n",
       "      <td>102272727.0</td>\n",
       "      <td>1964.0</td>\n",
       "      <td>[Children's/Family, Musical, Fantasy, Comedy, ...</td>\n",
       "      <td>[United States of America]</td>\n",
       "      <td>0.538402</td>\n",
       "    </tr>\n",
       "    <tr>\n",
       "      <th>17</th>\n",
       "      <td>tt0892904</td>\n",
       "      <td>21926710</td>\n",
       "      <td>/m/05p45cv</td>\n",
       "      <td>[United States of America, Canada]</td>\n",
       "      <td>white on rice</td>\n",
       "      <td>69171.0</td>\n",
       "      <td>2009.0</td>\n",
       "      <td>[Romantic comedy, Romance Film, Comedy, Indie]</td>\n",
       "      <td>[United States of America]</td>\n",
       "      <td>0.001238</td>\n",
       "    </tr>\n",
       "    <tr>\n",
       "      <th>18</th>\n",
       "      <td>tt0255819</td>\n",
       "      <td>156558</td>\n",
       "      <td>/m/014k4y</td>\n",
       "      <td>[United States of America, Canada]</td>\n",
       "      <td>baby boy</td>\n",
       "      <td>28734552.0</td>\n",
       "      <td>2001.0</td>\n",
       "      <td>[Crime Fiction, Drama, Coming of age]</td>\n",
       "      <td>[United States of America]</td>\n",
       "      <td>363.742319</td>\n",
       "    </tr>\n",
       "    <tr>\n",
       "      <th>25</th>\n",
       "      <td>tt0405393</td>\n",
       "      <td>12008535</td>\n",
       "      <td>/m/02vlsqt</td>\n",
       "      <td>[United States of America, Canada]</td>\n",
       "      <td>rudo y cursi</td>\n",
       "      <td>1827660.0</td>\n",
       "      <td>2008.0</td>\n",
       "      <td>[Sports, Drama, Family Drama, Comedy-drama, Co...</td>\n",
       "      <td>[Mexico, United States of America]</td>\n",
       "      <td>1182.186287</td>\n",
       "    </tr>\n",
       "  </tbody>\n",
       "</table>\n",
       "</div>"
      ],
      "text/plain": [
       "       tconst   Wiki_ID Freebase_ID                             country  \\\n",
       "0   tt0228333    975900   /m/03vyhn  [United States of America, Canada]   \n",
       "8   tt0058331     77856    /m/0kcn7  [United States of America, Canada]   \n",
       "17  tt0892904  21926710  /m/05p45cv  [United States of America, Canada]   \n",
       "18  tt0255819    156558   /m/014k4y  [United States of America, Canada]   \n",
       "25  tt0405393  12008535  /m/02vlsqt  [United States of America, Canada]   \n",
       "\n",
       "             movie        gross  release_date  \\\n",
       "0   ghosts of mars    8709640.0        2001.0   \n",
       "8     mary poppins  102272727.0        1964.0   \n",
       "17   white on rice      69171.0        2009.0   \n",
       "18        baby boy   28734552.0        2001.0   \n",
       "25    rudo y cursi    1827660.0        2008.0   \n",
       "\n",
       "                                               genres  \\\n",
       "0   [Thriller, Science Fiction, Horror, Adventure,...   \n",
       "8   [Children's/Family, Musical, Fantasy, Comedy, ...   \n",
       "17     [Romantic comedy, Romance Film, Comedy, Indie]   \n",
       "18              [Crime Fiction, Drama, Coming of age]   \n",
       "25  [Sports, Drama, Family Drama, Comedy-drama, Co...   \n",
       "\n",
       "                             countries  ratio_of_home_country   \n",
       "0           [United States of America]                0.756970  \n",
       "8           [United States of America]                0.538402  \n",
       "17          [United States of America]                0.001238  \n",
       "18          [United States of America]              363.742319  \n",
       "25  [Mexico, United States of America]             1182.186287  "
      ]
     },
     "execution_count": 72,
     "metadata": {},
     "output_type": "execute_result"
    }
   ],
   "source": [
    "df_home_country  = df_analysis.copy()\n",
    "\n",
    "print(df_home_country.iloc[213])\n",
    "def is_home_country(row):\n",
    "    return any(c in row['countries'] for c in row['country'])\n",
    "\n",
    "df_home_country.dropna(subset=['countries'], inplace=True)\n",
    "is_home = df_home_country.apply(is_home_country, axis=1)\n",
    "df_home_country = df_home_country[is_home]\n",
    "df_home_country[\"ratio_of_home_country \"] = df_home_country[\"gross\"] / gross_per_movie[\"gross\"]\n",
    "df_home_country.head()\n"
   ]
  },
  {
   "cell_type": "code",
   "execution_count": null,
   "metadata": {},
   "outputs": [],
   "source": []
  }
 ],
 "metadata": {
  "kernelspec": {
   "display_name": "ada",
   "language": "python",
   "name": "python3"
  },
  "language_info": {
   "codemirror_mode": {
    "name": "ipython",
    "version": 3
   },
   "file_extension": ".py",
   "mimetype": "text/x-python",
   "name": "python",
   "nbconvert_exporter": "python",
   "pygments_lexer": "ipython3",
   "version": "3.9.18"
  }
 },
 "nbformat": 4,
 "nbformat_minor": 2
}
