{
 "cells": [
  {
   "cell_type": "markdown",
   "metadata": {},
   "source": [
    "We start by creating the dictionnary from countries to a list of ethnicities that come from those countries."
   ]
  },
  {
   "cell_type": "code",
   "execution_count": 25,
   "metadata": {},
   "outputs": [],
   "source": [
    "import pandas as pd\n",
    "import json"
   ]
  },
  {
   "cell_type": "code",
   "execution_count": 30,
   "metadata": {},
   "outputs": [],
   "source": [
    "\n",
    "\n",
    "# Step 1: Load the data\n",
    "file_path = 'gross_merged_clean.csv'  # Replace with your actual file path\n",
    "df = pd.read_csv(file_path)\n",
    "\n",
    "# Step 2: Extract unique countries\n",
    "unique_countries = df['country'].unique()\n",
    "\n",
    "# Step 3: Create a new DataFrame from the list of unique countries\n",
    "unique_countries_df = pd.DataFrame(unique_countries, columns=['Country'])\n",
    "\n",
    "# Step 4: Save to CSV\n",
    "unique_countries_df.to_csv('unique_countries.csv', index=False)\n"
   ]
  },
  {
   "cell_type": "code",
   "execution_count": 28,
   "metadata": {},
   "outputs": [],
   "source": [
    "unique_countries = pd.read_csv('gross_merged_clean.csv')\n",
    "country_column = df[3]\n",
    "\n",
    "# df containing only the distinct countries \n",
    "unique_countries_gross = country_column.drop_duplicates()\n",
    "unique_countries_gross.head()\n",
    "\n",
    "\n",
    "# Step 5: Write the DataFrame to a CSV file\n",
    "# This file will have all the unique countries as values in the 'Country' column\n",
    "unique_countries_df.to_csv('dictionnaries/unique_countries_gross.csv', index=False)\n",
    "\n"
   ]
  },
  {
   "cell_type": "code",
   "execution_count": null,
   "metadata": {},
   "outputs": [],
   "source": []
  }
 ],
 "metadata": {
  "kernelspec": {
   "display_name": "ada",
   "language": "python",
   "name": "python3"
  },
  "language_info": {
   "codemirror_mode": {
    "name": "ipython",
    "version": 3
   },
   "file_extension": ".py",
   "mimetype": "text/x-python",
   "name": "python",
   "nbconvert_exporter": "python",
   "pygments_lexer": "ipython3",
   "version": "3.9.18"
  }
 },
 "nbformat": 4,
 "nbformat_minor": 2
}
