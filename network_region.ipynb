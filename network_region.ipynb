{
 "cells": [
  {
   "cell_type": "code",
   "execution_count": 106,
   "metadata": {},
   "outputs": [],
   "source": [
    "import pandas as pd\n",
    "import numpy as np\n",
    "import matplotlib.pyplot as plt\n",
    "import seaborn as sns\n",
    "import ast"
   ]
  },
  {
   "cell_type": "code",
   "execution_count": 107,
   "metadata": {},
   "outputs": [],
   "source": [
    "## read the tsv files in MovieSummaries\n",
    "load_movies = pd.read_csv('MovieSummaries/movie.metadata.tsv', sep = '\\t', header = None)\n",
    "load_character = pd.read_csv('MovieSummaries/character.metadata.tsv', sep = '\\t', header = None)\n"
   ]
  },
  {
   "cell_type": "code",
   "execution_count": 108,
   "metadata": {},
   "outputs": [],
   "source": [
    "movies = load_movies.copy()\n",
    "character = load_character.copy()\n"
   ]
  },
  {
   "cell_type": "code",
   "execution_count": 109,
   "metadata": {},
   "outputs": [],
   "source": [
    "# Make the name of the colum of movie: wikip_ID, freebase_ID, name, release date, box office, runtime, languages, countries, genres\t\n",
    "movies.columns = ['Wiki_ID', 'Freebase_ID', 'name', 'release_date', 'box_office', 'runtime', 'languages', 'countries', 'genres']\n",
    "# Make the name of the columns of character wiki_ID, freebase_ID, character_name, actor_DOB, actor_gender, actor_height, actor_ethnicity, actor_name, actor_age, freebase_character_map\n",
    "character.columns = ['Wiki_ID', 'Freebase_ID','release_date', 'character_name', 'actor_DOB', 'actor_gender', 'actor_height', 'actor_ethnicity', 'actor_name', 'actor_age', '10', '11', '12']\n",
    "character = character.drop(['10', '11', '12'], axis = 1)"
   ]
  },
  {
   "cell_type": "code",
   "execution_count": 110,
   "metadata": {},
   "outputs": [
    {
     "data": {
      "text/html": [
       "<div>\n",
       "<style scoped>\n",
       "    .dataframe tbody tr th:only-of-type {\n",
       "        vertical-align: middle;\n",
       "    }\n",
       "\n",
       "    .dataframe tbody tr th {\n",
       "        vertical-align: top;\n",
       "    }\n",
       "\n",
       "    .dataframe thead th {\n",
       "        text-align: right;\n",
       "    }\n",
       "</style>\n",
       "<table border=\"1\" class=\"dataframe\">\n",
       "  <thead>\n",
       "    <tr style=\"text-align: right;\">\n",
       "      <th></th>\n",
       "      <th>tconst</th>\n",
       "      <th>Wiki_ID</th>\n",
       "      <th>Freebase_ID</th>\n",
       "      <th>country</th>\n",
       "      <th>movie</th>\n",
       "      <th>gross</th>\n",
       "    </tr>\n",
       "  </thead>\n",
       "  <tbody>\n",
       "    <tr>\n",
       "      <th>0</th>\n",
       "      <td>tt0228333</td>\n",
       "      <td>975900</td>\n",
       "      <td>/m/03vyhn</td>\n",
       "      <td>Domestic</td>\n",
       "      <td>ghosts of mars</td>\n",
       "      <td>8709640.0</td>\n",
       "    </tr>\n",
       "    <tr>\n",
       "      <th>1</th>\n",
       "      <td>tt0228333</td>\n",
       "      <td>975900</td>\n",
       "      <td>/m/03vyhn</td>\n",
       "      <td>France</td>\n",
       "      <td>ghosts of mars</td>\n",
       "      <td>1937390.0</td>\n",
       "    </tr>\n",
       "    <tr>\n",
       "      <th>2</th>\n",
       "      <td>tt0228333</td>\n",
       "      <td>975900</td>\n",
       "      <td>/m/03vyhn</td>\n",
       "      <td>Spain</td>\n",
       "      <td>ghosts of mars</td>\n",
       "      <td>509536.0</td>\n",
       "    </tr>\n",
       "    <tr>\n",
       "      <th>3</th>\n",
       "      <td>tt0228333</td>\n",
       "      <td>975900</td>\n",
       "      <td>/m/03vyhn</td>\n",
       "      <td>Germany</td>\n",
       "      <td>ghosts of mars</td>\n",
       "      <td>496679.0</td>\n",
       "    </tr>\n",
       "    <tr>\n",
       "      <th>4</th>\n",
       "      <td>tt0228333</td>\n",
       "      <td>975900</td>\n",
       "      <td>/m/03vyhn</td>\n",
       "      <td>United Kingdom</td>\n",
       "      <td>ghosts of mars</td>\n",
       "      <td>148898.0</td>\n",
       "    </tr>\n",
       "    <tr>\n",
       "      <th>...</th>\n",
       "      <td>...</td>\n",
       "      <td>...</td>\n",
       "      <td>...</td>\n",
       "      <td>...</td>\n",
       "      <td>...</td>\n",
       "      <td>...</td>\n",
       "    </tr>\n",
       "    <tr>\n",
       "      <th>90661</th>\n",
       "      <td>tt0120202</td>\n",
       "      <td>1918494</td>\n",
       "      <td>/m/0660qx</td>\n",
       "      <td>Denmark</td>\n",
       "      <td>state and main</td>\n",
       "      <td>13732.0</td>\n",
       "    </tr>\n",
       "    <tr>\n",
       "      <th>90662</th>\n",
       "      <td>tt0120202</td>\n",
       "      <td>1918494</td>\n",
       "      <td>/m/0660qx</td>\n",
       "      <td>Australia</td>\n",
       "      <td>state and main</td>\n",
       "      <td>385631.0</td>\n",
       "    </tr>\n",
       "    <tr>\n",
       "      <th>90663</th>\n",
       "      <td>tt0107057</td>\n",
       "      <td>664006</td>\n",
       "      <td>/m/030xw6</td>\n",
       "      <td>Domestic</td>\n",
       "      <td>guilty as sin</td>\n",
       "      <td>22866222.0</td>\n",
       "    </tr>\n",
       "    <tr>\n",
       "      <th>90664</th>\n",
       "      <td>tt1606259</td>\n",
       "      <td>34980460</td>\n",
       "      <td>/m/0g4pl34</td>\n",
       "      <td>Domestic</td>\n",
       "      <td>knuckle</td>\n",
       "      <td>2647.0</td>\n",
       "    </tr>\n",
       "    <tr>\n",
       "      <th>90665</th>\n",
       "      <td>tt1606259</td>\n",
       "      <td>34980460</td>\n",
       "      <td>/m/0g4pl34</td>\n",
       "      <td>United Kingdom</td>\n",
       "      <td>knuckle</td>\n",
       "      <td>22008.0</td>\n",
       "    </tr>\n",
       "  </tbody>\n",
       "</table>\n",
       "<p>90666 rows × 6 columns</p>\n",
       "</div>"
      ],
      "text/plain": [
       "          tconst   Wiki_ID Freebase_ID         country           movie  \\\n",
       "0      tt0228333    975900   /m/03vyhn        Domestic  ghosts of mars   \n",
       "1      tt0228333    975900   /m/03vyhn          France  ghosts of mars   \n",
       "2      tt0228333    975900   /m/03vyhn           Spain  ghosts of mars   \n",
       "3      tt0228333    975900   /m/03vyhn         Germany  ghosts of mars   \n",
       "4      tt0228333    975900   /m/03vyhn  United Kingdom  ghosts of mars   \n",
       "...          ...       ...         ...             ...             ...   \n",
       "90661  tt0120202   1918494   /m/0660qx         Denmark  state and main   \n",
       "90662  tt0120202   1918494   /m/0660qx       Australia  state and main   \n",
       "90663  tt0107057    664006   /m/030xw6        Domestic   guilty as sin   \n",
       "90664  tt1606259  34980460  /m/0g4pl34        Domestic         knuckle   \n",
       "90665  tt1606259  34980460  /m/0g4pl34  United Kingdom         knuckle   \n",
       "\n",
       "            gross  \n",
       "0       8709640.0  \n",
       "1       1937390.0  \n",
       "2        509536.0  \n",
       "3        496679.0  \n",
       "4        148898.0  \n",
       "...           ...  \n",
       "90661     13732.0  \n",
       "90662    385631.0  \n",
       "90663  22866222.0  \n",
       "90664      2647.0  \n",
       "90665     22008.0  \n",
       "\n",
       "[90666 rows x 6 columns]"
      ]
     },
     "execution_count": 110,
     "metadata": {},
     "output_type": "execute_result"
    }
   ],
   "source": [
    "## read grossed merged clean csv\n",
    "gross = pd.read_csv('gross_merged_clean.csv')\n",
    "gross"
   ]
  },
  {
   "cell_type": "markdown",
   "metadata": {},
   "source": [
    "## Question 1\n",
    "\n",
    "For The first question we will need the gross of the movies in the different region of the world, as well as their release year and their genre.\n"
   ]
  },
  {
   "cell_type": "code",
   "execution_count": 111,
   "metadata": {},
   "outputs": [
    {
     "name": "stdout",
     "output_type": "stream",
     "text": [
      "Percentage of missing 'box_office' values before imputation: 89.72%\n",
      "Average coherence deviation: 0.34\n"
     ]
    }
   ],
   "source": [
    "movies_clean_gross = movies.copy()\n",
    "gross_clean = gross.copy()\n",
    "\n",
    "# Sum up the gross for each movie in the `gross` dataframe\n",
    "gross_sum = gross_clean.groupby('Wiki_ID')['gross'].sum().reset_index()\n",
    "\n",
    "# Merge this sum with the `movies` dataframe\n",
    "movies_with_gross = movies_clean_gross.merge(gross_sum, on='Wiki_ID', how='left')\n",
    "\n",
    "# Filter out rows where 'box_office' is not missing\n",
    "non_missing_box_office = movies_with_gross.dropna(subset=['box_office'])\n",
    "\n",
    "\n",
    "missing_percentage_before = movies_with_gross['box_office'].isna().sum() / len(movies_with_gross) * 100\n",
    "print(f\"Percentage of missing 'box_office' values before imputation: {missing_percentage_before:.2f}%\")\n",
    "\n",
    "# Check coherence for non-missing 'box_office' values\n",
    "coherence_check = ((non_missing_box_office['box_office'] - non_missing_box_office['gross']).abs() / non_missing_box_office['box_office']).mean()\n",
    "print(f\"Average coherence deviation: {coherence_check:.2f}\")\n"
   ]
  },
  {
   "cell_type": "markdown",
   "metadata": {},
   "source": [
    "There are a lot of box_office missing values, and for the ones we have, the summed gross differ from it by 34%, so replacing the Nans by the summed gross will not be accurate.\n",
    "\n",
    "Instead, we should use the summed gross as the global box office for all the movies, and we can drop the box_office feature."
   ]
  },
  {
   "cell_type": "code",
   "execution_count": 112,
   "metadata": {},
   "outputs": [],
   "source": [
    "movies_with_gross = movies_with_gross.drop(columns=['box_office'])"
   ]
  },
  {
   "cell_type": "code",
   "execution_count": 113,
   "metadata": {},
   "outputs": [],
   "source": [
    "# The release date of the movie is in the format of YYYY-MM-DD, we only need the year \n",
    "# so we split the date and only keep the year\n",
    "movies_clean_release = movies_with_gross.copy()\n",
    "movies_clean_release['release_date'] = movies_clean_release['release_date'].str[:4]\n",
    "movies_clean_release['release_date'] = pd.to_numeric(movies_clean_release['release_date'], errors='coerce')\n",
    "# Here the errors ignore is to keep the nan in the release date column\n",
    "movies_clean_release['release_date'] = movies_clean_release['release_date'].astype(np.int64, errors='ignore')"
   ]
  },
  {
   "cell_type": "code",
   "execution_count": 114,
   "metadata": {},
   "outputs": [],
   "source": [
    "movies_clean_genre = movies_clean_release.copy()\n",
    "movies_clean_genre['genres'] = movies_clean_genre['genres'].apply(lambda x: list(ast.literal_eval(x).values()))\n",
    "# This line is to make the empty list to be nan so the nan are uniform\n",
    "movies_clean_genre['genres'] = movies_clean_genre['genres'].apply(lambda x: x if len(x) != 0 else np.nan)\n"
   ]
  },
  {
   "cell_type": "code",
   "execution_count": 115,
   "metadata": {},
   "outputs": [],
   "source": [
    "gross_genre_release = gross_clean.copy()\n",
    "#merge gross and movies_clean_genre on wiki_ID\n",
    "gross_genre_release = gross_genre_release.merge(movies_clean_genre[['Wiki_ID', 'release_date', 'genres']], on = 'Wiki_ID', how = 'left')\n"
   ]
  },
  {
   "cell_type": "code",
   "execution_count": 116,
   "metadata": {},
   "outputs": [
    {
     "name": "stdout",
     "output_type": "stream",
     "text": [
      "The percentage of missing values in the genre column is 0.14%\n"
     ]
    }
   ],
   "source": [
    "# count the numers of nan in genre\n",
    "missing_genre_value = gross_genre_release.drop_duplicates(subset='Wiki_ID')['genres'].isna().sum()/gross_genre_release.drop_duplicates(subset='Wiki_ID')['genres'].shape[0]*100\n",
    "print('The percentage of missing values in the genre column is {:.2f}%'.format(missing_genre_value))"
   ]
  },
  {
   "cell_type": "code",
   "execution_count": 117,
   "metadata": {},
   "outputs": [
    {
     "data": {
      "image/png": "[encoded data removed]",
      "text/plain": [
       "<Figure size 1000x600 with 1 Axes>"
      ]
     },
     "metadata": {},
     "output_type": "display_data"
    }
   ],
   "source": [
    "number_of_genres = gross_genre_release.drop_duplicates(subset='Wiki_ID')['genres'].dropna().apply(lambda x: len(x))\n",
    "# histogram of the number of genres\n",
    "plt.figure(figsize=(10, 6))\n",
    "plt.hist(number_of_genres,bins = np.arange(1, 20, 1)-0.5, edgecolor = 'black', linewidth = 1.2)\n",
    "plt.xlabel('Number of Genres')\n",
    "plt.xticks(np.arange(1, 20, 1))\n",
    "plt.ylabel('Frequency')\n",
    "plt.title('Histogram of the Number of Genres')\n",
    "plt.show()"
   ]
  },
  {
   "cell_type": "markdown",
   "metadata": {},
   "source": [
    "We have a very low percentage of genre missing we can therefore have a good analysis about this metric. We don't have any missing values for the release date because it was used as a key when merging the IMdB dataset with the CMU datset"
   ]
  },
  {
   "cell_type": "markdown",
   "metadata": {},
   "source": [
    "## Question 3 "
   ]
  },
  {
   "cell_type": "code",
   "execution_count": 118,
   "metadata": {},
   "outputs": [],
   "source": [
    "movies_clean_country = movies_clean_genre.copy()\n",
    "movies_clean_country['countries'] = movies_clean_country['countries'].apply(lambda x: list(ast.literal_eval(x).values()))\n",
    "# This line is to make the empty list to be nan so the nan are uniform\n",
    "movies_clean_country['countries'] = movies_clean_country['countries'].apply(lambda x: x if len(x) != 0 else np.nan)"
   ]
  },
  {
   "cell_type": "code",
   "execution_count": 119,
   "metadata": {},
   "outputs": [],
   "source": [
    "gross_country = gross_genre_release.copy()\n",
    "#merge gross and movies_clean_genre on wiki_ID\n",
    "gross_country = gross_country.merge(movies_clean_country[['Wiki_ID', 'countries']], on = 'Wiki_ID', how = 'left')"
   ]
  },
  {
   "cell_type": "code",
   "execution_count": 120,
   "metadata": {},
   "outputs": [
    {
     "name": "stdout",
     "output_type": "stream",
     "text": [
      "The percentage of missing values in the countries column is 1.70%\n"
     ]
    }
   ],
   "source": [
    "# count the numers of nan in countries\n",
    "missing_country_value = gross_country.drop_duplicates(subset='Wiki_ID')['countries'].isna().sum()/gross_country.drop_duplicates(subset='Wiki_ID')['countries'].shape[0]*100\n",
    "print('The percentage of missing values in the countries column is {:.2f}%'.format(missing_country_value))"
   ]
  },
  {
   "cell_type": "code",
   "execution_count": 121,
   "metadata": {},
   "outputs": [
    {
     "name": "stdout",
     "output_type": "stream",
     "text": [
      "The number of movies that are co-produced by more than one country is 24.98%\n"
     ]
    },
    {
     "name": "stderr",
     "output_type": "stream",
     "text": [
      "/tmp/ipykernel_76593/30425266.py:2: UserWarning:\n",
      "\n",
      "Boolean Series key will be reindexed to match DataFrame index.\n",
      "\n"
     ]
    }
   ],
   "source": [
    "coprood_count = gross_country.dropna(subset='countries')\n",
    "coprood_count = coprood_count.drop_duplicates(subset='Wiki_ID')[coprood_count['countries'].apply(lambda x: len(x)) > 1].shape[0]/gross_country.drop_duplicates(subset='Wiki_ID')['countries'].shape[0]*100\n",
    "\n",
    "print('The number of movies that are co-produced by more than one country is {:.2f}%'.format(coprood_count))"
   ]
  },
  {
   "cell_type": "code",
   "execution_count": 122,
   "metadata": {},
   "outputs": [
    {
     "data": {
      "image/png": "[encoded data removed]",
      "text/plain": [
       "<Figure size 1000x600 with 1 Axes>"
      ]
     },
     "metadata": {},
     "output_type": "display_data"
    }
   ],
   "source": [
    "number_of_countries = gross_country.drop_duplicates(subset='Wiki_ID')['countries'].dropna().apply(lambda x: len(x))\n",
    "# histogram of the number of production countries\n",
    "plt.figure(figsize=(10, 6))\n",
    "plt.hist(number_of_countries,bins = np.arange(1, 15, 1)-0.5, edgecolor = 'black', linewidth = 1.2)\n",
    "plt.xlabel('Number of Countries')\n",
    "plt.xticks(np.arange(1, 15, 1))\n",
    "plt.yscale('log')\n",
    "plt.ylabel('Frequency (log)')\n",
    "plt.title('Histogram of the Number of Countries')\n",
    "plt.show()"
   ]
  },
  {
   "cell_type": "markdown",
   "metadata": {},
   "source": [
    "We have a very low percentage of countries missing we can therefore have a good analysis about this metric. And the level of co-production is relatively high so it will still make sense to do our analysis."
   ]
  },
  {
   "cell_type": "markdown",
   "metadata": {},
   "source": [
    "## Question 4"
   ]
  },
  {
   "cell_type": "markdown",
   "metadata": {},
   "source": [
    "For the gender representation in the movie. We decided to only use the values that were given for each of the movies, making the assumption that if the gender of an actor is not given the character was probably a small part. "
   ]
  },
  {
   "cell_type": "code",
   "execution_count": 123,
   "metadata": {},
   "outputs": [],
   "source": [
    "# go in the character dataset and find the percentage of gender F in each movie\n",
    "character_gender = character.copy()\n",
    "\n",
    "#count the number of \"F\" for each wiki_ID in character_gender\n",
    "# groupby wiki_ID and count the number of \"F\" in each group\n",
    "character_groupby = character_gender.groupby('Wiki_ID')\n",
    "character_groupby_tot = character_groupby[\"actor_gender\"].count()\n",
    "character_groupby_F = character_groupby.apply(lambda x: (x['actor_gender'] == 'F').sum())\n",
    "ratio_female_to_total = character_groupby_F / character_groupby_tot\n",
    "\n"
   ]
  },
  {
   "cell_type": "code",
   "execution_count": 124,
   "metadata": {},
   "outputs": [],
   "source": [
    "data = {\n",
    "    'Wiki_ID': ratio_female_to_total.index,\n",
    "    'Ratio_Female_to_Total': ratio_female_to_total.values\n",
    "}\n",
    "\n",
    "# Create DataFrame\n",
    "df_ratio = pd.DataFrame(data)\n",
    "\n",
    "# Reset the index to make it 1-dimensional\n",
    "df_ratio.reset_index(drop=True, inplace=True)"
   ]
  },
  {
   "cell_type": "code",
   "execution_count": 125,
   "metadata": {},
   "outputs": [
    {
     "data": {
      "text/html": [
       "<div>\n",
       "<style scoped>\n",
       "    .dataframe tbody tr th:only-of-type {\n",
       "        vertical-align: middle;\n",
       "    }\n",
       "\n",
       "    .dataframe tbody tr th {\n",
       "        vertical-align: top;\n",
       "    }\n",
       "\n",
       "    .dataframe thead th {\n",
       "        text-align: right;\n",
       "    }\n",
       "</style>\n",
       "<table border=\"1\" class=\"dataframe\">\n",
       "  <thead>\n",
       "    <tr style=\"text-align: right;\">\n",
       "      <th></th>\n",
       "      <th>Wiki_ID</th>\n",
       "      <th>Freebase_ID</th>\n",
       "      <th>name</th>\n",
       "      <th>release_date</th>\n",
       "      <th>runtime</th>\n",
       "      <th>languages</th>\n",
       "      <th>countries</th>\n",
       "      <th>genres</th>\n",
       "      <th>gross</th>\n",
       "      <th>Ratio_Female_to_Total</th>\n",
       "    </tr>\n",
       "  </thead>\n",
       "  <tbody>\n",
       "    <tr>\n",
       "      <th>0</th>\n",
       "      <td>975900</td>\n",
       "      <td>/m/03vyhn</td>\n",
       "      <td>Ghosts of Mars</td>\n",
       "      <td>2001.0</td>\n",
       "      <td>98.0</td>\n",
       "      <td>{\"/m/02h40lc\": \"English Language\"}</td>\n",
       "      <td>[United States of America]</td>\n",
       "      <td>[Thriller, Science Fiction, Horror, Adventure,...</td>\n",
       "      <td>11996794.0</td>\n",
       "      <td>0.352941</td>\n",
       "    </tr>\n",
       "    <tr>\n",
       "      <th>1</th>\n",
       "      <td>3196793</td>\n",
       "      <td>/m/08yl5d</td>\n",
       "      <td>Getting Away with Murder: The JonBenét Ramsey ...</td>\n",
       "      <td>2000.0</td>\n",
       "      <td>95.0</td>\n",
       "      <td>{\"/m/02h40lc\": \"English Language\"}</td>\n",
       "      <td>[United States of America]</td>\n",
       "      <td>[Mystery, Biographical film, Drama, Crime Drama]</td>\n",
       "      <td>NaN</td>\n",
       "      <td>0.266667</td>\n",
       "    </tr>\n",
       "    <tr>\n",
       "      <th>2</th>\n",
       "      <td>28463795</td>\n",
       "      <td>/m/0crgdbh</td>\n",
       "      <td>Brun bitter</td>\n",
       "      <td>1988.0</td>\n",
       "      <td>83.0</td>\n",
       "      <td>{\"/m/05f_3\": \"Norwegian Language\"}</td>\n",
       "      <td>[Norway]</td>\n",
       "      <td>[Crime Fiction, Drama]</td>\n",
       "      <td>NaN</td>\n",
       "      <td>0.500000</td>\n",
       "    </tr>\n",
       "    <tr>\n",
       "      <th>3</th>\n",
       "      <td>9363483</td>\n",
       "      <td>/m/0285_cd</td>\n",
       "      <td>White Of The Eye</td>\n",
       "      <td>1987.0</td>\n",
       "      <td>110.0</td>\n",
       "      <td>{\"/m/02h40lc\": \"English Language\"}</td>\n",
       "      <td>[United Kingdom]</td>\n",
       "      <td>[Thriller, Erotic thriller, Psychological thri...</td>\n",
       "      <td>NaN</td>\n",
       "      <td>0.500000</td>\n",
       "    </tr>\n",
       "    <tr>\n",
       "      <th>4</th>\n",
       "      <td>261236</td>\n",
       "      <td>/m/01mrr1</td>\n",
       "      <td>A Woman in Flames</td>\n",
       "      <td>1983.0</td>\n",
       "      <td>106.0</td>\n",
       "      <td>{\"/m/04306rv\": \"German Language\"}</td>\n",
       "      <td>[Germany]</td>\n",
       "      <td>[Drama]</td>\n",
       "      <td>NaN</td>\n",
       "      <td>0.333333</td>\n",
       "    </tr>\n",
       "  </tbody>\n",
       "</table>\n",
       "</div>"
      ],
      "text/plain": [
       "    Wiki_ID Freebase_ID                                               name  \\\n",
       "0    975900   /m/03vyhn                                     Ghosts of Mars   \n",
       "1   3196793   /m/08yl5d  Getting Away with Murder: The JonBenét Ramsey ...   \n",
       "2  28463795  /m/0crgdbh                                        Brun bitter   \n",
       "3   9363483  /m/0285_cd                                   White Of The Eye   \n",
       "4    261236   /m/01mrr1                                  A Woman in Flames   \n",
       "\n",
       "   release_date  runtime                           languages  \\\n",
       "0        2001.0     98.0  {\"/m/02h40lc\": \"English Language\"}   \n",
       "1        2000.0     95.0  {\"/m/02h40lc\": \"English Language\"}   \n",
       "2        1988.0     83.0  {\"/m/05f_3\": \"Norwegian Language\"}   \n",
       "3        1987.0    110.0  {\"/m/02h40lc\": \"English Language\"}   \n",
       "4        1983.0    106.0   {\"/m/04306rv\": \"German Language\"}   \n",
       "\n",
       "                    countries  \\\n",
       "0  [United States of America]   \n",
       "1  [United States of America]   \n",
       "2                    [Norway]   \n",
       "3            [United Kingdom]   \n",
       "4                   [Germany]   \n",
       "\n",
       "                                              genres       gross  \\\n",
       "0  [Thriller, Science Fiction, Horror, Adventure,...  11996794.0   \n",
       "1   [Mystery, Biographical film, Drama, Crime Drama]         NaN   \n",
       "2                             [Crime Fiction, Drama]         NaN   \n",
       "3  [Thriller, Erotic thriller, Psychological thri...         NaN   \n",
       "4                                            [Drama]         NaN   \n",
       "\n",
       "   Ratio_Female_to_Total  \n",
       "0               0.352941  \n",
       "1               0.266667  \n",
       "2               0.500000  \n",
       "3               0.500000  \n",
       "4               0.333333  "
      ]
     },
     "execution_count": 125,
     "metadata": {},
     "output_type": "execute_result"
    }
   ],
   "source": [
    "movies_clean_gender = movies_clean_country.copy()\n",
    "movies_clean_gender = movies_clean_gender.merge(df_ratio, on = 'Wiki_ID', how = 'left')\n",
    "movies_clean_gender.head()"
   ]
  },
  {
   "cell_type": "code",
   "execution_count": 126,
   "metadata": {},
   "outputs": [
    {
     "data": {
      "text/html": [
       "<div>\n",
       "<style scoped>\n",
       "    .dataframe tbody tr th:only-of-type {\n",
       "        vertical-align: middle;\n",
       "    }\n",
       "\n",
       "    .dataframe tbody tr th {\n",
       "        vertical-align: top;\n",
       "    }\n",
       "\n",
       "    .dataframe thead th {\n",
       "        text-align: right;\n",
       "    }\n",
       "</style>\n",
       "<table border=\"1\" class=\"dataframe\">\n",
       "  <thead>\n",
       "    <tr style=\"text-align: right;\">\n",
       "      <th></th>\n",
       "      <th>tconst</th>\n",
       "      <th>Wiki_ID</th>\n",
       "      <th>Freebase_ID</th>\n",
       "      <th>country</th>\n",
       "      <th>movie</th>\n",
       "      <th>gross</th>\n",
       "      <th>release_date</th>\n",
       "      <th>genres</th>\n",
       "      <th>countries</th>\n",
       "      <th>Ratio_Female_to_Total</th>\n",
       "    </tr>\n",
       "  </thead>\n",
       "  <tbody>\n",
       "    <tr>\n",
       "      <th>0</th>\n",
       "      <td>tt0228333</td>\n",
       "      <td>975900</td>\n",
       "      <td>/m/03vyhn</td>\n",
       "      <td>Domestic</td>\n",
       "      <td>ghosts of mars</td>\n",
       "      <td>8709640.0</td>\n",
       "      <td>2001.0</td>\n",
       "      <td>[Thriller, Science Fiction, Horror, Adventure,...</td>\n",
       "      <td>[United States of America]</td>\n",
       "      <td>0.352941</td>\n",
       "    </tr>\n",
       "    <tr>\n",
       "      <th>1</th>\n",
       "      <td>tt0228333</td>\n",
       "      <td>975900</td>\n",
       "      <td>/m/03vyhn</td>\n",
       "      <td>France</td>\n",
       "      <td>ghosts of mars</td>\n",
       "      <td>1937390.0</td>\n",
       "      <td>2001.0</td>\n",
       "      <td>[Thriller, Science Fiction, Horror, Adventure,...</td>\n",
       "      <td>[United States of America]</td>\n",
       "      <td>0.352941</td>\n",
       "    </tr>\n",
       "    <tr>\n",
       "      <th>2</th>\n",
       "      <td>tt0228333</td>\n",
       "      <td>975900</td>\n",
       "      <td>/m/03vyhn</td>\n",
       "      <td>Spain</td>\n",
       "      <td>ghosts of mars</td>\n",
       "      <td>509536.0</td>\n",
       "      <td>2001.0</td>\n",
       "      <td>[Thriller, Science Fiction, Horror, Adventure,...</td>\n",
       "      <td>[United States of America]</td>\n",
       "      <td>0.352941</td>\n",
       "    </tr>\n",
       "    <tr>\n",
       "      <th>3</th>\n",
       "      <td>tt0228333</td>\n",
       "      <td>975900</td>\n",
       "      <td>/m/03vyhn</td>\n",
       "      <td>Germany</td>\n",
       "      <td>ghosts of mars</td>\n",
       "      <td>496679.0</td>\n",
       "      <td>2001.0</td>\n",
       "      <td>[Thriller, Science Fiction, Horror, Adventure,...</td>\n",
       "      <td>[United States of America]</td>\n",
       "      <td>0.352941</td>\n",
       "    </tr>\n",
       "    <tr>\n",
       "      <th>4</th>\n",
       "      <td>tt0228333</td>\n",
       "      <td>975900</td>\n",
       "      <td>/m/03vyhn</td>\n",
       "      <td>United Kingdom</td>\n",
       "      <td>ghosts of mars</td>\n",
       "      <td>148898.0</td>\n",
       "      <td>2001.0</td>\n",
       "      <td>[Thriller, Science Fiction, Horror, Adventure,...</td>\n",
       "      <td>[United States of America]</td>\n",
       "      <td>0.352941</td>\n",
       "    </tr>\n",
       "    <tr>\n",
       "      <th>...</th>\n",
       "      <td>...</td>\n",
       "      <td>...</td>\n",
       "      <td>...</td>\n",
       "      <td>...</td>\n",
       "      <td>...</td>\n",
       "      <td>...</td>\n",
       "      <td>...</td>\n",
       "      <td>...</td>\n",
       "      <td>...</td>\n",
       "      <td>...</td>\n",
       "    </tr>\n",
       "    <tr>\n",
       "      <th>90661</th>\n",
       "      <td>tt0120202</td>\n",
       "      <td>1918494</td>\n",
       "      <td>/m/0660qx</td>\n",
       "      <td>Denmark</td>\n",
       "      <td>state and main</td>\n",
       "      <td>13732.0</td>\n",
       "      <td>2000.0</td>\n",
       "      <td>[Parody, Americana, Comedy]</td>\n",
       "      <td>[France, United States of America]</td>\n",
       "      <td>0.181818</td>\n",
       "    </tr>\n",
       "    <tr>\n",
       "      <th>90662</th>\n",
       "      <td>tt0120202</td>\n",
       "      <td>1918494</td>\n",
       "      <td>/m/0660qx</td>\n",
       "      <td>Australia</td>\n",
       "      <td>state and main</td>\n",
       "      <td>385631.0</td>\n",
       "      <td>2000.0</td>\n",
       "      <td>[Parody, Americana, Comedy]</td>\n",
       "      <td>[France, United States of America]</td>\n",
       "      <td>0.181818</td>\n",
       "    </tr>\n",
       "    <tr>\n",
       "      <th>90663</th>\n",
       "      <td>tt0107057</td>\n",
       "      <td>664006</td>\n",
       "      <td>/m/030xw6</td>\n",
       "      <td>Domestic</td>\n",
       "      <td>guilty as sin</td>\n",
       "      <td>22866222.0</td>\n",
       "      <td>1993.0</td>\n",
       "      <td>[Thriller, Erotic thriller, Psychological thri...</td>\n",
       "      <td>[United States of America]</td>\n",
       "      <td>0.375000</td>\n",
       "    </tr>\n",
       "    <tr>\n",
       "      <th>90664</th>\n",
       "      <td>tt1606259</td>\n",
       "      <td>34980460</td>\n",
       "      <td>/m/0g4pl34</td>\n",
       "      <td>Domestic</td>\n",
       "      <td>knuckle</td>\n",
       "      <td>2647.0</td>\n",
       "      <td>2011.0</td>\n",
       "      <td>[Biographical film, Drama, Documentary]</td>\n",
       "      <td>[Ireland, United Kingdom]</td>\n",
       "      <td>NaN</td>\n",
       "    </tr>\n",
       "    <tr>\n",
       "      <th>90665</th>\n",
       "      <td>tt1606259</td>\n",
       "      <td>34980460</td>\n",
       "      <td>/m/0g4pl34</td>\n",
       "      <td>United Kingdom</td>\n",
       "      <td>knuckle</td>\n",
       "      <td>22008.0</td>\n",
       "      <td>2011.0</td>\n",
       "      <td>[Biographical film, Drama, Documentary]</td>\n",
       "      <td>[Ireland, United Kingdom]</td>\n",
       "      <td>NaN</td>\n",
       "    </tr>\n",
       "  </tbody>\n",
       "</table>\n",
       "<p>90666 rows × 10 columns</p>\n",
       "</div>"
      ],
      "text/plain": [
       "          tconst   Wiki_ID Freebase_ID         country           movie  \\\n",
       "0      tt0228333    975900   /m/03vyhn        Domestic  ghosts of mars   \n",
       "1      tt0228333    975900   /m/03vyhn          France  ghosts of mars   \n",
       "2      tt0228333    975900   /m/03vyhn           Spain  ghosts of mars   \n",
       "3      tt0228333    975900   /m/03vyhn         Germany  ghosts of mars   \n",
       "4      tt0228333    975900   /m/03vyhn  United Kingdom  ghosts of mars   \n",
       "...          ...       ...         ...             ...             ...   \n",
       "90661  tt0120202   1918494   /m/0660qx         Denmark  state and main   \n",
       "90662  tt0120202   1918494   /m/0660qx       Australia  state and main   \n",
       "90663  tt0107057    664006   /m/030xw6        Domestic   guilty as sin   \n",
       "90664  tt1606259  34980460  /m/0g4pl34        Domestic         knuckle   \n",
       "90665  tt1606259  34980460  /m/0g4pl34  United Kingdom         knuckle   \n",
       "\n",
       "            gross  release_date  \\\n",
       "0       8709640.0        2001.0   \n",
       "1       1937390.0        2001.0   \n",
       "2        509536.0        2001.0   \n",
       "3        496679.0        2001.0   \n",
       "4        148898.0        2001.0   \n",
       "...           ...           ...   \n",
       "90661     13732.0        2000.0   \n",
       "90662    385631.0        2000.0   \n",
       "90663  22866222.0        1993.0   \n",
       "90664      2647.0        2011.0   \n",
       "90665     22008.0        2011.0   \n",
       "\n",
       "                                                  genres  \\\n",
       "0      [Thriller, Science Fiction, Horror, Adventure,...   \n",
       "1      [Thriller, Science Fiction, Horror, Adventure,...   \n",
       "2      [Thriller, Science Fiction, Horror, Adventure,...   \n",
       "3      [Thriller, Science Fiction, Horror, Adventure,...   \n",
       "4      [Thriller, Science Fiction, Horror, Adventure,...   \n",
       "...                                                  ...   \n",
       "90661                        [Parody, Americana, Comedy]   \n",
       "90662                        [Parody, Americana, Comedy]   \n",
       "90663  [Thriller, Erotic thriller, Psychological thri...   \n",
       "90664            [Biographical film, Drama, Documentary]   \n",
       "90665            [Biographical film, Drama, Documentary]   \n",
       "\n",
       "                                countries  Ratio_Female_to_Total  \n",
       "0              [United States of America]               0.352941  \n",
       "1              [United States of America]               0.352941  \n",
       "2              [United States of America]               0.352941  \n",
       "3              [United States of America]               0.352941  \n",
       "4              [United States of America]               0.352941  \n",
       "...                                   ...                    ...  \n",
       "90661  [France, United States of America]               0.181818  \n",
       "90662  [France, United States of America]               0.181818  \n",
       "90663          [United States of America]               0.375000  \n",
       "90664           [Ireland, United Kingdom]                    NaN  \n",
       "90665           [Ireland, United Kingdom]                    NaN  \n",
       "\n",
       "[90666 rows x 10 columns]"
      ]
     },
     "execution_count": 126,
     "metadata": {},
     "output_type": "execute_result"
    }
   ],
   "source": [
    "gross_gender = gross_country.copy()\n",
    "#merge gross and movies_clean_genre on wiki_ID\n",
    "gross_gender = gross_gender.merge(movies_clean_gender[['Wiki_ID', 'Ratio_Female_to_Total']], on = 'Wiki_ID', how = 'left')\n",
    "gross_gender"
   ]
  },
  {
   "cell_type": "code",
   "execution_count": 127,
   "metadata": {},
   "outputs": [
    {
     "name": "stdout",
     "output_type": "stream",
     "text": [
      "Total entries in character dataframe: 450669\n",
      "Number of missing values in 'actor_ethnicity': 344611\n",
      "Percentage of missing values in 'actor_ethnicity': 76.47%\n"
     ]
    }
   ],
   "source": [
    "# Analyzing Ethnicity Data\n",
    "print(f\"Total entries in character dataframe: {len(character)}\")\n",
    "\n",
    "# Check for missing values in 'actor_ethnicity'\n",
    "missing_ethnicity = character['actor_ethnicity'].isna().sum()\n",
    "print(f\"Number of missing values in 'actor_ethnicity': {missing_ethnicity}\")\n",
    "print(f\"Percentage of missing values in 'actor_ethnicity': {missing_ethnicity / len(character) * 100:.2f}%\")"
   ]
  },
  {
   "cell_type": "code",
   "execution_count": 128,
   "metadata": {},
   "outputs": [
    {
     "name": "stdout",
     "output_type": "stream",
     "text": [
      "actor_ethnicity\n",
      "/m/0dryh9k    15.417036\n",
      "/m/0x67        9.578721\n",
      "/m/041rx       9.542892\n",
      "/m/02w7gg      5.812857\n",
      "/m/033tf_      3.636689\n",
      "                ...    \n",
      "/m/043_z22     0.000943\n",
      "/m/03x_fq7     0.000943\n",
      "/m/01hphz      0.000943\n",
      "/m/033fjj      0.000943\n",
      "/m/013y54      0.000943\n",
      "Name: proportion, Length: 479, dtype: float64\n"
     ]
    }
   ],
   "source": [
    "#Filling Nan with 'Unknown' ethnicity\n",
    "character_ethnicity = character_gender.copy()\n",
    "character_ethnicity['actor_ethnicity'] = character_ethnicity['actor_ethnicity']\n",
    "\n",
    "# Analyzing ethnicity distribution\n",
    "ethnicity_distribution = character['actor_ethnicity'].value_counts(normalize=True) * 100\n",
    "print(ethnicity_distribution)"
   ]
  },
  {
   "cell_type": "markdown",
   "metadata": {},
   "source": [
    "We have the distribution of the ethnicities, but they are encoded as ids. Lets decode them :"
   ]
  },
  {
   "cell_type": "code",
   "execution_count": 129,
   "metadata": {},
   "outputs": [
    {
     "name": "stdout",
     "output_type": "stream",
     "text": [
      "actor_ethnicity\n",
      "Indian person             15.417036\n",
      "African Americans          9.578721\n",
      "Jewish people              9.542892\n",
      "English people             5.812857\n",
      "Irish Americans            3.636689\n",
      "                            ...    \n",
      "/m/043_z22                 0.000943\n",
      "Aboriginal Australians     0.000943\n",
      "Indian diaspora            0.000943\n",
      "Ho-Chunk                   0.000943\n",
      "Han Chinese people         0.000943\n",
      "Name: proportion, Length: 479, dtype: float64\n"
     ]
    }
   ],
   "source": [
    "# Load the CSV file into a DataFrame\n",
    "ethnicity_labels_df = pd.read_csv('dictionnaries/ethnicity_labels.csv')\n",
    "\n",
    "# Convert the DataFrame to a dictionary\n",
    "ethnicity_labels = dict(zip(ethnicity_labels_df['Freebase ID'], ethnicity_labels_df['Ethnicity Label']))\n",
    "\n",
    "# Replace the codes in 'ethnicity_distribution' with their labels\n",
    "ethnicity_distribution_labeled = ethnicity_distribution.rename(index=ethnicity_labels)\n",
    "\n",
    "# Print the updated distribution\n",
    "print(ethnicity_distribution_labeled)"
   ]
  },
  {
   "cell_type": "markdown",
   "metadata": {},
   "source": [
    "We can see that some ethnicities aren't translated. Lets analyse them."
   ]
  },
  {
   "cell_type": "code",
   "execution_count": 130,
   "metadata": {},
   "outputs": [
    {
     "name": "stdout",
     "output_type": "stream",
     "text": [
      "Most common untranslated ethnicity: /m/044038p (1885 occurrences)\n",
      "Five most common untranslated ethnicities:\n",
      "actor_ethnicity\n",
      "/m/044038p    1885\n",
      "/m/02p1pl6     200\n",
      "/m/04tvpv      197\n",
      "/m/02p656s     121\n",
      "/m/0283js_      81\n",
      "Name: count, dtype: int64\n"
     ]
    }
   ],
   "source": [
    "# Identifying untranslated ethnicity codes\n",
    "untranslated_codes = set(character_ethnicity['actor_ethnicity']) - set(ethnicity_labels.keys())\n",
    "untranslated_codes = {code for code in untranslated_codes if isinstance(code, str)}  # Ensure that NaNs are not included\n",
    "\n",
    "# Counting the number of untranslated ethnicities\n",
    "untranslated_counts = character_ethnicity['actor_ethnicity'].apply(lambda x: x if x in untranslated_codes else np.nan).value_counts()\n",
    "\n",
    "character_ethnicity_df = character_ethnicity.copy()\n",
    "\n",
    "# Find the most common untranslated ethnicity\n",
    "if not untranslated_counts.empty:\n",
    "    most_common_untranslated = untranslated_counts.idxmax()\n",
    "    most_common_untranslated_count = untranslated_counts.max()\n",
    "    print(f\"Most common untranslated ethnicity: {most_common_untranslated} ({most_common_untranslated_count} occurrences)\")\n",
    "\n",
    "    print(\"Five most common untranslated ethnicities:\")\n",
    "    print(untranslated_counts.head(5))\n",
    "\n",
    "else:\n",
    "    print(\"No untranslated ethnicity codes found.\")"
   ]
  },
  {
   "cell_type": "markdown",
   "metadata": {},
   "source": [
    "There are 1885 actors with ethnicity '/m/044038p'. Lets see who they are."
   ]
  },
  {
   "cell_type": "code",
   "execution_count": 131,
   "metadata": {},
   "outputs": [
    {
     "name": "stdout",
     "output_type": "stream",
     "text": [
      "                actor_name actor_ethnicity\n",
      "394072         Will Arnett      /m/044038p\n",
      "207483          Dave Foley      /m/044038p\n",
      "394298       Kevin McNulty      /m/044038p\n",
      "318177       Lochlyn Munro      /m/044038p\n",
      "267692      Joanna Gleason      /m/044038p\n",
      "12055       Rachel Hayward      /m/044038p\n",
      "143427      Cameron Bright      /m/044038p\n",
      "134518  Natasha Henstridge      /m/044038p\n",
      "381813        John Kapelos      /m/044038p\n",
      "258528       Kate Nelligan      /m/044038p\n"
     ]
    }
   ],
   "source": [
    "# Filter for actors with the specified ethnicity code\n",
    "actors_with_specific_ethnicity = character_ethnicity[character_ethnicity['actor_ethnicity'] == '/m/044038p']\n",
    "\n",
    "# Select 10 actors from this group\n",
    "sample_actors = actors_with_specific_ethnicity.sample(10)\n",
    "\n",
    "# Print the selected actors\n",
    "print(sample_actors[['actor_name', 'actor_ethnicity']])"
   ]
  },
  {
   "cell_type": "markdown",
   "metadata": {},
   "source": [
    "Those 10 actors are all canadians. We will call this ethnicity 'Canadians'."
   ]
  },
  {
   "cell_type": "code",
   "execution_count": 132,
   "metadata": {},
   "outputs": [
    {
     "name": "stdout",
     "output_type": "stream",
     "text": [
      "   Wiki_ID Freebase_ID release_date              character_name   actor_DOB  \\\n",
      "0   975900   /m/03vyhn   2001-08-24                    Akooshay  1958-08-26   \n",
      "1   975900   /m/03vyhn   2001-08-24  Lieutenant Melanie Ballard  1974-08-15   \n",
      "2   975900   /m/03vyhn   2001-08-24         Desolation Williams  1969-06-15   \n",
      "3   975900   /m/03vyhn   2001-08-24          Sgt Jericho Butler  1967-09-12   \n",
      "4   975900   /m/03vyhn   2001-08-24             Bashira Kincaid  1977-09-25   \n",
      "\n",
      "  actor_gender  actor_height actor_ethnicity          actor_name  actor_age  \n",
      "0            F         1.620         Unknown      Wanda De Jesus       42.0  \n",
      "1            F         1.780       Canadians  Natasha Henstridge       27.0  \n",
      "2            M         1.727         /m/0x67            Ice Cube       32.0  \n",
      "3            M         1.750         Unknown       Jason Statham       33.0  \n",
      "4            F         1.650         Unknown         Clea DuVall       23.0  \n"
     ]
    }
   ],
   "source": [
    "# Define a function to replace unknown ethnicities\n",
    "def replace_unknown_ethnicities(ethnicity):\n",
    "    if ethnicity == '/m/044038p':\n",
    "        return 'Canadians'\n",
    "    elif not ethnicity in ethnicity_labels.keys():\n",
    "        return 'Unknown'\n",
    "    else:\n",
    "        return ethnicity\n",
    "\n",
    "# Apply the function to the actor_ethnicity column\n",
    "character_ethnicity['actor_ethnicity'] = character_ethnicity['actor_ethnicity'].apply(replace_unknown_ethnicities)\n",
    "\n",
    "print(character_ethnicity.head())"
   ]
  },
  {
   "cell_type": "code",
   "execution_count": 133,
   "metadata": {},
   "outputs": [
    {
     "name": "stdout",
     "output_type": "stream",
     "text": [
      "   Wiki_ID Freebase_ID release_date              character_name   actor_DOB  \\\n",
      "0   975900   /m/03vyhn   2001-08-24                    Akooshay  1958-08-26   \n",
      "1   975900   /m/03vyhn   2001-08-24  Lieutenant Melanie Ballard  1974-08-15   \n",
      "2   975900   /m/03vyhn   2001-08-24         Desolation Williams  1969-06-15   \n",
      "3   975900   /m/03vyhn   2001-08-24          Sgt Jericho Butler  1967-09-12   \n",
      "4   975900   /m/03vyhn   2001-08-24             Bashira Kincaid  1977-09-25   \n",
      "\n",
      "  actor_gender  actor_height actor_ethnicity          actor_name  actor_age  \n",
      "0            F         1.620             NaN      Wanda De Jesus       42.0  \n",
      "1            F         1.780       Canadians  Natasha Henstridge       27.0  \n",
      "2            M         1.727         /m/0x67            Ice Cube       32.0  \n",
      "3            M         1.750             NaN       Jason Statham       33.0  \n",
      "4            F         1.650             NaN         Clea DuVall       23.0  \n"
     ]
    }
   ],
   "source": [
    "# Replace 'Unknown' with np.nan in the actor_ethnicity column\n",
    "character_ethnicity['actor_ethnicity'] = character_ethnicity['actor_ethnicity'].replace('Unknown', np.nan)\n",
    "\n",
    "# Optionally, print a few rows to verify the changes\n",
    "print(character_ethnicity.head())"
   ]
  },
  {
   "cell_type": "code",
   "execution_count": 134,
   "metadata": {},
   "outputs": [
    {
     "name": "stdout",
     "output_type": "stream",
     "text": [
      "English                                 40891\n",
      "Hindi                                    3744\n",
      "Spanish                                  3673\n",
      "French                                   3422\n",
      "Silent film                              3183\n",
      "                                        ...  \n",
      "Southwestern Mandarin                       1\n",
      "Australian Aboriginal Pidgin English        1\n",
      "Krio                                        1\n",
      "Pawnee                                      1\n",
      "Kuna language                               1\n",
      "Name: count, Length: 205, dtype: int64\n"
     ]
    }
   ],
   "source": [
    "def extract_languages(lang_str):\n",
    "    if pd.isna(lang_str):\n",
    "        return ['Unknown']\n",
    "    try:\n",
    "        # Parse the string as a dictionary\n",
    "        lang_dict = ast.literal_eval(lang_str)\n",
    "        # Extract the language names and remove 'Language' from the end\n",
    "        languages = [lang.split(' Language')[0] for lang in lang_dict.values()]\n",
    "\n",
    "        return languages\n",
    "    except ValueError:\n",
    "        # Handle cases where lang_str cannot be parsed\n",
    "        return ['Unknown']\n",
    "\n",
    "movies_clean_languages = movies_clean_country.copy()\n",
    "movies_clean_languages['languages'] = movies_clean_languages['languages'].apply(extract_languages)\n",
    "\n",
    "# Counting languages\n",
    "language_counts = pd.Series([lang for sublist in movies_clean_languages['languages'] for lang in sublist]).value_counts()\n",
    "print(language_counts)"
   ]
  },
  {
   "cell_type": "code",
   "execution_count": 135,
   "metadata": {},
   "outputs": [],
   "source": [
    "gross_language = gross_gender.copy()\n",
    "#merge gross_gender and movies_clean_language on wiki_ID\n",
    "gross_language = gross_language.merge(movies_clean_languages[['Wiki_ID', 'languages']], on = 'Wiki_ID', how = 'left')"
   ]
  },
  {
   "cell_type": "code",
   "execution_count": 136,
   "metadata": {},
   "outputs": [
    {
     "name": "stdout",
     "output_type": "stream",
     "text": [
      "Number of multilingual movies: 9807 over 81741 movies.\n",
      "5     [Silent film, English]\n",
      "48    [Silent film, English]\n",
      "49      [Afrikaans, English]\n",
      "51    [Silent film, English]\n",
      "52    [Silent film, English]\n",
      "Name: languages, dtype: object\n"
     ]
    }
   ],
   "source": [
    "# Count the number of movies with more than one language\n",
    "multilingual_movies = movies_clean_languages['languages'].apply(lambda x: len(x) > 1)\n",
    "\n",
    "print(f\"Number of multilingual movies: {multilingual_movies.sum()} over {len(multilingual_movies)} movies.\")\n",
    "print(movies_clean_languages['languages'][multilingual_movies].head())"
   ]
  },
  {
   "cell_type": "code",
   "execution_count": 137,
   "metadata": {},
   "outputs": [
    {
     "name": "stdout",
     "output_type": "stream",
     "text": [
      "Most common multilingual language combinations:\n",
      "multilingual_combination\n",
      "English-Silent film    2297\n",
      "English-French          522\n",
      "English-Spanish         506\n",
      "English-Italian         278\n",
      "English-German          264\n",
      "Name: count, dtype: int64\n"
     ]
    }
   ],
   "source": [
    "# Creating a new dataframe for multilingual movies for language combination analysis\n",
    "multilingual_combinations_df = movies_clean_languages.copy()\n",
    "multilingual_combinations_df = multilingual_combinations_df[multilingual_combinations_df['languages'].apply(lambda x: len(x) > 1 and 'Unknown' not in x)]\n",
    "\n",
    "# Create a distinct identifier for each multilingual language combination\n",
    "multilingual_combinations_df['multilingual_combination'] = multilingual_combinations_df['languages'].apply(lambda x: '-'.join(sorted(x)))\n",
    "\n",
    "# Count the occurrences of each multilingual language combination\n",
    "multilingual_combination_counts = multilingual_combinations_df['multilingual_combination'].value_counts()\n",
    "print(\"Most common multilingual language combinations:\")\n",
    "print(multilingual_combination_counts.head())  # Adjust the number of combinations to display as needed\n"
   ]
  },
  {
   "cell_type": "code",
   "execution_count": 138,
   "metadata": {},
   "outputs": [
    {
     "data": {
      "image/png": "[encoded data removed]",
      "text/plain": [
       "<Figure size 1000x600 with 1 Axes>"
      ]
     },
     "metadata": {},
     "output_type": "display_data"
    }
   ],
   "source": [
    "number_of_languages = movies_clean_languages.drop_duplicates(subset='Wiki_ID')['languages'].dropna().apply(lambda x: len(x))\n",
    "# histogram of the number of genres\n",
    "plt.figure(figsize=(10, 6))\n",
    "plt.hist(number_of_languages,bins = np.arange(1, 15, 1)-0.5, edgecolor = 'black', linewidth = 1.2)\n",
    "plt.xlabel('Number of Languages')\n",
    "plt.xticks(np.arange(1, 15, 1))\n",
    "plt.ylabel('Frequency (log)')\n",
    "plt.yscale('log')\n",
    "plt.title('Histogram of the Number of Languages')\n",
    "plt.show()"
   ]
  },
  {
   "cell_type": "markdown",
   "metadata": {},
   "source": [
    "# Analysis"
   ]
  },
  {
   "cell_type": "code",
   "execution_count": 139,
   "metadata": {},
   "outputs": [
    {
     "data": {
      "text/plain": [
       "Index(['Wiki_ID', 'Freebase_ID', 'name', 'release_date', 'runtime',\n",
       "       'languages', 'countries', 'genres', 'gross'],\n",
       "      dtype='object')"
      ]
     },
     "execution_count": 139,
     "metadata": {},
     "output_type": "execute_result"
    }
   ],
   "source": [
    "movies_clean_languages.columns"
   ]
  },
  {
   "cell_type": "code",
   "execution_count": 140,
   "metadata": {},
   "outputs": [
    {
     "data": {
      "text/html": [
       "<div>\n",
       "<style scoped>\n",
       "    .dataframe tbody tr th:only-of-type {\n",
       "        vertical-align: middle;\n",
       "    }\n",
       "\n",
       "    .dataframe tbody tr th {\n",
       "        vertical-align: top;\n",
       "    }\n",
       "\n",
       "    .dataframe thead th {\n",
       "        text-align: right;\n",
       "    }\n",
       "</style>\n",
       "<table border=\"1\" class=\"dataframe\">\n",
       "  <thead>\n",
       "    <tr style=\"text-align: right;\">\n",
       "      <th></th>\n",
       "      <th>Wiki_ID</th>\n",
       "      <th>Freebase_ID</th>\n",
       "      <th>name</th>\n",
       "      <th>release_date</th>\n",
       "      <th>runtime</th>\n",
       "      <th>languages</th>\n",
       "      <th>countries</th>\n",
       "      <th>genres</th>\n",
       "      <th>gross</th>\n",
       "    </tr>\n",
       "  </thead>\n",
       "  <tbody>\n",
       "    <tr>\n",
       "      <th>0</th>\n",
       "      <td>975900</td>\n",
       "      <td>/m/03vyhn</td>\n",
       "      <td>Ghosts of Mars</td>\n",
       "      <td>2001.0</td>\n",
       "      <td>98.0</td>\n",
       "      <td>[English]</td>\n",
       "      <td>[United States of America]</td>\n",
       "      <td>[Thriller, Science Fiction, Horror, Adventure,...</td>\n",
       "      <td>11996794.0</td>\n",
       "    </tr>\n",
       "    <tr>\n",
       "      <th>1</th>\n",
       "      <td>3196793</td>\n",
       "      <td>/m/08yl5d</td>\n",
       "      <td>Getting Away with Murder: The JonBenét Ramsey ...</td>\n",
       "      <td>2000.0</td>\n",
       "      <td>95.0</td>\n",
       "      <td>[English]</td>\n",
       "      <td>[United States of America]</td>\n",
       "      <td>[Mystery, Biographical film, Drama, Crime Drama]</td>\n",
       "      <td>NaN</td>\n",
       "    </tr>\n",
       "    <tr>\n",
       "      <th>2</th>\n",
       "      <td>28463795</td>\n",
       "      <td>/m/0crgdbh</td>\n",
       "      <td>Brun bitter</td>\n",
       "      <td>1988.0</td>\n",
       "      <td>83.0</td>\n",
       "      <td>[Norwegian]</td>\n",
       "      <td>[Norway]</td>\n",
       "      <td>[Crime Fiction, Drama]</td>\n",
       "      <td>NaN</td>\n",
       "    </tr>\n",
       "    <tr>\n",
       "      <th>3</th>\n",
       "      <td>9363483</td>\n",
       "      <td>/m/0285_cd</td>\n",
       "      <td>White Of The Eye</td>\n",
       "      <td>1987.0</td>\n",
       "      <td>110.0</td>\n",
       "      <td>[English]</td>\n",
       "      <td>[United Kingdom]</td>\n",
       "      <td>[Thriller, Erotic thriller, Psychological thri...</td>\n",
       "      <td>NaN</td>\n",
       "    </tr>\n",
       "    <tr>\n",
       "      <th>4</th>\n",
       "      <td>261236</td>\n",
       "      <td>/m/01mrr1</td>\n",
       "      <td>A Woman in Flames</td>\n",
       "      <td>1983.0</td>\n",
       "      <td>106.0</td>\n",
       "      <td>[German]</td>\n",
       "      <td>[Germany]</td>\n",
       "      <td>[Drama]</td>\n",
       "      <td>NaN</td>\n",
       "    </tr>\n",
       "  </tbody>\n",
       "</table>\n",
       "</div>"
      ],
      "text/plain": [
       "    Wiki_ID Freebase_ID                                               name  \\\n",
       "0    975900   /m/03vyhn                                     Ghosts of Mars   \n",
       "1   3196793   /m/08yl5d  Getting Away with Murder: The JonBenét Ramsey ...   \n",
       "2  28463795  /m/0crgdbh                                        Brun bitter   \n",
       "3   9363483  /m/0285_cd                                   White Of The Eye   \n",
       "4    261236   /m/01mrr1                                  A Woman in Flames   \n",
       "\n",
       "   release_date  runtime    languages                   countries  \\\n",
       "0        2001.0     98.0    [English]  [United States of America]   \n",
       "1        2000.0     95.0    [English]  [United States of America]   \n",
       "2        1988.0     83.0  [Norwegian]                    [Norway]   \n",
       "3        1987.0    110.0    [English]            [United Kingdom]   \n",
       "4        1983.0    106.0     [German]                   [Germany]   \n",
       "\n",
       "                                              genres       gross  \n",
       "0  [Thriller, Science Fiction, Horror, Adventure,...  11996794.0  \n",
       "1   [Mystery, Biographical film, Drama, Crime Drama]         NaN  \n",
       "2                             [Crime Fiction, Drama]         NaN  \n",
       "3  [Thriller, Erotic thriller, Psychological thri...         NaN  \n",
       "4                                            [Drama]         NaN  "
      ]
     },
     "execution_count": 140,
     "metadata": {},
     "output_type": "execute_result"
    }
   ],
   "source": [
    "movies_clean_languages.head()"
   ]
  },
  {
   "cell_type": "code",
   "execution_count": 141,
   "metadata": {},
   "outputs": [
    {
     "data": {
      "text/plain": [
       "Index(['tconst', 'Wiki_ID', 'Freebase_ID', 'country', 'movie', 'gross',\n",
       "       'release_date', 'genres', 'countries', 'Ratio_Female_to_Total',\n",
       "       'languages'],\n",
       "      dtype='object')"
      ]
     },
     "execution_count": 141,
     "metadata": {},
     "output_type": "execute_result"
    }
   ],
   "source": [
    "gross_language.columns"
   ]
  },
  {
   "cell_type": "code",
   "execution_count": 142,
   "metadata": {},
   "outputs": [
    {
     "data": {
      "text/html": [
       "<div>\n",
       "<style scoped>\n",
       "    .dataframe tbody tr th:only-of-type {\n",
       "        vertical-align: middle;\n",
       "    }\n",
       "\n",
       "    .dataframe tbody tr th {\n",
       "        vertical-align: top;\n",
       "    }\n",
       "\n",
       "    .dataframe thead th {\n",
       "        text-align: right;\n",
       "    }\n",
       "</style>\n",
       "<table border=\"1\" class=\"dataframe\">\n",
       "  <thead>\n",
       "    <tr style=\"text-align: right;\">\n",
       "      <th></th>\n",
       "      <th>tconst</th>\n",
       "      <th>Wiki_ID</th>\n",
       "      <th>Freebase_ID</th>\n",
       "      <th>country</th>\n",
       "      <th>movie</th>\n",
       "      <th>gross</th>\n",
       "      <th>release_date</th>\n",
       "      <th>genres</th>\n",
       "      <th>countries</th>\n",
       "      <th>Ratio_Female_to_Total</th>\n",
       "      <th>languages</th>\n",
       "    </tr>\n",
       "  </thead>\n",
       "  <tbody>\n",
       "    <tr>\n",
       "      <th>0</th>\n",
       "      <td>tt0228333</td>\n",
       "      <td>975900</td>\n",
       "      <td>/m/03vyhn</td>\n",
       "      <td>Domestic</td>\n",
       "      <td>ghosts of mars</td>\n",
       "      <td>8709640.0</td>\n",
       "      <td>2001.0</td>\n",
       "      <td>[Thriller, Science Fiction, Horror, Adventure,...</td>\n",
       "      <td>[United States of America]</td>\n",
       "      <td>0.352941</td>\n",
       "      <td>[English]</td>\n",
       "    </tr>\n",
       "    <tr>\n",
       "      <th>1</th>\n",
       "      <td>tt0228333</td>\n",
       "      <td>975900</td>\n",
       "      <td>/m/03vyhn</td>\n",
       "      <td>France</td>\n",
       "      <td>ghosts of mars</td>\n",
       "      <td>1937390.0</td>\n",
       "      <td>2001.0</td>\n",
       "      <td>[Thriller, Science Fiction, Horror, Adventure,...</td>\n",
       "      <td>[United States of America]</td>\n",
       "      <td>0.352941</td>\n",
       "      <td>[English]</td>\n",
       "    </tr>\n",
       "    <tr>\n",
       "      <th>2</th>\n",
       "      <td>tt0228333</td>\n",
       "      <td>975900</td>\n",
       "      <td>/m/03vyhn</td>\n",
       "      <td>Spain</td>\n",
       "      <td>ghosts of mars</td>\n",
       "      <td>509536.0</td>\n",
       "      <td>2001.0</td>\n",
       "      <td>[Thriller, Science Fiction, Horror, Adventure,...</td>\n",
       "      <td>[United States of America]</td>\n",
       "      <td>0.352941</td>\n",
       "      <td>[English]</td>\n",
       "    </tr>\n",
       "    <tr>\n",
       "      <th>3</th>\n",
       "      <td>tt0228333</td>\n",
       "      <td>975900</td>\n",
       "      <td>/m/03vyhn</td>\n",
       "      <td>Germany</td>\n",
       "      <td>ghosts of mars</td>\n",
       "      <td>496679.0</td>\n",
       "      <td>2001.0</td>\n",
       "      <td>[Thriller, Science Fiction, Horror, Adventure,...</td>\n",
       "      <td>[United States of America]</td>\n",
       "      <td>0.352941</td>\n",
       "      <td>[English]</td>\n",
       "    </tr>\n",
       "    <tr>\n",
       "      <th>4</th>\n",
       "      <td>tt0228333</td>\n",
       "      <td>975900</td>\n",
       "      <td>/m/03vyhn</td>\n",
       "      <td>United Kingdom</td>\n",
       "      <td>ghosts of mars</td>\n",
       "      <td>148898.0</td>\n",
       "      <td>2001.0</td>\n",
       "      <td>[Thriller, Science Fiction, Horror, Adventure,...</td>\n",
       "      <td>[United States of America]</td>\n",
       "      <td>0.352941</td>\n",
       "      <td>[English]</td>\n",
       "    </tr>\n",
       "  </tbody>\n",
       "</table>\n",
       "</div>"
      ],
      "text/plain": [
       "      tconst  Wiki_ID Freebase_ID         country           movie      gross  \\\n",
       "0  tt0228333   975900   /m/03vyhn        Domestic  ghosts of mars  8709640.0   \n",
       "1  tt0228333   975900   /m/03vyhn          France  ghosts of mars  1937390.0   \n",
       "2  tt0228333   975900   /m/03vyhn           Spain  ghosts of mars   509536.0   \n",
       "3  tt0228333   975900   /m/03vyhn         Germany  ghosts of mars   496679.0   \n",
       "4  tt0228333   975900   /m/03vyhn  United Kingdom  ghosts of mars   148898.0   \n",
       "\n",
       "   release_date                                             genres  \\\n",
       "0        2001.0  [Thriller, Science Fiction, Horror, Adventure,...   \n",
       "1        2001.0  [Thriller, Science Fiction, Horror, Adventure,...   \n",
       "2        2001.0  [Thriller, Science Fiction, Horror, Adventure,...   \n",
       "3        2001.0  [Thriller, Science Fiction, Horror, Adventure,...   \n",
       "4        2001.0  [Thriller, Science Fiction, Horror, Adventure,...   \n",
       "\n",
       "                    countries  Ratio_Female_to_Total  languages  \n",
       "0  [United States of America]               0.352941  [English]  \n",
       "1  [United States of America]               0.352941  [English]  \n",
       "2  [United States of America]               0.352941  [English]  \n",
       "3  [United States of America]               0.352941  [English]  \n",
       "4  [United States of America]               0.352941  [English]  "
      ]
     },
     "execution_count": 142,
     "metadata": {},
     "output_type": "execute_result"
    }
   ],
   "source": [
    "gross_language.head()"
   ]
  },
  {
   "cell_type": "code",
   "execution_count": null,
   "metadata": {},
   "outputs": [],
   "source": []
  },
  {
   "cell_type": "code",
   "execution_count": 143,
   "metadata": {},
   "outputs": [],
   "source": [
    "import networkx as nx\n",
    "import cartopy.crs as ccrs\n",
    "import cartopy.feature as cfeature\n",
    "from matplotlib.patches import FancyArrowPatch\n",
    "from matplotlib.path import Path"
   ]
  },
  {
   "cell_type": "code",
   "execution_count": 144,
   "metadata": {},
   "outputs": [],
   "source": [
    "cleaned_df = gross_language[['Freebase_ID', 'movie', 'country', 'gross', 'countries']].copy()\n",
    "cleaned_df = cleaned_df[~cleaned_df['countries'].isna()]"
   ]
  },
  {
   "cell_type": "code",
   "execution_count": 145,
   "metadata": {},
   "outputs": [],
   "source": [
    "country_to_region_df = pd.read_csv('dictionnaries/country_to_region.csv')\n",
    "country_to_region_dict = dict(zip(country_to_region_df['Country'], country_to_region_df['Region']))"
   ]
  },
  {
   "cell_type": "code",
   "execution_count": 146,
   "metadata": {},
   "outputs": [],
   "source": [
    "cmu_to_imdb_df = pd.read_csv('dictionnaries/CMU_to_IMDB.csv')\n",
    "cmu_to_imdb_dict = dict(zip(cmu_to_imdb_df['Country_mapped'], cmu_to_imdb_df['Country']))"
   ]
  },
  {
   "cell_type": "code",
   "execution_count": 147,
   "metadata": {},
   "outputs": [],
   "source": [
    "cleaned_df['coprod'] = cleaned_df['countries'].apply(lambda x: [cmu_to_imdb_dict[country] for country in x])"
   ]
  },
  {
   "cell_type": "code",
   "execution_count": 148,
   "metadata": {},
   "outputs": [],
   "source": [
    "# Step 1: Divide box office equally among co-production countries\n",
    "cleaned_df['divided_gross'] = cleaned_df.apply(lambda row: row['gross'] / len(row['coprod']) if row['coprod'] else 0, axis=1)\n",
    "\n",
    "# Step 2: Explode the DataFrame based on 'countries' and map to regions\n",
    "exploded_df = cleaned_df.explode('coprod')\n",
    "exploded_df['co_production_region'] = exploded_df['coprod'].map(country_to_region_dict)\n",
    "\n",
    "# Step 3: Map the 'country' (success) to regions\n",
    "exploded_df['success_region'] = exploded_df['country'].map(country_to_region_dict)\n",
    "\n",
    "# Step 4: Aggregate the data at the region level\n",
    "region_to_region_df = exploded_df.groupby(['co_production_region', 'success_region'])['divided_gross'].sum().reset_index()"
   ]
  },
  {
   "cell_type": "code",
   "execution_count": 149,
   "metadata": {},
   "outputs": [
    {
     "name": "stdout",
     "output_type": "stream",
     "text": [
      "   co_production_region success_region  divided_gross\n",
      "0                Africa         Africa   1.956505e+07\n",
      "1                Africa           Asia   4.487756e+07\n",
      "2                Africa         Europe   1.328634e+08\n",
      "3                Africa  North America   2.542300e+08\n",
      "4                Africa        Oceania   1.506481e+07\n",
      "5                Africa  South America   1.606093e+07\n",
      "6                  Asia         Africa   1.536597e+07\n",
      "7                  Asia           Asia   3.136682e+09\n",
      "8                  Asia         Europe   9.180588e+08\n",
      "9                  Asia  North America   2.343514e+09\n",
      "10                 Asia        Oceania   1.225408e+08\n",
      "11                 Asia  South America   8.246875e+07\n",
      "12               Europe         Africa   1.530073e+08\n",
      "13               Europe           Asia   4.421662e+09\n",
      "14               Europe         Europe   1.617832e+10\n",
      "15               Europe  North America   2.235525e+10\n",
      "16               Europe        Oceania   1.642330e+09\n",
      "17               Europe  South America   1.058508e+09\n",
      "18        North America         Africa   8.787612e+08\n",
      "19        North America           Asia   2.120333e+10\n",
      "20        North America         Europe   5.828720e+10\n",
      "21        North America  North America   1.809453e+11\n",
      "22        North America        Oceania   7.790412e+09\n",
      "23        North America  South America   7.516644e+09\n",
      "24              Oceania         Africa   2.655407e+07\n",
      "25              Oceania           Asia   8.357266e+08\n",
      "26              Oceania         Europe   2.414028e+09\n",
      "27              Oceania  North America   4.125703e+09\n",
      "28              Oceania        Oceania   5.592150e+08\n",
      "29              Oceania  South America   2.016068e+08\n",
      "30        South America         Africa   2.805374e+05\n",
      "31        South America           Asia   3.464803e+07\n",
      "32        South America         Europe   9.764465e+07\n",
      "33        South America  North America   2.014743e+08\n",
      "34        South America        Oceania   7.584656e+06\n",
      "35        South America  South America   1.216544e+08\n"
     ]
    }
   ],
   "source": [
    "print(region_to_region_df)"
   ]
  },
  {
   "cell_type": "code",
   "execution_count": 150,
   "metadata": {},
   "outputs": [],
   "source": [
    "# Step 5: Construct the Graph\n",
    "G = nx.DiGraph()\n",
    "for _, row in region_to_region_df.iterrows():\n",
    "    G.add_edge(row['co_production_region'], row['success_region'], weight=row['divided_gross'])\n"
   ]
  },
  {
   "cell_type": "code",
   "execution_count": 151,
   "metadata": {},
   "outputs": [],
   "source": [
    "pos = {\n",
    "    'North America': (-95.7129, 45),\n",
    "    'Europe': (8.6821, 50.1109),\n",
    "    'South America': (-58.3816, -25),\n",
    "    'Asia': (90, 50),\n",
    "    'Africa': (25, 0),\n",
    "    'Oceania': (141.0, -25.0)\n",
    "}"
   ]
  },
  {
   "cell_type": "code",
   "execution_count": 152,
   "metadata": {},
   "outputs": [],
   "source": [
    "# Function to draw a Bezier curve\n",
    "def draw_bezier_arrow(ax, start, end, control, color='blue', lw=1, zorder=1,arrowstyle='-|>', mutation_scale=10):\n",
    "    path = Path([start, control, end], [Path.MOVETO, Path.CURVE3, Path.CURVE3])\n",
    "    patch = FancyArrowPatch(path=path, arrowstyle=arrowstyle, color=color, linewidth=lw, zorder=zorder, mutation_scale=mutation_scale)\n",
    "    ax.add_patch(patch)"
   ]
  },
  {
   "cell_type": "code",
   "execution_count": 153,
   "metadata": {},
   "outputs": [],
   "source": [
    "def offset_control_point(start, end, offset=10):\n",
    "    \"\"\" Calculate an offset control point for Bezier curves. \"\"\"\n",
    "    mid_x, mid_y = (start[0] + end[0]) / 2, (start[1] + end[1]) / 2\n",
    "    return mid_x, mid_y + offset"
   ]
  },
  {
   "cell_type": "code",
   "execution_count": 154,
   "metadata": {},
   "outputs": [],
   "source": [
    "def draw_global_edge(ax, start, end, color='blue', lw=1):\n",
    "    # Start and end are (longitude, latitude) tuples\n",
    "    if start[0] > 0 and end[0] < 0:\n",
    "        # Split the edge at the dateline\n",
    "        mid_point1 = (180, start[1]+30)\n",
    "        mid_point2 = (-180, end[1]+30)\n",
    "\n",
    "        # Draw from start to mid_point1\n",
    "        draw_bezier_arrow(ax, start, mid_point1, offset_control_point(start, mid_point1, offset=10), color=color, lw=lw, zorder=10)\n",
    "        # Draw from mid_point2 to end\n",
    "        draw_bezier_arrow(ax, mid_point2, end, offset_control_point(mid_point2, end, offset=10), color=color, lw=lw,zorder=10)\n",
    "    else :\n",
    "        if start[0] < 0 and end[0] > 0 :\n",
    "            mid_point1 = (-180, start[1]-30)\n",
    "            mid_point2 = (180, end[1]-30)\n",
    "            # Draw from start to mid_point1\n",
    "            draw_bezier_arrow(ax, start, mid_point1, offset_control_point(start, mid_point1,offset=-10), color=color, lw=lw, zorder=10)\n",
    "            # Draw from mid_point2 to end\n",
    "            draw_bezier_arrow(ax, mid_point2, end, offset_control_point(mid_point2, end, offset=-10), color=color, lw=lw,zorder=10)\n",
    "        else :\n",
    "            # Draw a normal edge\n",
    "            draw_bezier_arrow(ax, start, end, offset_control_point(start, end), color=color, lw=lw, zorder=10)"
   ]
  },
  {
   "cell_type": "code",
   "execution_count": 155,
   "metadata": {},
   "outputs": [
    {
     "data": {
      "image/png": "[encoded data removed]",
      "text/plain": [
       "<Figure size 1500x1000 with 1 Axes>"
      ]
     },
     "metadata": {},
     "output_type": "display_data"
    }
   ],
   "source": [
    "# Step 6: Visualize the Graph\n",
    "fig, ax = plt.subplots(\n",
    "    figsize=(15, 10),\n",
    "    subplot_kw={'projection': ccrs.PlateCarree()}\n",
    ")\n",
    "\n",
    "# Add map features\n",
    "ax.add_feature(cfeature.LAND)\n",
    "ax.add_feature(cfeature.OCEAN)\n",
    "ax.add_feature(cfeature.COASTLINE)\n",
    "ax.add_feature(cfeature.BORDERS, linestyle=':')\n",
    "\n",
    "# Set the extent of the map to include all the points\n",
    "ax.set_extent([-180, 180, -90, 90], crs=ccrs.PlateCarree())\n",
    "\n",
    "# Normalize edge weights\n",
    "edge_weights = np.array([data['weight'] for _, _, data in G.edges(data=True)])\n",
    "edge_weights_norm = 5 * edge_weights / edge_weights.max()\n",
    "\n",
    "# Normalize node sizes\n",
    "node_sizes = {node: G.degree(node, weight='weight') for node in G.nodes()}\n",
    "max_size = max(node_sizes.values())\n",
    "node_sizes_transformed = {node: 50 * size / max_size for node, size in node_sizes.items()}\n",
    "\n",
    "# Draw nodes with adjusted sizes\n",
    "for node, (lon, lat) in pos.items():\n",
    "    size = node_sizes_transformed.get(node, 0)  \n",
    "    ax.plot(lon, lat, marker='o', color='red', markersize=15*np.log(size), transform=ccrs.Geodetic())\n",
    "    ax.text(lon, lat, node, verticalalignment='center', horizontalalignment='right', transform=ccrs.Geodetic())\n",
    "\n",
    "# Get the maximum weight for normalization\n",
    "max_weight = max(nx.get_edge_attributes(G, 'weight').values())\n",
    "\n",
    "# Draw edges with Bezier curves\n",
    "for (u, v, data) in G.edges(data=True):\n",
    "    if u != v :  # Skip self-loops for visualization\n",
    "        start_pos, end_pos = pos[u], pos[v]\n",
    "        weight = data['weight']\n",
    "        normalized_weight = 15 * weight / max_weight  \n",
    "\n",
    "        if ((u=='North America' and v=='Asia') or (u=='Asia' and v=='North America')):\n",
    "            draw_global_edge(ax, pos['Asia'], pos['North America'], color='blue', lw=normalized_weight)\n",
    "            draw_global_edge(ax, pos['North America'], pos['Asia'], color='blue', lw=normalized_weight)\n",
    "\n",
    "        else :\n",
    "            # Offset the control points for bidirectional edges\n",
    "            control_point = offset_control_point(start_pos, end_pos, offset=30)\n",
    "            control_point_reverse = offset_control_point(start_pos, end_pos, offset=-30)\n",
    "\n",
    "            # Draw edge from u to v\n",
    "            draw_bezier_arrow(ax, start_pos, end_pos, control_point, color='blue', lw=normalized_weight, zorder=10)\n",
    "            # Draw edge from v to u\n",
    "            draw_bezier_arrow(ax, end_pos, start_pos, control_point_reverse, color='blue', lw=normalized_weight, zorder=10)\n",
    "    \n",
    "\n",
    "\n",
    "plt.show()"
   ]
  },
  {
   "cell_type": "code",
   "execution_count": 156,
   "metadata": {},
   "outputs": [],
   "source": [
    "import folium\n",
    "from folium import Marker\n",
    "import geopandas as gpd\n",
    "from shapely.geometry import Point, LineString\n",
    "import pandas as pd\n",
    "import plotly.graph_objects as go"
   ]
  },
  {
   "cell_type": "code",
   "execution_count": 161,
   "metadata": {},
   "outputs": [
    {
     "data": {
      "application/vnd.plotly.v1+json": {
       "config": {
        "plotlyServerURL": "https://plot.ly"
       },
       "data": [
        {
         "hoverinfo": "text",
         "lat": [
          45
         ],
         "lon": [
          -95.7129
         ],
         "marker": {
          "color": "red",
          "size": 40.62075301653315
         },
         "mode": "markers",
         "text": "Region: North America, Weight: 486'847'127'794",
         "type": "scattergeo"
        },
        {
         "hoverinfo": "text",
         "lat": [
          50.1109
         ],
         "lon": [
          8.6821
         ],
         "marker": {
          "color": "red",
          "size": 20.086017253448663
         },
         "mode": "markers",
         "text": "Region: Europe, Weight: 123'837'198'001",
         "type": "scattergeo"
        },
        {
         "hoverinfo": "text",
         "lat": [
          -25
         ],
         "lon": [
          -58.3816
         ],
         "marker": {
          "color": "red",
          "size": 0
         },
         "mode": "markers",
         "text": "Region: South America, Weight: 9'460'229'901",
         "type": "scattergeo"
        },
        {
         "hoverinfo": "text",
         "lat": [
          50
         ],
         "lon": [
          90
         ],
         "marker": {
          "color": "red",
          "size": 1.6769283083321087
         },
         "mode": "markers",
         "text": "Region: Asia, Weight: 36'295'551'563",
         "type": "scattergeo"
        },
        {
         "hoverinfo": "text",
         "lat": [
          0
         ],
         "lon": [
          25
         ],
         "marker": {
          "color": "red",
          "size": 0
         },
         "mode": "markers",
         "text": "Region: Africa, Weight: 1'576'195'907",
         "type": "scattergeo"
        },
        {
         "hoverinfo": "text",
         "lat": [
          -25
         ],
         "lon": [
          141
         ],
         "marker": {
          "color": "red",
          "size": 0
         },
         "mode": "markers",
         "text": "Region: Oceania, Weight: 18'299'980'258",
         "type": "scattergeo"
        },
        {
         "hoverinfo": "none",
         "lat": [
          0,
          0
         ],
         "line": {
          "color": "blue",
          "width": 0.001621903361670227
         },
         "lon": [
          25,
          25
         ],
         "marker": {
          "color": "blue",
          "size": 0.001621903361670227,
          "symbol": "arrow-bar-up"
         },
         "mode": "lines+markers",
         "type": "scattergeo"
        },
        {
         "hoverinfo": "none",
         "lat": [
          0,
          50
         ],
         "line": {
          "color": "blue",
          "width": 0.003720258790785352
         },
         "lon": [
          25,
          90
         ],
         "marker": {
          "color": "blue",
          "size": 0.003720258790785352,
          "symbol": "arrow-bar-up"
         },
         "mode": "lines+markers",
         "type": "scattergeo"
        },
        {
         "hoverinfo": "none",
         "lat": [
          0,
          50.1109
         ],
         "line": {
          "color": "blue",
          "width": 0.011014105893625883
         },
         "lon": [
          25,
          8.6821
         ],
         "marker": {
          "color": "blue",
          "size": 0.011014105893625883,
          "symbol": "arrow-bar-up"
         },
         "mode": "lines+markers",
         "type": "scattergeo"
        },
        {
         "hoverinfo": "none",
         "lat": [
          0,
          45
         ],
         "line": {
          "color": "blue",
          "width": 0.02107515293769625
         },
         "lon": [
          25,
          -95.7129
         ],
         "marker": {
          "color": "blue",
          "size": 0.02107515293769625,
          "symbol": "arrow-bar-up"
         },
         "mode": "lines+markers",
         "type": "scattergeo"
        },
        {
         "hoverinfo": "none",
         "lat": [
          0,
          -25
         ],
         "line": {
          "color": "blue",
          "width": 0.0012488419214175847
         },
         "lon": [
          25,
          141
         ],
         "marker": {
          "color": "blue",
          "size": 0.0012488419214175847,
          "symbol": "arrow-bar-up"
         },
         "mode": "lines+markers",
         "type": "scattergeo"
        },
        {
         "hoverinfo": "none",
         "lat": [
          0,
          -25
         ],
         "line": {
          "color": "blue",
          "width": 0.0013314184215002596
         },
         "lon": [
          25,
          -58.3816
         ],
         "marker": {
          "color": "blue",
          "size": 0.0013314184215002596,
          "symbol": "arrow-bar-up"
         },
         "mode": "lines+markers",
         "type": "scattergeo"
        },
        {
         "hoverinfo": "none",
         "lat": [
          50,
          0
         ],
         "line": {
          "color": "blue",
          "width": 0.0012738076019163877
         },
         "lon": [
          90,
          25
         ],
         "marker": {
          "color": "blue",
          "size": 0.0012738076019163877,
          "symbol": "arrow-bar-up"
         },
         "mode": "lines+markers",
         "type": "scattergeo"
        },
        {
         "hoverinfo": "none",
         "lat": [
          50,
          50
         ],
         "line": {
          "color": "blue",
          "width": 0.26002461772842556
         },
         "lon": [
          90,
          90
         ],
         "marker": {
          "color": "blue",
          "size": 0.26002461772842556,
          "symbol": "arrow-bar-up"
         },
         "mode": "lines+markers",
         "type": "scattergeo"
        },
        {
         "hoverinfo": "none",
         "lat": [
          50,
          50.1109
         ],
         "line": {
          "color": "blue",
          "width": 0.07610521695887505
         },
         "lon": [
          90,
          8.6821
         ],
         "marker": {
          "color": "blue",
          "size": 0.07610521695887505,
          "symbol": "arrow-bar-up"
         },
         "mode": "lines+markers",
         "type": "scattergeo"
        },
        {
         "hoverinfo": "none",
         "lat": [
          50,
          45
         ],
         "line": {
          "color": "blue",
          "width": 0.19427254353394
         },
         "lon": [
          90,
          -95.7129
         ],
         "marker": {
          "color": "blue",
          "size": 0.19427254353394,
          "symbol": "arrow-bar-up"
         },
         "mode": "lines+markers",
         "type": "scattergeo"
        },
        {
         "hoverinfo": "none",
         "lat": [
          50,
          -25
         ],
         "line": {
          "color": "blue",
          "width": 0.010158387218735304
         },
         "lon": [
          90,
          141
         ],
         "marker": {
          "color": "blue",
          "size": 0.010158387218735304,
          "symbol": "arrow-bar-up"
         },
         "mode": "lines+markers",
         "type": "scattergeo"
        },
        {
         "hoverinfo": "none",
         "lat": [
          50,
          -25
         ],
         "line": {
          "color": "blue",
          "width": 0.006836492613042421
         },
         "lon": [
          90,
          -58.3816
         ],
         "marker": {
          "color": "blue",
          "size": 0.006836492613042421,
          "symbol": "arrow-bar-up"
         },
         "mode": "lines+markers",
         "type": "scattergeo"
        },
        {
         "hoverinfo": "none",
         "lat": [
          50.1109,
          0
         ],
         "line": {
          "color": "blue",
          "width": 0.012683999161066401
         },
         "lon": [
          8.6821,
          25
         ],
         "marker": {
          "color": "blue",
          "size": 0.012683999161066401,
          "symbol": "arrow-bar-up"
         },
         "mode": "lines+markers",
         "type": "scattergeo"
        },
        {
         "hoverinfo": "none",
         "lat": [
          50.1109,
          50
         ],
         "line": {
          "color": "blue",
          "width": 0.36654681324814864
         },
         "lon": [
          8.6821,
          90
         ],
         "marker": {
          "color": "blue",
          "size": 0.36654681324814864,
          "symbol": "arrow-bar-up"
         },
         "mode": "lines+markers",
         "type": "scattergeo"
        },
        {
         "hoverinfo": "none",
         "lat": [
          50.1109,
          50.1109
         ],
         "line": {
          "color": "blue",
          "width": 1.3411502716003332
         },
         "lon": [
          8.6821,
          8.6821
         ],
         "marker": {
          "color": "blue",
          "size": 1.3411502716003332,
          "symbol": "arrow-bar-up"
         },
         "mode": "lines+markers",
         "type": "scattergeo"
        },
        {
         "hoverinfo": "none",
         "lat": [
          50.1109,
          45
         ],
         "line": {
          "color": "blue",
          "width": 1.8532048072792573
         },
         "lon": [
          8.6821,
          -95.7129
         ],
         "marker": {
          "color": "blue",
          "size": 1.8532048072792573,
          "symbol": "arrow-bar-up"
         },
         "mode": "lines+markers",
         "type": "scattergeo"
        },
        {
         "hoverinfo": "none",
         "lat": [
          50.1109,
          -25
         ],
         "line": {
          "color": "blue",
          "width": 0.13614581562932515
         },
         "lon": [
          8.6821,
          141
         ],
         "marker": {
          "color": "blue",
          "size": 0.13614581562932515,
          "symbol": "arrow-bar-up"
         },
         "mode": "lines+markers",
         "type": "scattergeo"
        },
        {
         "hoverinfo": "none",
         "lat": [
          50.1109,
          -25
         ],
         "line": {
          "color": "blue",
          "width": 0.08774821283199209
         },
         "lon": [
          8.6821,
          -58.3816
         ],
         "marker": {
          "color": "blue",
          "size": 0.08774821283199209,
          "symbol": "arrow-bar-up"
         },
         "mode": "lines+markers",
         "type": "scattergeo"
        },
        {
         "hoverinfo": "none",
         "lat": [
          45,
          0
         ],
         "line": {
          "color": "blue",
          "width": 0.07284752592937904
         },
         "lon": [
          -95.7129,
          25
         ],
         "marker": {
          "color": "blue",
          "size": 0.07284752592937904,
          "symbol": "arrow-bar-up"
         },
         "mode": "lines+markers",
         "type": "scattergeo"
        },
        {
         "hoverinfo": "none",
         "lat": [
          45,
          50
         ],
         "line": {
          "color": "blue",
          "width": 1.7577127519490527
         },
         "lon": [
          -95.7129,
          90
         ],
         "marker": {
          "color": "blue",
          "size": 1.7577127519490527,
          "symbol": "arrow-bar-up"
         },
         "mode": "lines+markers",
         "type": "scattergeo"
        },
        {
         "hoverinfo": "none",
         "lat": [
          45,
          50.1109
         ],
         "line": {
          "color": "blue",
          "width": 4.831891079792503
         },
         "lon": [
          -95.7129,
          8.6821
         ],
         "marker": {
          "color": "blue",
          "size": 4.831891079792503,
          "symbol": "arrow-bar-up"
         },
         "mode": "lines+markers",
         "type": "scattergeo"
        },
        {
         "hoverinfo": "none",
         "lat": [
          45,
          45
         ],
         "line": {
          "color": "blue",
          "width": 15
         },
         "lon": [
          -95.7129,
          -95.7129
         ],
         "marker": {
          "color": "blue",
          "size": 15,
          "symbol": "arrow-bar-up"
         },
         "mode": "lines+markers",
         "type": "scattergeo"
        },
        {
         "hoverinfo": "none",
         "lat": [
          45,
          -25
         ],
         "line": {
          "color": "blue",
          "width": 0.6458093806986738
         },
         "lon": [
          -95.7129,
          141
         ],
         "marker": {
          "color": "blue",
          "size": 0.6458093806986738,
          "symbol": "arrow-bar-up"
         },
         "mode": "lines+markers",
         "type": "scattergeo"
        },
        {
         "hoverinfo": "none",
         "lat": [
          45,
          -25
         ],
         "line": {
          "color": "blue",
          "width": 0.6231145702511134
         },
         "lon": [
          -95.7129,
          -58.3816
         ],
         "marker": {
          "color": "blue",
          "size": 0.6231145702511134,
          "symbol": "arrow-bar-up"
         },
         "mode": "lines+markers",
         "type": "scattergeo"
        },
        {
         "hoverinfo": "none",
         "lat": [
          -25,
          0
         ],
         "line": {
          "color": "blue",
          "width": 0.002201278829294986
         },
         "lon": [
          141,
          25
         ],
         "marker": {
          "color": "blue",
          "size": 0.002201278829294986,
          "symbol": "arrow-bar-up"
         },
         "mode": "lines+markers",
         "type": "scattergeo"
        },
        {
         "hoverinfo": "none",
         "lat": [
          -25,
          50
         ],
         "line": {
          "color": "blue",
          "width": 0.06928004150886578
         },
         "lon": [
          141,
          90
         ],
         "marker": {
          "color": "blue",
          "size": 0.06928004150886578,
          "symbol": "arrow-bar-up"
         },
         "mode": "lines+markers",
         "type": "scattergeo"
        },
        {
         "hoverinfo": "none",
         "lat": [
          -25,
          50.1109
         ],
         "line": {
          "color": "blue",
          "width": 0.2001180603817289
         },
         "lon": [
          141,
          8.6821
         ],
         "marker": {
          "color": "blue",
          "size": 0.2001180603817289,
          "symbol": "arrow-bar-up"
         },
         "mode": "lines+markers",
         "type": "scattergeo"
        },
        {
         "hoverinfo": "none",
         "lat": [
          -25,
          45
         ],
         "line": {
          "color": "blue",
          "width": 0.34201240389321486
         },
         "lon": [
          141,
          -95.7129
         ],
         "marker": {
          "color": "blue",
          "size": 0.34201240389321486,
          "symbol": "arrow-bar-up"
         },
         "mode": "lines+markers",
         "type": "scattergeo"
        },
        {
         "hoverinfo": "none",
         "lat": [
          -25,
          -25
         ],
         "line": {
          "color": "blue",
          "width": 0.046357793115363005
         },
         "lon": [
          141,
          141
         ],
         "marker": {
          "color": "blue",
          "size": 0.046357793115363005,
          "symbol": "arrow-bar-up"
         },
         "mode": "lines+markers",
         "type": "scattergeo"
        },
        {
         "hoverinfo": "none",
         "lat": [
          -25,
          -25
         ],
         "line": {
          "color": "blue",
          "width": 0.016712794682871034
         },
         "lon": [
          141,
          -58.3816
         ],
         "marker": {
          "color": "blue",
          "size": 0.016712794682871034,
          "symbol": "arrow-bar-up"
         },
         "mode": "lines+markers",
         "type": "scattergeo"
        },
        {
         "hoverinfo": "none",
         "lat": [
          -25,
          0
         ],
         "line": {
          "color": "blue",
          "width": 0.00002325598294856829
         },
         "lon": [
          -58.3816,
          25
         ],
         "marker": {
          "color": "blue",
          "size": 0.00002325598294856829,
          "symbol": "arrow-bar-up"
         },
         "mode": "lines+markers",
         "type": "scattergeo"
        },
        {
         "hoverinfo": "none",
         "lat": [
          -25,
          50
         ],
         "line": {
          "color": "blue",
          "width": 0.0028722518350390185
         },
         "lon": [
          -58.3816,
          90
         ],
         "marker": {
          "color": "blue",
          "size": 0.0028722518350390185,
          "symbol": "arrow-bar-up"
         },
         "mode": "lines+markers",
         "type": "scattergeo"
        },
        {
         "hoverinfo": "none",
         "lat": [
          -25,
          50.1109
         ],
         "line": {
          "color": "blue",
          "width": 0.00809454426820529
         },
         "lon": [
          -58.3816,
          8.6821
         ],
         "marker": {
          "color": "blue",
          "size": 0.00809454426820529,
          "symbol": "arrow-bar-up"
         },
         "mode": "lines+markers",
         "type": "scattergeo"
        },
        {
         "hoverinfo": "none",
         "lat": [
          -25,
          45
         ],
         "line": {
          "color": "blue",
          "width": 0.016701813430921197
         },
         "lon": [
          -58.3816,
          -95.7129
         ],
         "marker": {
          "color": "blue",
          "size": 0.016701813430921197,
          "symbol": "arrow-bar-up"
         },
         "mode": "lines+markers",
         "type": "scattergeo"
        },
        {
         "hoverinfo": "none",
         "lat": [
          -25,
          -25
         ],
         "line": {
          "color": "blue",
          "width": 0.0006287526157329782
         },
         "lon": [
          -58.3816,
          141
         ],
         "marker": {
          "color": "blue",
          "size": 0.0006287526157329782,
          "symbol": "arrow-bar-up"
         },
         "mode": "lines+markers",
         "type": "scattergeo"
        },
        {
         "hoverinfo": "none",
         "lat": [
          -25,
          -25
         ],
         "line": {
          "color": "blue",
          "width": 0.010084907196949777
         },
         "lon": [
          -58.3816,
          -58.3816
         ],
         "marker": {
          "color": "blue",
          "size": 0.010084907196949777,
          "symbol": "arrow-bar-up"
         },
         "mode": "lines+markers",
         "type": "scattergeo"
        }
       ],
       "layout": {
        "geo": {
         "countrycolor": "gray",
         "landcolor": "lightgreen",
         "projection": {
          "type": "natural earth"
         },
         "showland": true
        },
        "showlegend": false,
        "template": {
         "data": {
          "bar": [
           {
            "error_x": {
             "color": "#2a3f5f"
            },
            "error_y": {
             "color": "#2a3f5f"
            },
            "marker": {
             "line": {
              "color": "#E5ECF6",
              "width": 0.5
             },
             "pattern": {
              "fillmode": "overlay",
              "size": 10,
              "solidity": 0.2
             }
            },
            "type": "bar"
           }
          ],
          "barpolar": [
           {
            "marker": {
             "line": {
              "color": "#E5ECF6",
              "width": 0.5
             },
             "pattern": {
              "fillmode": "overlay",
              "size": 10,
              "solidity": 0.2
             }
            },
            "type": "barpolar"
           }
          ],
          "carpet": [
           {
            "aaxis": {
             "endlinecolor": "#2a3f5f",
             "gridcolor": "white",
             "linecolor": "white",
             "minorgridcolor": "white",
             "startlinecolor": "#2a3f5f"
            },
            "baxis": {
             "endlinecolor": "#2a3f5f",
             "gridcolor": "white",
             "linecolor": "white",
             "minorgridcolor": "white",
             "startlinecolor": "#2a3f5f"
            },
            "type": "carpet"
           }
          ],
          "choropleth": [
           {
            "colorbar": {
             "outlinewidth": 0,
             "ticks": ""
            },
            "type": "choropleth"
           }
          ],
          "contour": [
           {
            "colorbar": {
             "outlinewidth": 0,
             "ticks": ""
            },
            "colorscale": [
             [
              0,
              "#0d0887"
             ],
             [
              0.1111111111111111,
              "#46039f"
             ],
             [
              0.2222222222222222,
              "#7201a8"
             ],
             [
              0.3333333333333333,
              "#9c179e"
             ],
             [
              0.4444444444444444,
              "#bd3786"
             ],
             [
              0.5555555555555556,
              "#d8576b"
             ],
             [
              0.6666666666666666,
              "#ed7953"
             ],
             [
              0.7777777777777778,
              "#fb9f3a"
             ],
             [
              0.8888888888888888,
              "#fdca26"
             ],
             [
              1,
              "#f0f921"
             ]
            ],
            "type": "contour"
           }
          ],
          "contourcarpet": [
           {
            "colorbar": {
             "outlinewidth": 0,
             "ticks": ""
            },
            "type": "contourcarpet"
           }
          ],
          "heatmap": [
           {
            "colorbar": {
             "outlinewidth": 0,
             "ticks": ""
            },
            "colorscale": [
             [
              0,
              "#0d0887"
             ],
             [
              0.1111111111111111,
              "#46039f"
             ],
             [
              0.2222222222222222,
              "#7201a8"
             ],
             [
              0.3333333333333333,
              "#9c179e"
             ],
             [
              0.4444444444444444,
              "#bd3786"
             ],
             [
              0.5555555555555556,
              "#d8576b"
             ],
             [
              0.6666666666666666,
              "#ed7953"
             ],
             [
              0.7777777777777778,
              "#fb9f3a"
             ],
             [
              0.8888888888888888,
              "#fdca26"
             ],
             [
              1,
              "#f0f921"
             ]
            ],
            "type": "heatmap"
           }
          ],
          "heatmapgl": [
           {
            "colorbar": {
             "outlinewidth": 0,
             "ticks": ""
            },
            "colorscale": [
             [
              0,
              "#0d0887"
             ],
             [
              0.1111111111111111,
              "#46039f"
             ],
             [
              0.2222222222222222,
              "#7201a8"
             ],
             [
              0.3333333333333333,
              "#9c179e"
             ],
             [
              0.4444444444444444,
              "#bd3786"
             ],
             [
              0.5555555555555556,
              "#d8576b"
             ],
             [
              0.6666666666666666,
              "#ed7953"
             ],
             [
              0.7777777777777778,
              "#fb9f3a"
             ],
             [
              0.8888888888888888,
              "#fdca26"
             ],
             [
              1,
              "#f0f921"
             ]
            ],
            "type": "heatmapgl"
           }
          ],
          "histogram": [
           {
            "marker": {
             "pattern": {
              "fillmode": "overlay",
              "size": 10,
              "solidity": 0.2
             }
            },
            "type": "histogram"
           }
          ],
          "histogram2d": [
           {
            "colorbar": {
             "outlinewidth": 0,
             "ticks": ""
            },
            "colorscale": [
             [
              0,
              "#0d0887"
             ],
             [
              0.1111111111111111,
              "#46039f"
             ],
             [
              0.2222222222222222,
              "#7201a8"
             ],
             [
              0.3333333333333333,
              "#9c179e"
             ],
             [
              0.4444444444444444,
              "#bd3786"
             ],
             [
              0.5555555555555556,
              "#d8576b"
             ],
             [
              0.6666666666666666,
              "#ed7953"
             ],
             [
              0.7777777777777778,
              "#fb9f3a"
             ],
             [
              0.8888888888888888,
              "#fdca26"
             ],
             [
              1,
              "#f0f921"
             ]
            ],
            "type": "histogram2d"
           }
          ],
          "histogram2dcontour": [
           {
            "colorbar": {
             "outlinewidth": 0,
             "ticks": ""
            },
            "colorscale": [
             [
              0,
              "#0d0887"
             ],
             [
              0.1111111111111111,
              "#46039f"
             ],
             [
              0.2222222222222222,
              "#7201a8"
             ],
             [
              0.3333333333333333,
              "#9c179e"
             ],
             [
              0.4444444444444444,
              "#bd3786"
             ],
             [
              0.5555555555555556,
              "#d8576b"
             ],
             [
              0.6666666666666666,
              "#ed7953"
             ],
             [
              0.7777777777777778,
              "#fb9f3a"
             ],
             [
              0.8888888888888888,
              "#fdca26"
             ],
             [
              1,
              "#f0f921"
             ]
            ],
            "type": "histogram2dcontour"
           }
          ],
          "mesh3d": [
           {
            "colorbar": {
             "outlinewidth": 0,
             "ticks": ""
            },
            "type": "mesh3d"
           }
          ],
          "parcoords": [
           {
            "line": {
             "colorbar": {
              "outlinewidth": 0,
              "ticks": ""
             }
            },
            "type": "parcoords"
           }
          ],
          "pie": [
           {
            "automargin": true,
            "type": "pie"
           }
          ],
          "scatter": [
           {
            "fillpattern": {
             "fillmode": "overlay",
             "size": 10,
             "solidity": 0.2
            },
            "type": "scatter"
           }
          ],
          "scatter3d": [
           {
            "line": {
             "colorbar": {
              "outlinewidth": 0,
              "ticks": ""
             }
            },
            "marker": {
             "colorbar": {
              "outlinewidth": 0,
              "ticks": ""
             }
            },
            "type": "scatter3d"
           }
          ],
          "scattercarpet": [
           {
            "marker": {
             "colorbar": {
              "outlinewidth": 0,
              "ticks": ""
             }
            },
            "type": "scattercarpet"
           }
          ],
          "scattergeo": [
           {
            "marker": {
             "colorbar": {
              "outlinewidth": 0,
              "ticks": ""
             }
            },
            "type": "scattergeo"
           }
          ],
          "scattergl": [
           {
            "marker": {
             "colorbar": {
              "outlinewidth": 0,
              "ticks": ""
             }
            },
            "type": "scattergl"
           }
          ],
          "scattermapbox": [
           {
            "marker": {
             "colorbar": {
              "outlinewidth": 0,
              "ticks": ""
             }
            },
            "type": "scattermapbox"
           }
          ],
          "scatterpolar": [
           {
            "marker": {
             "colorbar": {
              "outlinewidth": 0,
              "ticks": ""
             }
            },
            "type": "scatterpolar"
           }
          ],
          "scatterpolargl": [
           {
            "marker": {
             "colorbar": {
              "outlinewidth": 0,
              "ticks": ""
             }
            },
            "type": "scatterpolargl"
           }
          ],
          "scatterternary": [
           {
            "marker": {
             "colorbar": {
              "outlinewidth": 0,
              "ticks": ""
             }
            },
            "type": "scatterternary"
           }
          ],
          "surface": [
           {
            "colorbar": {
             "outlinewidth": 0,
             "ticks": ""
            },
            "colorscale": [
             [
              0,
              "#0d0887"
             ],
             [
              0.1111111111111111,
              "#46039f"
             ],
             [
              0.2222222222222222,
              "#7201a8"
             ],
             [
              0.3333333333333333,
              "#9c179e"
             ],
             [
              0.4444444444444444,
              "#bd3786"
             ],
             [
              0.5555555555555556,
              "#d8576b"
             ],
             [
              0.6666666666666666,
              "#ed7953"
             ],
             [
              0.7777777777777778,
              "#fb9f3a"
             ],
             [
              0.8888888888888888,
              "#fdca26"
             ],
             [
              1,
              "#f0f921"
             ]
            ],
            "type": "surface"
           }
          ],
          "table": [
           {
            "cells": {
             "fill": {
              "color": "#EBF0F8"
             },
             "line": {
              "color": "white"
             }
            },
            "header": {
             "fill": {
              "color": "#C8D4E3"
             },
             "line": {
              "color": "white"
             }
            },
            "type": "table"
           }
          ]
         },
         "layout": {
          "annotationdefaults": {
           "arrowcolor": "#2a3f5f",
           "arrowhead": 0,
           "arrowwidth": 1
          },
          "autotypenumbers": "strict",
          "coloraxis": {
           "colorbar": {
            "outlinewidth": 0,
            "ticks": ""
           }
          },
          "colorscale": {
           "diverging": [
            [
             0,
             "#8e0152"
            ],
            [
             0.1,
             "#c51b7d"
            ],
            [
             0.2,
             "#de77ae"
            ],
            [
             0.3,
             "#f1b6da"
            ],
            [
             0.4,
             "#fde0ef"
            ],
            [
             0.5,
             "#f7f7f7"
            ],
            [
             0.6,
             "#e6f5d0"
            ],
            [
             0.7,
             "#b8e186"
            ],
            [
             0.8,
             "#7fbc41"
            ],
            [
             0.9,
             "#4d9221"
            ],
            [
             1,
             "#276419"
            ]
           ],
           "sequential": [
            [
             0,
             "#0d0887"
            ],
            [
             0.1111111111111111,
             "#46039f"
            ],
            [
             0.2222222222222222,
             "#7201a8"
            ],
            [
             0.3333333333333333,
             "#9c179e"
            ],
            [
             0.4444444444444444,
             "#bd3786"
            ],
            [
             0.5555555555555556,
             "#d8576b"
            ],
            [
             0.6666666666666666,
             "#ed7953"
            ],
            [
             0.7777777777777778,
             "#fb9f3a"
            ],
            [
             0.8888888888888888,
             "#fdca26"
            ],
            [
             1,
             "#f0f921"
            ]
           ],
           "sequentialminus": [
            [
             0,
             "#0d0887"
            ],
            [
             0.1111111111111111,
             "#46039f"
            ],
            [
             0.2222222222222222,
             "#7201a8"
            ],
            [
             0.3333333333333333,
             "#9c179e"
            ],
            [
             0.4444444444444444,
             "#bd3786"
            ],
            [
             0.5555555555555556,
             "#d8576b"
            ],
            [
             0.6666666666666666,
             "#ed7953"
            ],
            [
             0.7777777777777778,
             "#fb9f3a"
            ],
            [
             0.8888888888888888,
             "#fdca26"
            ],
            [
             1,
             "#f0f921"
            ]
           ]
          },
          "colorway": [
           "#636efa",
           "#EF553B",
           "#00cc96",
           "#ab63fa",
           "#FFA15A",
           "#19d3f3",
           "#FF6692",
           "#B6E880",
           "#FF97FF",
           "#FECB52"
          ],
          "font": {
           "color": "#2a3f5f"
          },
          "geo": {
           "bgcolor": "white",
           "lakecolor": "white",
           "landcolor": "#E5ECF6",
           "showlakes": true,
           "showland": true,
           "subunitcolor": "white"
          },
          "hoverlabel": {
           "align": "left"
          },
          "hovermode": "closest",
          "mapbox": {
           "style": "light"
          },
          "paper_bgcolor": "white",
          "plot_bgcolor": "#E5ECF6",
          "polar": {
           "angularaxis": {
            "gridcolor": "white",
            "linecolor": "white",
            "ticks": ""
           },
           "bgcolor": "#E5ECF6",
           "radialaxis": {
            "gridcolor": "white",
            "linecolor": "white",
            "ticks": ""
           }
          },
          "scene": {
           "xaxis": {
            "backgroundcolor": "#E5ECF6",
            "gridcolor": "white",
            "gridwidth": 2,
            "linecolor": "white",
            "showbackground": true,
            "ticks": "",
            "zerolinecolor": "white"
           },
           "yaxis": {
            "backgroundcolor": "#E5ECF6",
            "gridcolor": "white",
            "gridwidth": 2,
            "linecolor": "white",
            "showbackground": true,
            "ticks": "",
            "zerolinecolor": "white"
           },
           "zaxis": {
            "backgroundcolor": "#E5ECF6",
            "gridcolor": "white",
            "gridwidth": 2,
            "linecolor": "white",
            "showbackground": true,
            "ticks": "",
            "zerolinecolor": "white"
           }
          },
          "shapedefaults": {
           "line": {
            "color": "#2a3f5f"
           }
          },
          "ternary": {
           "aaxis": {
            "gridcolor": "white",
            "linecolor": "white",
            "ticks": ""
           },
           "baxis": {
            "gridcolor": "white",
            "linecolor": "white",
            "ticks": ""
           },
           "bgcolor": "#E5ECF6",
           "caxis": {
            "gridcolor": "white",
            "linecolor": "white",
            "ticks": ""
           }
          },
          "title": {
           "x": 0.05
          },
          "xaxis": {
           "automargin": true,
           "gridcolor": "white",
           "linecolor": "white",
           "ticks": "",
           "title": {
            "standoff": 15
           },
           "zerolinecolor": "white",
           "zerolinewidth": 2
          },
          "yaxis": {
           "automargin": true,
           "gridcolor": "white",
           "linecolor": "white",
           "ticks": "",
           "title": {
            "standoff": 15
           },
           "zerolinecolor": "white",
           "zerolinewidth": 2
          }
         }
        },
        "title": {
         "text": "Interactive Network Graph"
        }
       }
      }
     },
     "metadata": {},
     "output_type": "display_data"
    },
    {
     "name": "stdout",
     "output_type": "stream",
     "text": [
      "Graph exported as HTML to docs/plots/graph_region.html\n"
     ]
    }
   ],
   "source": [
    "# Positions of the regions\n",
    "pos = {\n",
    "    'North America': (-95.7129, 45),\n",
    "    'Europe': (8.6821, 50.1109),\n",
    "    'South America': (-58.3816, -25),\n",
    "    'Asia': (90, 50),\n",
    "    'Africa': (25, 0),\n",
    "    'Oceania': (141.0, -25.0)\n",
    "}\n",
    "\n",
    "# Create a Plotly figure\n",
    "fig = go.Figure()\n",
    "\n",
    "# Compute node weights\n",
    "node_weights = {node: 0 for node in pos.keys()}\n",
    "for _, row in region_to_region_df.iterrows():\n",
    "    node_weights[row['co_production_region']] += row['divided_gross']\n",
    "    node_weights[row['success_region']] += row['divided_gross']\n",
    "\n",
    "# Normalize the weights\n",
    "max_weight = max(node_weights.values())\n",
    "for node in node_weights:\n",
    "    node_weights[node] = 15 * node_weights[node] / max_weight\n",
    "\n",
    "# Add nodes with hover information\n",
    "for region, (lon, lat) in pos.items():\n",
    "    node_weight = node_weights[region]\n",
    "    formatted_weight = \"{:,}\".format(int(node_weight*max_weight/15)).replace(\",\", \"'\")\n",
    "    node_text = f\"Region: {region}, Weight: {formatted_weight}\"  \n",
    "    adjusted_weight = max(node_weight, 1) \n",
    "    fig.add_trace(go.Scattergeo(\n",
    "        lon = [lon],\n",
    "        lat = [lat],\n",
    "        hoverinfo = 'text',\n",
    "        text = node_text,  \n",
    "        mode = 'markers',\n",
    "        marker = dict(size = 15 * np.log(adjusted_weight), color = 'red'),\n",
    "    ))\n",
    "\n",
    "# Add edges\n",
    "for _, row in region_to_region_df.iterrows():\n",
    "    start = pos[row['co_production_region']]\n",
    "    end = pos[row['success_region']]\n",
    "    weight = row['divided_gross'] / region_to_region_df['divided_gross'].max() * 15\n",
    "\n",
    "    # Edge trace with marker at the end to indicate direction\n",
    "    fig.add_trace(go.Scattergeo(\n",
    "        lon=[start[0], end[0]],\n",
    "        lat=[start[1], end[1]],\n",
    "        mode='lines+markers',  # Add markers at the ends of the lines\n",
    "        line=dict(width=weight, color='blue'),\n",
    "        marker=dict(size=weight, color='blue', symbol='arrow-bar-up'),  \n",
    "        hoverinfo='none'\n",
    "    ))\n",
    "\n",
    "fig.update_layout(\n",
    "    title = 'Interactive Network Graph',\n",
    "    showlegend = False,\n",
    "    geo = dict(\n",
    "        projection_type = 'natural earth',\n",
    "        showland = True,\n",
    "        landcolor = 'lightgreen', \n",
    "        countrycolor = 'gray',     \n",
    "    )\n",
    ")\n",
    "\n",
    "fig.show()\n",
    "\n",
    "# Export to HTML\n",
    "html_file_path = 'docs/plots/graph_region.html'\n",
    "fig.write_html(html_file_path)\n",
    "\n",
    "print(f\"Graph exported as HTML to {html_file_path}\")"
   ]
  },
  {
   "cell_type": "code",
   "execution_count": 170,
   "metadata": {},
   "outputs": [
    {
     "name": "stderr",
     "output_type": "stream",
     "text": [
      "/tmp/ipykernel_76593/3503751723.py:28: FutureWarning:\n",
      "\n",
      "You are adding a column named 'geometry' to a GeoDataFrame constructed without an active geometry column. Currently, this automatically sets the active geometry column to 'geometry' but in the future that will no longer happen. Instead, either provide geometry to the GeoDataFrame constructor (GeoDataFrame(... geometry=GeoSeries()) or use `set_geometry('geometry')` to explicitly set the active geometry column.\n",
      "\n"
     ]
    },
    {
     "data": {
      "text/html": [
       "<div style=\"width:100%;\"><div style=\"position:relative;width:100%;height:0;padding-bottom:60%;\"><span style=\"color:#565656\">Make this Notebook Trusted to load map: File -> Trust Notebook</span><iframe srcdoc=\"&lt;!DOCTYPE html&gt;\n",
       "&lt;html&gt;\n",
       "&lt;head&gt;\n",
       "    \n",
       "    &lt;meta http-equiv=&quot;content-type&quot; content=&quot;text/html; charset=UTF-8&quot; /&gt;\n",
       "    \n",
       "        &lt;script&gt;\n",
       "            L_NO_TOUCH = false;\n",
       "            L_DISABLE_3D = false;\n",
       "        &lt;/script&gt;\n",
       "    \n",
       "    &lt;style&gt;html, body {width: 100%;height: 100%;margin: 0;padding: 0;}&lt;/style&gt;\n",
       "    &lt;style&gt;#map {position:absolute;top:0;bottom:0;right:0;left:0;}&lt;/style&gt;\n",
       "    &lt;script src=&quot;https://cdn.jsdelivr.net/npm/leaflet@1.9.3/dist/leaflet.js&quot;&gt;&lt;/script&gt;\n",
       "    &lt;script src=&quot;https://code.jquery.com/jquery-3.7.1.min.js&quot;&gt;&lt;/script&gt;\n",
       "    &lt;script src=&quot;https://cdn.jsdelivr.net/npm/bootstrap@5.2.2/dist/js/bootstrap.bundle.min.js&quot;&gt;&lt;/script&gt;\n",
       "    &lt;script src=&quot;https://cdnjs.cloudflare.com/ajax/libs/Leaflet.awesome-markers/2.0.2/leaflet.awesome-markers.js&quot;&gt;&lt;/script&gt;\n",
       "    &lt;link rel=&quot;stylesheet&quot; href=&quot;https://cdn.jsdelivr.net/npm/leaflet@1.9.3/dist/leaflet.css&quot;/&gt;\n",
       "    &lt;link rel=&quot;stylesheet&quot; href=&quot;https://cdn.jsdelivr.net/npm/bootstrap@5.2.2/dist/css/bootstrap.min.css&quot;/&gt;\n",
       "    &lt;link rel=&quot;stylesheet&quot; href=&quot;https://netdna.bootstrapcdn.com/bootstrap/3.0.0/css/bootstrap.min.css&quot;/&gt;\n",
       "    &lt;link rel=&quot;stylesheet&quot; href=&quot;https://cdn.jsdelivr.net/npm/@fortawesome/fontawesome-free@6.2.0/css/all.min.css&quot;/&gt;\n",
       "    &lt;link rel=&quot;stylesheet&quot; href=&quot;https://cdnjs.cloudflare.com/ajax/libs/Leaflet.awesome-markers/2.0.2/leaflet.awesome-markers.css&quot;/&gt;\n",
       "    &lt;link rel=&quot;stylesheet&quot; href=&quot;https://cdn.jsdelivr.net/gh/python-visualization/folium/folium/templates/leaflet.awesome.rotate.min.css&quot;/&gt;\n",
       "    \n",
       "            &lt;meta name=&quot;viewport&quot; content=&quot;width=device-width,\n",
       "                initial-scale=1.0, maximum-scale=1.0, user-scalable=no&quot; /&gt;\n",
       "            &lt;style&gt;\n",
       "                #map_81f582a792d391811aedebc99e4940c3 {\n",
       "                    position: relative;\n",
       "                    width: 100.0%;\n",
       "                    height: 100.0%;\n",
       "                    left: 0.0%;\n",
       "                    top: 0.0%;\n",
       "                }\n",
       "                .leaflet-container { font-size: 1rem; }\n",
       "            &lt;/style&gt;\n",
       "        \n",
       "&lt;/head&gt;\n",
       "&lt;body&gt;\n",
       "    \n",
       "    \n",
       "            &lt;div class=&quot;folium-map&quot; id=&quot;map_81f582a792d391811aedebc99e4940c3&quot; &gt;&lt;/div&gt;\n",
       "        \n",
       "&lt;/body&gt;\n",
       "&lt;script&gt;\n",
       "    \n",
       "    \n",
       "            var map_81f582a792d391811aedebc99e4940c3 = L.map(\n",
       "                &quot;map_81f582a792d391811aedebc99e4940c3&quot;,\n",
       "                {\n",
       "                    center: [20.0, 0.0],\n",
       "                    crs: L.CRS.EPSG3857,\n",
       "                    zoom: 2,\n",
       "                    zoomControl: true,\n",
       "                    preferCanvas: false,\n",
       "                }\n",
       "            );\n",
       "\n",
       "            \n",
       "\n",
       "        \n",
       "    \n",
       "            var tile_layer_23010fd6d5b39981052855ebc1e82118 = L.tileLayer(\n",
       "                &quot;https://tile.openstreetmap.org/{z}/{x}/{y}.png&quot;,\n",
       "                {&quot;attribution&quot;: &quot;\\u0026copy; \\u003ca href=\\&quot;https://www.openstreetmap.org/copyright\\&quot;\\u003eOpenStreetMap\\u003c/a\\u003e contributors&quot;, &quot;detectRetina&quot;: false, &quot;maxNativeZoom&quot;: 19, &quot;maxZoom&quot;: 19, &quot;minZoom&quot;: 0, &quot;noWrap&quot;: false, &quot;opacity&quot;: 1, &quot;subdomains&quot;: &quot;abc&quot;, &quot;tms&quot;: false}\n",
       "            );\n",
       "        \n",
       "    \n",
       "            tile_layer_23010fd6d5b39981052855ebc1e82118.addTo(map_81f582a792d391811aedebc99e4940c3);\n",
       "        \n",
       "    \n",
       "            var circle_marker_5e4783b617dd6d819a9241a4318a13c5 = L.circleMarker(\n",
       "                [45.0, -95.7129],\n",
       "                {&quot;bubblingMouseEvents&quot;: true, &quot;color&quot;: &quot;red&quot;, &quot;dashArray&quot;: null, &quot;dashOffset&quot;: null, &quot;fill&quot;: true, &quot;fillColor&quot;: &quot;red&quot;, &quot;fillOpacity&quot;: 0.2, &quot;fillRule&quot;: &quot;evenodd&quot;, &quot;lineCap&quot;: &quot;round&quot;, &quot;lineJoin&quot;: &quot;round&quot;, &quot;opacity&quot;: 1.0, &quot;radius&quot;: 43.909527290396504, &quot;stroke&quot;: true, &quot;weight&quot;: 3}\n",
       "            ).addTo(map_81f582a792d391811aedebc99e4940c3);\n",
       "        \n",
       "    \n",
       "            var circle_marker_adc3f8579393f05e1a829eb7f9e86287 = L.circleMarker(\n",
       "                [50.1109, 8.6821],\n",
       "                {&quot;bubblingMouseEvents&quot;: true, &quot;color&quot;: &quot;red&quot;, &quot;dashArray&quot;: null, &quot;dashOffset&quot;: null, &quot;fill&quot;: true, &quot;fillColor&quot;: &quot;red&quot;, &quot;fillOpacity&quot;: 0.2, &quot;fillRule&quot;: &quot;evenodd&quot;, &quot;lineCap&quot;: &quot;round&quot;, &quot;lineJoin&quot;: &quot;round&quot;, &quot;opacity&quot;: 1.0, &quot;radius&quot;: 30.219703448340173, &quot;stroke&quot;: true, &quot;weight&quot;: 3}\n",
       "            ).addTo(map_81f582a792d391811aedebc99e4940c3);\n",
       "        \n",
       "    \n",
       "            var circle_marker_47c783d922d1bdcd2d6047c110eac73b = L.circleMarker(\n",
       "                [-25.0, -58.3816],\n",
       "                {&quot;bubblingMouseEvents&quot;: true, &quot;color&quot;: &quot;red&quot;, &quot;dashArray&quot;: null, &quot;dashOffset&quot;: null, &quot;fill&quot;: true, &quot;fillColor&quot;: &quot;red&quot;, &quot;fillOpacity&quot;: 0.2, &quot;fillRule&quot;: &quot;evenodd&quot;, &quot;lineCap&quot;: &quot;round&quot;, &quot;lineJoin&quot;: &quot;round&quot;, &quot;opacity&quot;: 1.0, &quot;radius&quot;: 5, &quot;stroke&quot;: true, &quot;weight&quot;: 3}\n",
       "            ).addTo(map_81f582a792d391811aedebc99e4940c3);\n",
       "        \n",
       "    \n",
       "            var circle_marker_fafc9ef8bd5ee77d33835967474e530f = L.circleMarker(\n",
       "                [50.0, 90.0],\n",
       "                {&quot;bubblingMouseEvents&quot;: true, &quot;color&quot;: &quot;red&quot;, &quot;dashArray&quot;: null, &quot;dashOffset&quot;: null, &quot;fill&quot;: true, &quot;fillColor&quot;: &quot;red&quot;, &quot;fillOpacity&quot;: 0.2, &quot;fillRule&quot;: &quot;evenodd&quot;, &quot;lineCap&quot;: &quot;round&quot;, &quot;lineJoin&quot;: &quot;round&quot;, &quot;opacity&quot;: 1.0, &quot;radius&quot;: 17.946977484929143, &quot;stroke&quot;: true, &quot;weight&quot;: 3}\n",
       "            ).addTo(map_81f582a792d391811aedebc99e4940c3);\n",
       "        \n",
       "    \n",
       "            var circle_marker_91aaa0e48cb0114faf532dd6129cef96 = L.circleMarker(\n",
       "                [0.0, 25.0],\n",
       "                {&quot;bubblingMouseEvents&quot;: true, &quot;color&quot;: &quot;red&quot;, &quot;dashArray&quot;: null, &quot;dashOffset&quot;: null, &quot;fill&quot;: true, &quot;fillColor&quot;: &quot;red&quot;, &quot;fillOpacity&quot;: 0.2, &quot;fillRule&quot;: &quot;evenodd&quot;, &quot;lineCap&quot;: &quot;round&quot;, &quot;lineJoin&quot;: &quot;round&quot;, &quot;opacity&quot;: 1.0, &quot;radius&quot;: 5, &quot;stroke&quot;: true, &quot;weight&quot;: 3}\n",
       "            ).addTo(map_81f582a792d391811aedebc99e4940c3);\n",
       "        \n",
       "    \n",
       "            var circle_marker_b0e4147d74e02f6297cdf76fca64f97c = L.circleMarker(\n",
       "                [-25.0, 141.0],\n",
       "                {&quot;bubblingMouseEvents&quot;: true, &quot;color&quot;: &quot;red&quot;, &quot;dashArray&quot;: null, &quot;dashOffset&quot;: null, &quot;fill&quot;: true, &quot;fillColor&quot;: &quot;red&quot;, &quot;fillOpacity&quot;: 0.2, &quot;fillRule&quot;: &quot;evenodd&quot;, &quot;lineCap&quot;: &quot;round&quot;, &quot;lineJoin&quot;: &quot;round&quot;, &quot;opacity&quot;: 1.0, &quot;radius&quot;: 11.099025422887575, &quot;stroke&quot;: true, &quot;weight&quot;: 3}\n",
       "            ).addTo(map_81f582a792d391811aedebc99e4940c3);\n",
       "        \n",
       "    \n",
       "            var poly_line_caba698d89ee178571cbd760df683aba = L.polyline(\n",
       "                [[0.0, 25.0], [0.0, 25.0]],\n",
       "                {&quot;bubblingMouseEvents&quot;: true, &quot;color&quot;: &quot;blue&quot;, &quot;dashArray&quot;: null, &quot;dashOffset&quot;: null, &quot;fill&quot;: false, &quot;fillColor&quot;: &quot;blue&quot;, &quot;fillOpacity&quot;: 0.2, &quot;fillRule&quot;: &quot;evenodd&quot;, &quot;lineCap&quot;: &quot;round&quot;, &quot;lineJoin&quot;: &quot;round&quot;, &quot;noClip&quot;: false, &quot;opacity&quot;: 1.0, &quot;smoothFactor&quot;: 1.0, &quot;stroke&quot;: true, &quot;weight&quot;: 0.001621903361670227}\n",
       "            ).addTo(map_81f582a792d391811aedebc99e4940c3);\n",
       "        \n",
       "    \n",
       "            var poly_line_2a08e5ca5993a29e452115253ab318a0 = L.polyline(\n",
       "                [[0.0, 25.0], [50.0, 90.0]],\n",
       "                {&quot;bubblingMouseEvents&quot;: true, &quot;color&quot;: &quot;blue&quot;, &quot;dashArray&quot;: null, &quot;dashOffset&quot;: null, &quot;fill&quot;: false, &quot;fillColor&quot;: &quot;blue&quot;, &quot;fillOpacity&quot;: 0.2, &quot;fillRule&quot;: &quot;evenodd&quot;, &quot;lineCap&quot;: &quot;round&quot;, &quot;lineJoin&quot;: &quot;round&quot;, &quot;noClip&quot;: false, &quot;opacity&quot;: 1.0, &quot;smoothFactor&quot;: 1.0, &quot;stroke&quot;: true, &quot;weight&quot;: 0.003720258790785352}\n",
       "            ).addTo(map_81f582a792d391811aedebc99e4940c3);\n",
       "        \n",
       "    \n",
       "            var poly_line_00dacfd110e2a54052d461511ac66ca0 = L.polyline(\n",
       "                [[0.0, 25.0], [50.1109, 8.6821]],\n",
       "                {&quot;bubblingMouseEvents&quot;: true, &quot;color&quot;: &quot;blue&quot;, &quot;dashArray&quot;: null, &quot;dashOffset&quot;: null, &quot;fill&quot;: false, &quot;fillColor&quot;: &quot;blue&quot;, &quot;fillOpacity&quot;: 0.2, &quot;fillRule&quot;: &quot;evenodd&quot;, &quot;lineCap&quot;: &quot;round&quot;, &quot;lineJoin&quot;: &quot;round&quot;, &quot;noClip&quot;: false, &quot;opacity&quot;: 1.0, &quot;smoothFactor&quot;: 1.0, &quot;stroke&quot;: true, &quot;weight&quot;: 0.011014105893625883}\n",
       "            ).addTo(map_81f582a792d391811aedebc99e4940c3);\n",
       "        \n",
       "    \n",
       "            var poly_line_1fb3c2981bb902e039d7712a5122c2d6 = L.polyline(\n",
       "                [[0.0, 25.0], [45.0, -95.7129]],\n",
       "                {&quot;bubblingMouseEvents&quot;: true, &quot;color&quot;: &quot;blue&quot;, &quot;dashArray&quot;: null, &quot;dashOffset&quot;: null, &quot;fill&quot;: false, &quot;fillColor&quot;: &quot;blue&quot;, &quot;fillOpacity&quot;: 0.2, &quot;fillRule&quot;: &quot;evenodd&quot;, &quot;lineCap&quot;: &quot;round&quot;, &quot;lineJoin&quot;: &quot;round&quot;, &quot;noClip&quot;: false, &quot;opacity&quot;: 1.0, &quot;smoothFactor&quot;: 1.0, &quot;stroke&quot;: true, &quot;weight&quot;: 0.02107515293769625}\n",
       "            ).addTo(map_81f582a792d391811aedebc99e4940c3);\n",
       "        \n",
       "    \n",
       "            var poly_line_34e1097f01445bd67b979850b9555968 = L.polyline(\n",
       "                [[0.0, 25.0], [-25.0, 141.0]],\n",
       "                {&quot;bubblingMouseEvents&quot;: true, &quot;color&quot;: &quot;blue&quot;, &quot;dashArray&quot;: null, &quot;dashOffset&quot;: null, &quot;fill&quot;: false, &quot;fillColor&quot;: &quot;blue&quot;, &quot;fillOpacity&quot;: 0.2, &quot;fillRule&quot;: &quot;evenodd&quot;, &quot;lineCap&quot;: &quot;round&quot;, &quot;lineJoin&quot;: &quot;round&quot;, &quot;noClip&quot;: false, &quot;opacity&quot;: 1.0, &quot;smoothFactor&quot;: 1.0, &quot;stroke&quot;: true, &quot;weight&quot;: 0.0012488419214175847}\n",
       "            ).addTo(map_81f582a792d391811aedebc99e4940c3);\n",
       "        \n",
       "    \n",
       "            var poly_line_27525a287b7b97ac390b03034d4a6520 = L.polyline(\n",
       "                [[0.0, 25.0], [-25.0, -58.3816]],\n",
       "                {&quot;bubblingMouseEvents&quot;: true, &quot;color&quot;: &quot;blue&quot;, &quot;dashArray&quot;: null, &quot;dashOffset&quot;: null, &quot;fill&quot;: false, &quot;fillColor&quot;: &quot;blue&quot;, &quot;fillOpacity&quot;: 0.2, &quot;fillRule&quot;: &quot;evenodd&quot;, &quot;lineCap&quot;: &quot;round&quot;, &quot;lineJoin&quot;: &quot;round&quot;, &quot;noClip&quot;: false, &quot;opacity&quot;: 1.0, &quot;smoothFactor&quot;: 1.0, &quot;stroke&quot;: true, &quot;weight&quot;: 0.0013314184215002596}\n",
       "            ).addTo(map_81f582a792d391811aedebc99e4940c3);\n",
       "        \n",
       "    \n",
       "            var poly_line_ab4ee4c9f846d93e21a6564215d65c57 = L.polyline(\n",
       "                [[50.0, 90.0], [0.0, 25.0]],\n",
       "                {&quot;bubblingMouseEvents&quot;: true, &quot;color&quot;: &quot;blue&quot;, &quot;dashArray&quot;: null, &quot;dashOffset&quot;: null, &quot;fill&quot;: false, &quot;fillColor&quot;: &quot;blue&quot;, &quot;fillOpacity&quot;: 0.2, &quot;fillRule&quot;: &quot;evenodd&quot;, &quot;lineCap&quot;: &quot;round&quot;, &quot;lineJoin&quot;: &quot;round&quot;, &quot;noClip&quot;: false, &quot;opacity&quot;: 1.0, &quot;smoothFactor&quot;: 1.0, &quot;stroke&quot;: true, &quot;weight&quot;: 0.0012738076019163877}\n",
       "            ).addTo(map_81f582a792d391811aedebc99e4940c3);\n",
       "        \n",
       "    \n",
       "            var poly_line_9628a2b3fc389fc1481082c88796684b = L.polyline(\n",
       "                [[50.0, 90.0], [50.0, 90.0]],\n",
       "                {&quot;bubblingMouseEvents&quot;: true, &quot;color&quot;: &quot;blue&quot;, &quot;dashArray&quot;: null, &quot;dashOffset&quot;: null, &quot;fill&quot;: false, &quot;fillColor&quot;: &quot;blue&quot;, &quot;fillOpacity&quot;: 0.2, &quot;fillRule&quot;: &quot;evenodd&quot;, &quot;lineCap&quot;: &quot;round&quot;, &quot;lineJoin&quot;: &quot;round&quot;, &quot;noClip&quot;: false, &quot;opacity&quot;: 1.0, &quot;smoothFactor&quot;: 1.0, &quot;stroke&quot;: true, &quot;weight&quot;: 0.26002461772842556}\n",
       "            ).addTo(map_81f582a792d391811aedebc99e4940c3);\n",
       "        \n",
       "    \n",
       "            var poly_line_13ed7a9846dea16ee2150b51500ec2ca = L.polyline(\n",
       "                [[50.0, 90.0], [50.1109, 8.6821]],\n",
       "                {&quot;bubblingMouseEvents&quot;: true, &quot;color&quot;: &quot;blue&quot;, &quot;dashArray&quot;: null, &quot;dashOffset&quot;: null, &quot;fill&quot;: false, &quot;fillColor&quot;: &quot;blue&quot;, &quot;fillOpacity&quot;: 0.2, &quot;fillRule&quot;: &quot;evenodd&quot;, &quot;lineCap&quot;: &quot;round&quot;, &quot;lineJoin&quot;: &quot;round&quot;, &quot;noClip&quot;: false, &quot;opacity&quot;: 1.0, &quot;smoothFactor&quot;: 1.0, &quot;stroke&quot;: true, &quot;weight&quot;: 0.07610521695887505}\n",
       "            ).addTo(map_81f582a792d391811aedebc99e4940c3);\n",
       "        \n",
       "    \n",
       "            var poly_line_25519900d51a5d74a935361ad175f3d6 = L.polyline(\n",
       "                [[50.0, 90.0], [45.0, -95.7129]],\n",
       "                {&quot;bubblingMouseEvents&quot;: true, &quot;color&quot;: &quot;blue&quot;, &quot;dashArray&quot;: null, &quot;dashOffset&quot;: null, &quot;fill&quot;: false, &quot;fillColor&quot;: &quot;blue&quot;, &quot;fillOpacity&quot;: 0.2, &quot;fillRule&quot;: &quot;evenodd&quot;, &quot;lineCap&quot;: &quot;round&quot;, &quot;lineJoin&quot;: &quot;round&quot;, &quot;noClip&quot;: false, &quot;opacity&quot;: 1.0, &quot;smoothFactor&quot;: 1.0, &quot;stroke&quot;: true, &quot;weight&quot;: 0.19427254353394}\n",
       "            ).addTo(map_81f582a792d391811aedebc99e4940c3);\n",
       "        \n",
       "    \n",
       "            var poly_line_cede024978b362b3275dc8f7b9e98073 = L.polyline(\n",
       "                [[50.0, 90.0], [-25.0, 141.0]],\n",
       "                {&quot;bubblingMouseEvents&quot;: true, &quot;color&quot;: &quot;blue&quot;, &quot;dashArray&quot;: null, &quot;dashOffset&quot;: null, &quot;fill&quot;: false, &quot;fillColor&quot;: &quot;blue&quot;, &quot;fillOpacity&quot;: 0.2, &quot;fillRule&quot;: &quot;evenodd&quot;, &quot;lineCap&quot;: &quot;round&quot;, &quot;lineJoin&quot;: &quot;round&quot;, &quot;noClip&quot;: false, &quot;opacity&quot;: 1.0, &quot;smoothFactor&quot;: 1.0, &quot;stroke&quot;: true, &quot;weight&quot;: 0.010158387218735304}\n",
       "            ).addTo(map_81f582a792d391811aedebc99e4940c3);\n",
       "        \n",
       "    \n",
       "            var poly_line_27481784caddb9b007bedb187e43b51d = L.polyline(\n",
       "                [[50.0, 90.0], [-25.0, -58.3816]],\n",
       "                {&quot;bubblingMouseEvents&quot;: true, &quot;color&quot;: &quot;blue&quot;, &quot;dashArray&quot;: null, &quot;dashOffset&quot;: null, &quot;fill&quot;: false, &quot;fillColor&quot;: &quot;blue&quot;, &quot;fillOpacity&quot;: 0.2, &quot;fillRule&quot;: &quot;evenodd&quot;, &quot;lineCap&quot;: &quot;round&quot;, &quot;lineJoin&quot;: &quot;round&quot;, &quot;noClip&quot;: false, &quot;opacity&quot;: 1.0, &quot;smoothFactor&quot;: 1.0, &quot;stroke&quot;: true, &quot;weight&quot;: 0.006836492613042421}\n",
       "            ).addTo(map_81f582a792d391811aedebc99e4940c3);\n",
       "        \n",
       "    \n",
       "            var poly_line_58b49af7594f9420017ffc7a168a203d = L.polyline(\n",
       "                [[50.1109, 8.6821], [0.0, 25.0]],\n",
       "                {&quot;bubblingMouseEvents&quot;: true, &quot;color&quot;: &quot;blue&quot;, &quot;dashArray&quot;: null, &quot;dashOffset&quot;: null, &quot;fill&quot;: false, &quot;fillColor&quot;: &quot;blue&quot;, &quot;fillOpacity&quot;: 0.2, &quot;fillRule&quot;: &quot;evenodd&quot;, &quot;lineCap&quot;: &quot;round&quot;, &quot;lineJoin&quot;: &quot;round&quot;, &quot;noClip&quot;: false, &quot;opacity&quot;: 1.0, &quot;smoothFactor&quot;: 1.0, &quot;stroke&quot;: true, &quot;weight&quot;: 0.012683999161066401}\n",
       "            ).addTo(map_81f582a792d391811aedebc99e4940c3);\n",
       "        \n",
       "    \n",
       "            var poly_line_3d517200d3a1b7f817b035d7f30cfcde = L.polyline(\n",
       "                [[50.1109, 8.6821], [50.0, 90.0]],\n",
       "                {&quot;bubblingMouseEvents&quot;: true, &quot;color&quot;: &quot;blue&quot;, &quot;dashArray&quot;: null, &quot;dashOffset&quot;: null, &quot;fill&quot;: false, &quot;fillColor&quot;: &quot;blue&quot;, &quot;fillOpacity&quot;: 0.2, &quot;fillRule&quot;: &quot;evenodd&quot;, &quot;lineCap&quot;: &quot;round&quot;, &quot;lineJoin&quot;: &quot;round&quot;, &quot;noClip&quot;: false, &quot;opacity&quot;: 1.0, &quot;smoothFactor&quot;: 1.0, &quot;stroke&quot;: true, &quot;weight&quot;: 0.36654681324814864}\n",
       "            ).addTo(map_81f582a792d391811aedebc99e4940c3);\n",
       "        \n",
       "    \n",
       "            var poly_line_33d2a64c68b6ae7606c416ca9ade9218 = L.polyline(\n",
       "                [[50.1109, 8.6821], [50.1109, 8.6821]],\n",
       "                {&quot;bubblingMouseEvents&quot;: true, &quot;color&quot;: &quot;blue&quot;, &quot;dashArray&quot;: null, &quot;dashOffset&quot;: null, &quot;fill&quot;: false, &quot;fillColor&quot;: &quot;blue&quot;, &quot;fillOpacity&quot;: 0.2, &quot;fillRule&quot;: &quot;evenodd&quot;, &quot;lineCap&quot;: &quot;round&quot;, &quot;lineJoin&quot;: &quot;round&quot;, &quot;noClip&quot;: false, &quot;opacity&quot;: 1.0, &quot;smoothFactor&quot;: 1.0, &quot;stroke&quot;: true, &quot;weight&quot;: 1.3411502716003332}\n",
       "            ).addTo(map_81f582a792d391811aedebc99e4940c3);\n",
       "        \n",
       "    \n",
       "            var poly_line_e73b5205bc67f821d9185e7b516d4dff = L.polyline(\n",
       "                [[50.1109, 8.6821], [45.0, -95.7129]],\n",
       "                {&quot;bubblingMouseEvents&quot;: true, &quot;color&quot;: &quot;blue&quot;, &quot;dashArray&quot;: null, &quot;dashOffset&quot;: null, &quot;fill&quot;: false, &quot;fillColor&quot;: &quot;blue&quot;, &quot;fillOpacity&quot;: 0.2, &quot;fillRule&quot;: &quot;evenodd&quot;, &quot;lineCap&quot;: &quot;round&quot;, &quot;lineJoin&quot;: &quot;round&quot;, &quot;noClip&quot;: false, &quot;opacity&quot;: 1.0, &quot;smoothFactor&quot;: 1.0, &quot;stroke&quot;: true, &quot;weight&quot;: 1.8532048072792573}\n",
       "            ).addTo(map_81f582a792d391811aedebc99e4940c3);\n",
       "        \n",
       "    \n",
       "            var poly_line_f87e584d2a3baff0a9262541b9a2488e = L.polyline(\n",
       "                [[50.1109, 8.6821], [-25.0, 141.0]],\n",
       "                {&quot;bubblingMouseEvents&quot;: true, &quot;color&quot;: &quot;blue&quot;, &quot;dashArray&quot;: null, &quot;dashOffset&quot;: null, &quot;fill&quot;: false, &quot;fillColor&quot;: &quot;blue&quot;, &quot;fillOpacity&quot;: 0.2, &quot;fillRule&quot;: &quot;evenodd&quot;, &quot;lineCap&quot;: &quot;round&quot;, &quot;lineJoin&quot;: &quot;round&quot;, &quot;noClip&quot;: false, &quot;opacity&quot;: 1.0, &quot;smoothFactor&quot;: 1.0, &quot;stroke&quot;: true, &quot;weight&quot;: 0.13614581562932515}\n",
       "            ).addTo(map_81f582a792d391811aedebc99e4940c3);\n",
       "        \n",
       "    \n",
       "            var poly_line_53c1d49750a950bf2e42ed8e0fc20584 = L.polyline(\n",
       "                [[50.1109, 8.6821], [-25.0, -58.3816]],\n",
       "                {&quot;bubblingMouseEvents&quot;: true, &quot;color&quot;: &quot;blue&quot;, &quot;dashArray&quot;: null, &quot;dashOffset&quot;: null, &quot;fill&quot;: false, &quot;fillColor&quot;: &quot;blue&quot;, &quot;fillOpacity&quot;: 0.2, &quot;fillRule&quot;: &quot;evenodd&quot;, &quot;lineCap&quot;: &quot;round&quot;, &quot;lineJoin&quot;: &quot;round&quot;, &quot;noClip&quot;: false, &quot;opacity&quot;: 1.0, &quot;smoothFactor&quot;: 1.0, &quot;stroke&quot;: true, &quot;weight&quot;: 0.08774821283199209}\n",
       "            ).addTo(map_81f582a792d391811aedebc99e4940c3);\n",
       "        \n",
       "    \n",
       "            var poly_line_448c8f373d9fd52f7b33e3532d82181b = L.polyline(\n",
       "                [[45.0, -95.7129], [0.0, 25.0]],\n",
       "                {&quot;bubblingMouseEvents&quot;: true, &quot;color&quot;: &quot;blue&quot;, &quot;dashArray&quot;: null, &quot;dashOffset&quot;: null, &quot;fill&quot;: false, &quot;fillColor&quot;: &quot;blue&quot;, &quot;fillOpacity&quot;: 0.2, &quot;fillRule&quot;: &quot;evenodd&quot;, &quot;lineCap&quot;: &quot;round&quot;, &quot;lineJoin&quot;: &quot;round&quot;, &quot;noClip&quot;: false, &quot;opacity&quot;: 1.0, &quot;smoothFactor&quot;: 1.0, &quot;stroke&quot;: true, &quot;weight&quot;: 0.07284752592937904}\n",
       "            ).addTo(map_81f582a792d391811aedebc99e4940c3);\n",
       "        \n",
       "    \n",
       "            var poly_line_38edfc6818eb0143ef6b32a80ac09626 = L.polyline(\n",
       "                [[45.0, -95.7129], [50.0, 90.0]],\n",
       "                {&quot;bubblingMouseEvents&quot;: true, &quot;color&quot;: &quot;blue&quot;, &quot;dashArray&quot;: null, &quot;dashOffset&quot;: null, &quot;fill&quot;: false, &quot;fillColor&quot;: &quot;blue&quot;, &quot;fillOpacity&quot;: 0.2, &quot;fillRule&quot;: &quot;evenodd&quot;, &quot;lineCap&quot;: &quot;round&quot;, &quot;lineJoin&quot;: &quot;round&quot;, &quot;noClip&quot;: false, &quot;opacity&quot;: 1.0, &quot;smoothFactor&quot;: 1.0, &quot;stroke&quot;: true, &quot;weight&quot;: 1.7577127519490527}\n",
       "            ).addTo(map_81f582a792d391811aedebc99e4940c3);\n",
       "        \n",
       "    \n",
       "            var poly_line_3534a891008f469274ad8d9657eedb14 = L.polyline(\n",
       "                [[45.0, -95.7129], [50.1109, 8.6821]],\n",
       "                {&quot;bubblingMouseEvents&quot;: true, &quot;color&quot;: &quot;blue&quot;, &quot;dashArray&quot;: null, &quot;dashOffset&quot;: null, &quot;fill&quot;: false, &quot;fillColor&quot;: &quot;blue&quot;, &quot;fillOpacity&quot;: 0.2, &quot;fillRule&quot;: &quot;evenodd&quot;, &quot;lineCap&quot;: &quot;round&quot;, &quot;lineJoin&quot;: &quot;round&quot;, &quot;noClip&quot;: false, &quot;opacity&quot;: 1.0, &quot;smoothFactor&quot;: 1.0, &quot;stroke&quot;: true, &quot;weight&quot;: 4.831891079792503}\n",
       "            ).addTo(map_81f582a792d391811aedebc99e4940c3);\n",
       "        \n",
       "    \n",
       "            var poly_line_b072e1bb02123c0de9e6e3ef428797a1 = L.polyline(\n",
       "                [[45.0, -95.7129], [45.0, -95.7129]],\n",
       "                {&quot;bubblingMouseEvents&quot;: true, &quot;color&quot;: &quot;blue&quot;, &quot;dashArray&quot;: null, &quot;dashOffset&quot;: null, &quot;fill&quot;: false, &quot;fillColor&quot;: &quot;blue&quot;, &quot;fillOpacity&quot;: 0.2, &quot;fillRule&quot;: &quot;evenodd&quot;, &quot;lineCap&quot;: &quot;round&quot;, &quot;lineJoin&quot;: &quot;round&quot;, &quot;noClip&quot;: false, &quot;opacity&quot;: 1.0, &quot;smoothFactor&quot;: 1.0, &quot;stroke&quot;: true, &quot;weight&quot;: 15.0}\n",
       "            ).addTo(map_81f582a792d391811aedebc99e4940c3);\n",
       "        \n",
       "    \n",
       "            var poly_line_2f097db6119449be17f7a6ae332c2d52 = L.polyline(\n",
       "                [[45.0, -95.7129], [-25.0, 141.0]],\n",
       "                {&quot;bubblingMouseEvents&quot;: true, &quot;color&quot;: &quot;blue&quot;, &quot;dashArray&quot;: null, &quot;dashOffset&quot;: null, &quot;fill&quot;: false, &quot;fillColor&quot;: &quot;blue&quot;, &quot;fillOpacity&quot;: 0.2, &quot;fillRule&quot;: &quot;evenodd&quot;, &quot;lineCap&quot;: &quot;round&quot;, &quot;lineJoin&quot;: &quot;round&quot;, &quot;noClip&quot;: false, &quot;opacity&quot;: 1.0, &quot;smoothFactor&quot;: 1.0, &quot;stroke&quot;: true, &quot;weight&quot;: 0.6458093806986738}\n",
       "            ).addTo(map_81f582a792d391811aedebc99e4940c3);\n",
       "        \n",
       "    \n",
       "            var poly_line_43e3734f772f3aa7138ce51d5666c0a3 = L.polyline(\n",
       "                [[45.0, -95.7129], [-25.0, -58.3816]],\n",
       "                {&quot;bubblingMouseEvents&quot;: true, &quot;color&quot;: &quot;blue&quot;, &quot;dashArray&quot;: null, &quot;dashOffset&quot;: null, &quot;fill&quot;: false, &quot;fillColor&quot;: &quot;blue&quot;, &quot;fillOpacity&quot;: 0.2, &quot;fillRule&quot;: &quot;evenodd&quot;, &quot;lineCap&quot;: &quot;round&quot;, &quot;lineJoin&quot;: &quot;round&quot;, &quot;noClip&quot;: false, &quot;opacity&quot;: 1.0, &quot;smoothFactor&quot;: 1.0, &quot;stroke&quot;: true, &quot;weight&quot;: 0.6231145702511134}\n",
       "            ).addTo(map_81f582a792d391811aedebc99e4940c3);\n",
       "        \n",
       "    \n",
       "            var poly_line_b50a350b6465094bb827b40949d77355 = L.polyline(\n",
       "                [[-25.0, 141.0], [0.0, 25.0]],\n",
       "                {&quot;bubblingMouseEvents&quot;: true, &quot;color&quot;: &quot;blue&quot;, &quot;dashArray&quot;: null, &quot;dashOffset&quot;: null, &quot;fill&quot;: false, &quot;fillColor&quot;: &quot;blue&quot;, &quot;fillOpacity&quot;: 0.2, &quot;fillRule&quot;: &quot;evenodd&quot;, &quot;lineCap&quot;: &quot;round&quot;, &quot;lineJoin&quot;: &quot;round&quot;, &quot;noClip&quot;: false, &quot;opacity&quot;: 1.0, &quot;smoothFactor&quot;: 1.0, &quot;stroke&quot;: true, &quot;weight&quot;: 0.002201278829294986}\n",
       "            ).addTo(map_81f582a792d391811aedebc99e4940c3);\n",
       "        \n",
       "    \n",
       "            var poly_line_f3caf7d5a8936a1169477d35f363c5e7 = L.polyline(\n",
       "                [[-25.0, 141.0], [50.0, 90.0]],\n",
       "                {&quot;bubblingMouseEvents&quot;: true, &quot;color&quot;: &quot;blue&quot;, &quot;dashArray&quot;: null, &quot;dashOffset&quot;: null, &quot;fill&quot;: false, &quot;fillColor&quot;: &quot;blue&quot;, &quot;fillOpacity&quot;: 0.2, &quot;fillRule&quot;: &quot;evenodd&quot;, &quot;lineCap&quot;: &quot;round&quot;, &quot;lineJoin&quot;: &quot;round&quot;, &quot;noClip&quot;: false, &quot;opacity&quot;: 1.0, &quot;smoothFactor&quot;: 1.0, &quot;stroke&quot;: true, &quot;weight&quot;: 0.06928004150886578}\n",
       "            ).addTo(map_81f582a792d391811aedebc99e4940c3);\n",
       "        \n",
       "    \n",
       "            var poly_line_d2097109ee84ad0fc463b5e2835dd196 = L.polyline(\n",
       "                [[-25.0, 141.0], [50.1109, 8.6821]],\n",
       "                {&quot;bubblingMouseEvents&quot;: true, &quot;color&quot;: &quot;blue&quot;, &quot;dashArray&quot;: null, &quot;dashOffset&quot;: null, &quot;fill&quot;: false, &quot;fillColor&quot;: &quot;blue&quot;, &quot;fillOpacity&quot;: 0.2, &quot;fillRule&quot;: &quot;evenodd&quot;, &quot;lineCap&quot;: &quot;round&quot;, &quot;lineJoin&quot;: &quot;round&quot;, &quot;noClip&quot;: false, &quot;opacity&quot;: 1.0, &quot;smoothFactor&quot;: 1.0, &quot;stroke&quot;: true, &quot;weight&quot;: 0.2001180603817289}\n",
       "            ).addTo(map_81f582a792d391811aedebc99e4940c3);\n",
       "        \n",
       "    \n",
       "            var poly_line_0d895678afd31ab3778f5eefb783b3cc = L.polyline(\n",
       "                [[-25.0, 141.0], [45.0, -95.7129]],\n",
       "                {&quot;bubblingMouseEvents&quot;: true, &quot;color&quot;: &quot;blue&quot;, &quot;dashArray&quot;: null, &quot;dashOffset&quot;: null, &quot;fill&quot;: false, &quot;fillColor&quot;: &quot;blue&quot;, &quot;fillOpacity&quot;: 0.2, &quot;fillRule&quot;: &quot;evenodd&quot;, &quot;lineCap&quot;: &quot;round&quot;, &quot;lineJoin&quot;: &quot;round&quot;, &quot;noClip&quot;: false, &quot;opacity&quot;: 1.0, &quot;smoothFactor&quot;: 1.0, &quot;stroke&quot;: true, &quot;weight&quot;: 0.34201240389321486}\n",
       "            ).addTo(map_81f582a792d391811aedebc99e4940c3);\n",
       "        \n",
       "    \n",
       "            var poly_line_f9f56ca4bdc76b458257128dfb82d0c9 = L.polyline(\n",
       "                [[-25.0, 141.0], [-25.0, 141.0]],\n",
       "                {&quot;bubblingMouseEvents&quot;: true, &quot;color&quot;: &quot;blue&quot;, &quot;dashArray&quot;: null, &quot;dashOffset&quot;: null, &quot;fill&quot;: false, &quot;fillColor&quot;: &quot;blue&quot;, &quot;fillOpacity&quot;: 0.2, &quot;fillRule&quot;: &quot;evenodd&quot;, &quot;lineCap&quot;: &quot;round&quot;, &quot;lineJoin&quot;: &quot;round&quot;, &quot;noClip&quot;: false, &quot;opacity&quot;: 1.0, &quot;smoothFactor&quot;: 1.0, &quot;stroke&quot;: true, &quot;weight&quot;: 0.046357793115363005}\n",
       "            ).addTo(map_81f582a792d391811aedebc99e4940c3);\n",
       "        \n",
       "    \n",
       "            var poly_line_eda2767d8b6707a1bbbd21d064c0e7e7 = L.polyline(\n",
       "                [[-25.0, 141.0], [-25.0, -58.3816]],\n",
       "                {&quot;bubblingMouseEvents&quot;: true, &quot;color&quot;: &quot;blue&quot;, &quot;dashArray&quot;: null, &quot;dashOffset&quot;: null, &quot;fill&quot;: false, &quot;fillColor&quot;: &quot;blue&quot;, &quot;fillOpacity&quot;: 0.2, &quot;fillRule&quot;: &quot;evenodd&quot;, &quot;lineCap&quot;: &quot;round&quot;, &quot;lineJoin&quot;: &quot;round&quot;, &quot;noClip&quot;: false, &quot;opacity&quot;: 1.0, &quot;smoothFactor&quot;: 1.0, &quot;stroke&quot;: true, &quot;weight&quot;: 0.016712794682871034}\n",
       "            ).addTo(map_81f582a792d391811aedebc99e4940c3);\n",
       "        \n",
       "    \n",
       "            var poly_line_6ca5dc351bfc8335238e6ee658d1bba5 = L.polyline(\n",
       "                [[-25.0, -58.3816], [0.0, 25.0]],\n",
       "                {&quot;bubblingMouseEvents&quot;: true, &quot;color&quot;: &quot;blue&quot;, &quot;dashArray&quot;: null, &quot;dashOffset&quot;: null, &quot;fill&quot;: false, &quot;fillColor&quot;: &quot;blue&quot;, &quot;fillOpacity&quot;: 0.2, &quot;fillRule&quot;: &quot;evenodd&quot;, &quot;lineCap&quot;: &quot;round&quot;, &quot;lineJoin&quot;: &quot;round&quot;, &quot;noClip&quot;: false, &quot;opacity&quot;: 1.0, &quot;smoothFactor&quot;: 1.0, &quot;stroke&quot;: true, &quot;weight&quot;: 2.325598294856829e-05}\n",
       "            ).addTo(map_81f582a792d391811aedebc99e4940c3);\n",
       "        \n",
       "    \n",
       "            var poly_line_bf069e8b2f99a27297a7300f495ab768 = L.polyline(\n",
       "                [[-25.0, -58.3816], [50.0, 90.0]],\n",
       "                {&quot;bubblingMouseEvents&quot;: true, &quot;color&quot;: &quot;blue&quot;, &quot;dashArray&quot;: null, &quot;dashOffset&quot;: null, &quot;fill&quot;: false, &quot;fillColor&quot;: &quot;blue&quot;, &quot;fillOpacity&quot;: 0.2, &quot;fillRule&quot;: &quot;evenodd&quot;, &quot;lineCap&quot;: &quot;round&quot;, &quot;lineJoin&quot;: &quot;round&quot;, &quot;noClip&quot;: false, &quot;opacity&quot;: 1.0, &quot;smoothFactor&quot;: 1.0, &quot;stroke&quot;: true, &quot;weight&quot;: 0.0028722518350390185}\n",
       "            ).addTo(map_81f582a792d391811aedebc99e4940c3);\n",
       "        \n",
       "    \n",
       "            var poly_line_e6a0b21f4ee244be1de4bd7201b60118 = L.polyline(\n",
       "                [[-25.0, -58.3816], [50.1109, 8.6821]],\n",
       "                {&quot;bubblingMouseEvents&quot;: true, &quot;color&quot;: &quot;blue&quot;, &quot;dashArray&quot;: null, &quot;dashOffset&quot;: null, &quot;fill&quot;: false, &quot;fillColor&quot;: &quot;blue&quot;, &quot;fillOpacity&quot;: 0.2, &quot;fillRule&quot;: &quot;evenodd&quot;, &quot;lineCap&quot;: &quot;round&quot;, &quot;lineJoin&quot;: &quot;round&quot;, &quot;noClip&quot;: false, &quot;opacity&quot;: 1.0, &quot;smoothFactor&quot;: 1.0, &quot;stroke&quot;: true, &quot;weight&quot;: 0.00809454426820529}\n",
       "            ).addTo(map_81f582a792d391811aedebc99e4940c3);\n",
       "        \n",
       "    \n",
       "            var poly_line_f56ec1281e183bcdb8fbcc8e7cda3a90 = L.polyline(\n",
       "                [[-25.0, -58.3816], [45.0, -95.7129]],\n",
       "                {&quot;bubblingMouseEvents&quot;: true, &quot;color&quot;: &quot;blue&quot;, &quot;dashArray&quot;: null, &quot;dashOffset&quot;: null, &quot;fill&quot;: false, &quot;fillColor&quot;: &quot;blue&quot;, &quot;fillOpacity&quot;: 0.2, &quot;fillRule&quot;: &quot;evenodd&quot;, &quot;lineCap&quot;: &quot;round&quot;, &quot;lineJoin&quot;: &quot;round&quot;, &quot;noClip&quot;: false, &quot;opacity&quot;: 1.0, &quot;smoothFactor&quot;: 1.0, &quot;stroke&quot;: true, &quot;weight&quot;: 0.016701813430921197}\n",
       "            ).addTo(map_81f582a792d391811aedebc99e4940c3);\n",
       "        \n",
       "    \n",
       "            var poly_line_61442b9ab5fe7a6fbf5580ebc3824de3 = L.polyline(\n",
       "                [[-25.0, -58.3816], [-25.0, 141.0]],\n",
       "                {&quot;bubblingMouseEvents&quot;: true, &quot;color&quot;: &quot;blue&quot;, &quot;dashArray&quot;: null, &quot;dashOffset&quot;: null, &quot;fill&quot;: false, &quot;fillColor&quot;: &quot;blue&quot;, &quot;fillOpacity&quot;: 0.2, &quot;fillRule&quot;: &quot;evenodd&quot;, &quot;lineCap&quot;: &quot;round&quot;, &quot;lineJoin&quot;: &quot;round&quot;, &quot;noClip&quot;: false, &quot;opacity&quot;: 1.0, &quot;smoothFactor&quot;: 1.0, &quot;stroke&quot;: true, &quot;weight&quot;: 0.0006287526157329782}\n",
       "            ).addTo(map_81f582a792d391811aedebc99e4940c3);\n",
       "        \n",
       "    \n",
       "            var poly_line_37728c595bdd5b3fa3ea9a2b3bccc2c4 = L.polyline(\n",
       "                [[-25.0, -58.3816], [-25.0, -58.3816]],\n",
       "                {&quot;bubblingMouseEvents&quot;: true, &quot;color&quot;: &quot;blue&quot;, &quot;dashArray&quot;: null, &quot;dashOffset&quot;: null, &quot;fill&quot;: false, &quot;fillColor&quot;: &quot;blue&quot;, &quot;fillOpacity&quot;: 0.2, &quot;fillRule&quot;: &quot;evenodd&quot;, &quot;lineCap&quot;: &quot;round&quot;, &quot;lineJoin&quot;: &quot;round&quot;, &quot;noClip&quot;: false, &quot;opacity&quot;: 1.0, &quot;smoothFactor&quot;: 1.0, &quot;stroke&quot;: true, &quot;weight&quot;: 0.010084907196949777}\n",
       "            ).addTo(map_81f582a792d391811aedebc99e4940c3);\n",
       "        \n",
       "    \n",
       "            tile_layer_23010fd6d5b39981052855ebc1e82118.addTo(map_81f582a792d391811aedebc99e4940c3);\n",
       "        \n",
       "&lt;/script&gt;\n",
       "&lt;/html&gt;\" style=\"position:absolute;width:100%;height:100%;left:0;top:0;border:none !important;\" allowfullscreen webkitallowfullscreen mozallowfullscreen></iframe></div></div>"
      ],
      "text/plain": [
       "<folium.folium.Map at 0x7f814cd451f0>"
      ]
     },
     "execution_count": 170,
     "metadata": {},
     "output_type": "execute_result"
    }
   ],
   "source": [
    "data = {\n",
    "    'start': region_to_region_df['co_production_region'].tolist(),\n",
    "    'end': region_to_region_df['success_region'].tolist(),\n",
    "    'weight': region_to_region_df['divided_gross'].tolist()\n",
    "}\n",
    "\n",
    "# Calculate node weights\n",
    "node_weights = {node: 0 for node in pos.keys()}\n",
    "for _, row in region_to_region_df.iterrows():\n",
    "    node_weights[row['co_production_region']] += row['divided_gross']\n",
    "    node_weights[row['success_region']] += row['divided_gross']\n",
    "\n",
    "# Get the maximum weight for normalization\n",
    "max_weight = max(nx.get_edge_attributes(G, 'weight').values())\n",
    "\n",
    "# Positions of the regions\n",
    "pos = {\n",
    "    'North America': (-95.7129, 45),\n",
    "    'Europe': (8.6821, 50.1109),\n",
    "    'South America': (-58.3816, -25),\n",
    "    'Asia': (90, 50),\n",
    "    'Africa': (25, 0),\n",
    "    'Oceania': (141.0, -25.0)\n",
    "}\n",
    "\n",
    "# Create a GeoDataFrame for edges\n",
    "edges = gpd.GeoDataFrame(data)\n",
    "edges['geometry'] = edges.apply(lambda x: LineString([Point(pos[x['start']]), Point(pos[x['end']])]), axis=1)\n",
    "\n",
    "# Initialize a folium map\n",
    "m = folium.Map(location=[20, 0], zoom_start=2)\n",
    "\n",
    "# Add nodes to the map\n",
    "min_size = 5\n",
    "for region, coords in pos.items():\n",
    "    node_weight = node_weights.get(region, 0)\n",
    "    node_size = max(10 * np.log(30*node_weight / max_weight), min_size)\n",
    "    folium.CircleMarker(\n",
    "        location=[coords[1], coords[0]],\n",
    "        radius=node_size,\n",
    "        color='red',\n",
    "        fill=True\n",
    "    ).add_to(m)\n",
    "\n",
    "\n",
    "# Add edges to the map\n",
    "for _, row in edges.iterrows():\n",
    "    weight = row['weight'] / edges['weight'].max() * 15\n",
    "    start_coords = pos[row['start']]\n",
    "    end_coords = pos[row['end']]\n",
    "    \n",
    "    # Add edge line\n",
    "    folium.PolyLine([(start_coords[1], start_coords[0]), \n",
    "                     (end_coords[1], end_coords[0])], \n",
    "                    color='blue', weight=weight).add_to(m)\n",
    "    \n",
    "    # Calculate the angle of the line for arrow\n",
    "    angle = math.atan2(end_coords[1] - start_coords[1], end_coords[0] - start_coords[0])\n",
    "\n",
    "# Display the map\n",
    "m.save('map.html')\n",
    "m"
   ]
  }
 ],
 "metadata": {
  "kernelspec": {
   "display_name": "ada",
   "language": "python",
   "name": "python3"
  },
  "language_info": {
   "codemirror_mode": {
    "name": "ipython",
    "version": 3
   },
   "file_extension": ".py",
   "mimetype": "text/x-python",
   "name": "python",
   "nbconvert_exporter": "python",
   "pygments_lexer": "ipython3",
   "version": "3.9.18"
  }
 },
 "nbformat": 4,
 "nbformat_minor": 2
}
