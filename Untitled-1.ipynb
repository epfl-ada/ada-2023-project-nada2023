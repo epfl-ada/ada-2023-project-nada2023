{
 "cells": [
  {
   "cell_type": "code",
   "execution_count": 36,
   "metadata": {},
   "outputs": [
    {
     "name": "stdout",
     "output_type": "stream",
     "text": [
      "The autoreload extension is already loaded. To reload it, use:\n",
      "  %reload_ext autoreload\n"
     ]
    }
   ],
   "source": [
    "%load_ext autoreload\n",
    "%autoreload 2\n",
    "import pandas as pd\n",
    "import numpy as np\n",
    "import scrap"
   ]
  },
  {
   "cell_type": "code",
   "execution_count": null,
   "metadata": {},
   "outputs": [],
   "source": [
    "columns = [\n",
    "    'Wiki_ID',\n",
    "    'Freebase_ID',\n",
    "    'Name',\n",
    "    'Release_Date',\n",
    "    'Box_Office_Revenue',\n",
    "    'Runtime',\n",
    "    'Languages',\n",
    "    'Countries',\n",
    "    'Genres'\n",
    "]\n",
    "movie_data = pd.read_csv('ignore/movie.metadata.tsv', sep='\\t',header=None, names=columns, index_col=False)\n"
   ]
  },
  {
   "cell_type": "code",
   "execution_count": null,
   "metadata": {},
   "outputs": [],
   "source": [
    "  \n",
    "imdb_titles = pd.read_csv('ignore/IMDB_DATA/titles_imdb.tsv', sep='\\t')"
   ]
  },
  {
   "cell_type": "code",
   "execution_count": null,
   "metadata": {},
   "outputs": [],
   "source": [
    "#Keep only movies\n",
    "imdb_titles_movies = imdb_titles[(imdb_titles['titleType'] == 'movie')|(imdb_titles['titleType'] =='tvMovie')]"
   ]
  },
  {
   "cell_type": "code",
   "execution_count": null,
   "metadata": {},
   "outputs": [],
   "source": [
    "#remove all accents from the title and make them lowercase\n",
    "movie_data['Name'] = movie_data['Name'].str.normalize('NFKD').str.encode('ascii', errors='ignore').str.decode('utf-8').str.lower()\n",
    "imdb_titles_movies['primaryTitle'] = imdb_titles_movies['primaryTitle'].str.normalize('NFKD').str.encode('ascii', errors='ignore').str.decode('utf-8').str.lower()\n",
    "imdb_titles_movies['originalTitle'] = imdb_titles_movies['originalTitle'].str.normalize('NFKD').str.encode('ascii', errors='ignore').str.decode('utf-8').str.lower()\n",
    "#take the first 4 characters of the release date to get only the year\n",
    "movie_data['Release_Date'] = movie_data['Release_Date'].str[:4]\n",
    "\n"
   ]
  },
  {
   "cell_type": "code",
   "execution_count": null,
   "metadata": {},
   "outputs": [],
   "source": [
    "#Merge the two dataframes on the title and the release date\n",
    "common_movies_ori = pd.merge(movie_data, imdb_titles_movies, left_on=['Name',\"Release_Date\"], right_on=['originalTitle',\"startYear\"], how='left')\n",
    "common_movies_pri = pd.merge(movie_data, imdb_titles_movies, left_on=['Name',\"Release_Date\"], right_on=['primaryTitle',\"startYear\"], how='left')\n",
    "common_movies = pd.concat([common_movies_ori, common_movies_pri])\n",
    "common_movies = common_movies.drop_duplicates(subset=['Name',\"Release_Date\"])\n",
    "\n"
   ]
  },
  {
   "cell_type": "code",
   "execution_count": null,
   "metadata": {},
   "outputs": [],
   "source": [
    "#Drop all the rows where the primaryTitle is null\n",
    "common_movies_dropna = common_movies.dropna(subset=['primaryTitle']).drop_duplicates(subset=[\"Name\",\"Release_Date\"])"
   ]
  },
  {
   "cell_type": "code",
   "execution_count": null,
   "metadata": {},
   "outputs": [],
   "source": [
    "#Keep the relevant columns\n",
    "name_id = common_movies_dropna[[\"tconst\",\"Wiki_ID\",\"Name\",\"Freebase_ID\",\"Release_Date\"]]"
   ]
  },
  {
   "cell_type": "code",
   "execution_count": 15,
   "metadata": {},
   "outputs": [],
   "source": [
    "#create csv\n",
    "name_id.to_csv(\"name_id.csv\",index=False)"
   ]
  },
  {
   "cell_type": "code",
   "execution_count": null,
   "metadata": {},
   "outputs": [],
   "source": [
    "scrap.scrap(\"name_id.csv\")"
   ]
  },
  {
   "cell_type": "code",
   "execution_count": 5,
   "metadata": {},
   "outputs": [],
   "source": [
    "#Merge all the files\n",
    "scrap.merge()"
   ]
  },
  {
   "cell_type": "code",
   "execution_count": 6,
   "metadata": {},
   "outputs": [],
   "source": [
    "merged = pd.read_csv(\"gross_merged.csv\")"
   ]
  },
  {
   "cell_type": "code",
   "execution_count": 22,
   "metadata": {},
   "outputs": [],
   "source": [
    "#Clean the data\n",
    "merged_clean = scrap.clean(merged)\n",
    "merged_clean = merged_clean[[\"tconst\",\"Wiki_ID\",\"Freebase_ID\",\"country\",\"movie\",\"gross\"]]"
   ]
  },
  {
   "cell_type": "code",
   "execution_count": 24,
   "metadata": {},
   "outputs": [],
   "source": [
    "merged_clean.to_csv(\"gross_merged_clean.csv\",index=False)"
   ]
  }
 ],
 "metadata": {
  "kernelspec": {
   "display_name": "Homework_ADA",
   "language": "python",
   "name": "python3"
  },
  "language_info": {
   "codemirror_mode": {
    "name": "ipython",
    "version": 3
   },
   "file_extension": ".py",
   "mimetype": "text/x-python",
   "name": "python",
   "nbconvert_exporter": "python",
   "pygments_lexer": "ipython3",
   "version": "3.9.18"
  }
 },
 "nbformat": 4,
 "nbformat_minor": 2
}
